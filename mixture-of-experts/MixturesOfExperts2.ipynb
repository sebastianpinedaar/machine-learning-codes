{
 "cells": [
  {
   "cell_type": "markdown",
   "metadata": {},
   "source": [
    "## Mixtures of experts\n",
    "### A. EM-algorithm"
   ]
  },
  {
   "cell_type": "code",
   "execution_count": 1,
   "metadata": {
    "collapsed": true
   },
   "outputs": [],
   "source": [
    "import numpy as np\n",
    "import pandas as pd\n",
    "import matplotlib.pyplot as plt\n",
    "\n",
    "%matplotlib inline"
   ]
  },
  {
   "cell_type": "code",
   "execution_count": 2,
   "metadata": {
    "collapsed": true
   },
   "outputs": [],
   "source": [
    "def softmax_gating(gamma, X):\n",
    "    \n",
    "    \"\"\"Softmax gating\"\"\"\n",
    "    \n",
    "    temp  = np.exp(np.matmul(X, gamma.T))\n",
    "    sum_temp = np.repeat( np.sum(temp,1).reshape(-1,1), repeats=n_components,axis=1)\n",
    "    softmax = np.divide(temp, sum_temp)\n",
    "    \n",
    "    return softmax\n",
    "\n",
    "\n",
    "def conditional_gaussian(X, y, beta, sigma):\n",
    "    \n",
    "    \"\"\"Conditional probability of the target\"\"\"\n",
    "    \n",
    "    y_hat = np.matmul(X, beta.T)\n",
    "    y_re = np.repeat(y, repeats=n_components, axis=1 )\n",
    "    output = np.exp((-(y_re-y_hat)**2)/(2*sigma**2)) / (np.sqrt(2*np.pi)*sigma)\n",
    "\n",
    "    return output\n",
    "\n",
    "def find_w (X, y, gamma, beta, sigma ):\n",
    "    \n",
    "    \"\"\"Computation of optimal w\"\"\"\n",
    "    \n",
    "    y_re = np.repeat(y, repeats=n_components, axis=1 )\n",
    "    temp1 = np.matmul(X, gamma.T)\n",
    "    temp2 = np.matmul(X, beta.T)\n",
    "    temp2 = (-(y_re-temp2)**2)/(2*sigma**2)\n",
    "    temp2 = np.exp(temp1 + temp2)\n",
    "    sum_temp = np.repeat( np.sum(temp2,1).reshape(-1,1), repeats=n_components,axis=1)\n",
    "    \n",
    "    output = np.divide(temp2, sum_temp)\n",
    "    \n",
    "    return output\n",
    "\n",
    "def find_sigma (X, y, gamma, beta):\n",
    "    \n",
    "    \"\"\"Computation of optimal sigma\"\"\"\n",
    "\n",
    "    y_re = np.repeat(y, repeats=n_components, axis=1 )\n",
    "    temp = np.matmul(X, beta.T)\n",
    "    output = np.sqrt(np.mean(np.multiply(w, (y_re-temp))**2))\n",
    "\n",
    "    return output\n",
    "\n",
    "def find_beta (X, y, w):\n",
    "    \n",
    "    \"\"\"Computation of optimal beta\"\"\"\n",
    "    \n",
    "    beta = np.zeros((n_components, n_features))\n",
    "    \n",
    "    for i in range(n_components):\n",
    "        beta[i,:] = (np.linalg.inv(X.T@np.diag(w[:,i])@X+\\\n",
    "            lambd*np.eye(n_features))@(X.T@np.diag(w[:,i])@y)).T\n",
    "        \n",
    "    return beta\n",
    "\n",
    "def grad_gamma(X, w, gamma):\n",
    "    \n",
    "    \"\"\"Gradient of loss w.r.t gamma\"\"\"\n",
    "    \n",
    "    S = softmax_gating(gamma, X)\n",
    "    output = X.T@(w-S)\n",
    "    return output\n",
    "\n",
    "def hessian_gamma(X, w, gamma):\n",
    "    \n",
    "    \"\"\"Hessian of the loss w.r.t. gamma\"\"\"\n",
    "    \n",
    "    S = softmax_gating(gamma, X)\n",
    "    hessian = np.zeros((n_components,n_features,n_features))\n",
    "    \n",
    "    for i in range(n_components):\n",
    "        S_ = np.diag(np.multiply(S[:,i], 1-S[:,i]))\n",
    "        hessian[i,:,:] = -X.T@S_@X + lambd*np.eye(n_features)\n",
    "        \n",
    "    return hessian\n",
    "\n",
    "def mixture_prediction(X, gamma, beta, sigma, w):\n",
    "    \n",
    "    \"\"\"Prediction of the mixture of experts\"\"\"\n",
    "    \n",
    "    mean = np.matmul(X, beta.T)\n",
    "    gate = softmax_gating(gamma, X)\n",
    "    output = np.sum(np.multiply(mean, gate), axis=1)\n",
    "    \n",
    "    return output\n",
    "\n",
    "def log_loss(X, y, gamma, beta, sigma, w):\n",
    "    \n",
    "    \"\"\"Logarithmic loss\"\"\"\n",
    "    \n",
    "    delta=0.000001\n",
    "    gate = softmax_gating(gamma, X)\n",
    "    cond = conditional_gaussian(X, y, beta, sigma)\n",
    "    output = np.sum(np.multiply(w, np.log(gate+delta)+np.log(cond+delta)))\n",
    "    \n",
    "    return -output\n",
    "\n",
    "\n",
    "def expectation_maximixation(X, y, gamma, beta, sigma, w, n_iterations):\n",
    "    \n",
    "    for j in range(n_iterations):\n",
    "        \n",
    "        #update beta\n",
    "        beta = find_beta(X, y,w)\n",
    "\n",
    "        #update sigma\n",
    "        sigma = find_sigma (X, y, gamma, beta)\n",
    "\n",
    "        #update gamma\n",
    "        grad = grad_gamma(X, w, gamma)\n",
    "        h = hessian_gamma(X, w, gamma)\n",
    "        prev_grad = 0\n",
    "        while (np.sum((grad-prev_grad)**2)>0.01):\n",
    "\n",
    "            for i in range(n_components):\n",
    "                gamma[i,:] = gamma[i,:] - \\\n",
    "                    0.01*(np.linalg.inv(h[i,:,:])@grad[:,i]).T\n",
    "            prev_grad = grad\n",
    "            grad = grad_gamma(X, w, gamma)\n",
    "            h = hessian_gamma(X, w, gamma)\n",
    "\n",
    "        #update w\n",
    "        w=find_w (X, y, gamma, beta, sigma)\n",
    "\n",
    "        #calculate loss\n",
    "        l = log_loss(X, y, gamma, beta, sigma, w)\n",
    "        \n",
    "    return gamma, beta, sigma, w"
   ]
  },
  {
   "cell_type": "markdown",
   "metadata": {},
   "source": [
    "### B. Fitting model and making predictions "
   ]
  },
  {
   "cell_type": "code",
   "execution_count": 3,
   "metadata": {},
   "outputs": [
    {
     "name": "stdout",
     "output_type": "stream",
     "text": [
      "Initial loss: 3111.647978349524\n"
     ]
    }
   ],
   "source": [
    "#reading the data\n",
    "file = open(\"heights1.dat\", 'r') #first column is age, second column is height\n",
    "text = file.read()\n",
    "lines = text.split(\"\\n\")\n",
    "lines_data = [l.split(\" \") for l in lines]\n",
    "lines_data = np.array(lines_data[1:-1]).astype(float)\n",
    "X = lines_data[:,0].reshape(-1,1)\n",
    "y = lines_data[:,1].reshape(-1,1)\n",
    "n_samples = X.shape[0]\n",
    "\n",
    "#normalizing data\n",
    "max_X = max(X)\n",
    "max_y = max(y)\n",
    "\n",
    "X = X/max_X\n",
    "y = y/max_y\n",
    "\n",
    "X = np.hstack((np.ones((n_samples,1)), X))\n",
    "\n",
    "#initialize variables and parameters\n",
    "n_components = 2\n",
    "n_features = 2\n",
    "gamma = np.random.random((n_components, n_features))*0.001\n",
    "beta= np.random.random((n_components, n_features))*0.001\n",
    "sigma = 0.1\n",
    "lambd = 0.00001\n",
    "n_iterations = 100\n",
    "\n",
    "w=find_w (X, y, gamma, beta, sigma)\n",
    "\n",
    "l = log_loss(X, y, gamma, beta, sigma, w)\n",
    "print(\"Initial loss:\", l)"
   ]
  },
  {
   "cell_type": "code",
   "execution_count": 4,
   "metadata": {},
   "outputs": [
    {
     "name": "stdout",
     "output_type": "stream",
     "text": [
      "Training model...\n"
     ]
    }
   ],
   "source": [
    "print(\"Training model...\")\n",
    "gamma, beta, sigma, w = expectation_maximixation(X, y, gamma, \\\n",
    "                                        beta, sigma, w, n_iterations)"
   ]
  },
  {
   "cell_type": "code",
   "execution_count": 5,
   "metadata": {},
   "outputs": [
    {
     "data": {
      "text/plain": [
       "Text(0,0.5,'Height (cm)')"
      ]
     },
     "execution_count": 5,
     "metadata": {},
     "output_type": "execute_result"
    },
    {
     "data": {
      "image/png": "[encoded data removed]",
      "text/plain": [
       "<matplotlib.figure.Figure at 0x22a03bf5160>"
      ]
     },
     "metadata": {},
     "output_type": "display_data"
    }
   ],
   "source": [
    "y_hat= mixture_prediction(X, gamma, beta, sigma, w)\n",
    "y_hat=y_hat*max_y\n",
    "\n",
    "y_original=y*max_y\n",
    "\n",
    "plt.plot(X[:,1]*max_X, y_original,\"*\")\n",
    "plt.plot(X[:,1]*max_X, y_hat, \"*\")\n",
    "plt.grid()\n",
    "plt.legend((\"Ground Truth\", \"Prediction\"))\n",
    "plt.xlabel(\"Age (Months)\")\n",
    "plt.ylabel(\"Height (cm)\")"
   ]
  },
  {
   "cell_type": "code",
   "execution_count": 6,
   "metadata": {},
   "outputs": [
    {
     "name": "stdout",
     "output_type": "stream",
     "text": [
      "Gamma: [[ 5.13131502 -6.60316152]\n",
      " [-5.13048113  6.60400444]]\n",
      "Beta: [[0.44419972 0.66525488]\n",
      " [0.79762138 0.17073626]]\n",
      "Sigma: 0.05818507404532477\n"
     ]
    }
   ],
   "source": [
    "print(\"Gamma:\", gamma)\n",
    "print(\"Beta:\", beta)\n",
    "print(\"Sigma:\", sigma)"
   ]
  },
  {
   "cell_type": "code",
   "execution_count": 7,
   "metadata": {},
   "outputs": [
    {
     "data": {
      "text/plain": [
       "Text(0.5,1,'Gating function')"
      ]
     },
     "execution_count": 7,
     "metadata": {},
     "output_type": "execute_result"
    },
    {
     "data": {
      "image/png": "[encoded data removed]",
      "text/plain": [
       "<matplotlib.figure.Figure at 0x22a03bf59b0>"
      ]
     },
     "metadata": {},
     "output_type": "display_data"
    }
   ],
   "source": [
    "X_test = np.linspace(0,250).reshape(-1,1)\n",
    "X_test = np.hstack((np.ones((X_test.shape[0],1)), X_test))\n",
    "y_test = softmax_gating(gamma,X_test/max_X)\n",
    "plt.plot(X_test[:, 1], y_test)\n",
    "plt.grid()\n",
    "plt.title(\"Gating function\")"
   ]
  },
  {
   "cell_type": "markdown",
   "metadata": {},
   "source": [
    "### C.\n",
    "\n"
   ]
  },
  {
   "cell_type": "code",
   "execution_count": 8,
   "metadata": {},
   "outputs": [
    {
     "name": "stdout",
     "output_type": "stream",
     "text": [
      "Initial loss: 6420.150746287205\n"
     ]
    }
   ],
   "source": [
    "#reading the data\n",
    "file = open(\"heights2-2.dat\", 'r') #first column is age, second column is height\n",
    "text = file.read()\n",
    "lines = text.split(\"\\n\")\n",
    "lines_data = [l.split(\" \") for l in lines]\n",
    "lines_data = np.array(lines_data[1:-1]).astype(float)\n",
    "X = lines_data[:,0].reshape(-1,1)\n",
    "y = lines_data[:,1].reshape(-1,1)\n",
    "n_samples = X.shape[0]\n",
    "\n",
    "#normalizing data\n",
    "max_X = max(X)\n",
    "max_y = max(y)\n",
    "\n",
    "X = X/max_X\n",
    "y = y/max_y\n",
    "\n",
    "X = np.hstack((np.ones((n_samples,1)), X))\n",
    "\n",
    "#initialize variables and parameters\n",
    "n_components = 3\n",
    "n_features = 2\n",
    "gamma = np.random.random((n_components, n_features))*0.001\n",
    "beta= np.random.random((n_components, n_features))*0.001\n",
    "#w = np.random.random((n_samples, n_components))\n",
    "sigma = 0.1\n",
    "lambd = 0.00001\n",
    "n_iterations = 100\n",
    "\n",
    "w=find_w (X, y, gamma, beta, sigma)\n",
    "\n",
    "l = log_loss(X, y, gamma, beta, sigma, w)\n",
    "print(\"Initial loss:\", l)"
   ]
  },
  {
   "cell_type": "code",
   "execution_count": 9,
   "metadata": {},
   "outputs": [
    {
     "name": "stdout",
     "output_type": "stream",
     "text": [
      "Training model...\n"
     ]
    }
   ],
   "source": [
    "print(\"Training model...\")\n",
    "gamma, beta, sigma, w = expectation_maximixation(X, y, gamma, beta, sigma, w, n_iterations)"
   ]
  },
  {
   "cell_type": "code",
   "execution_count": 12,
   "metadata": {},
   "outputs": [
    {
     "data": {
      "text/plain": [
       "Text(0,0.5,'Height (cm)')"
      ]
     },
     "execution_count": 12,
     "metadata": {},
     "output_type": "execute_result"
    },
    {
     "data": {
      "image/png": "[encoded data removed]",
      "text/plain": [
       "<matplotlib.figure.Figure at 0x22a05f106a0>"
      ]
     },
     "metadata": {},
     "output_type": "display_data"
    }
   ],
   "source": [
    "y_hat= mixture_prediction(X, gamma, beta, sigma, w)\n",
    "y_hat=y_hat*max_y\n",
    "\n",
    "y_original=y*max_y\n",
    "\n",
    "plt.plot(X[:,1]*max_X, y_original,\".\")\n",
    "plt.plot(X[:,1]*max_X, y_hat, \".\")\n",
    "plt.grid()\n",
    "plt.legend((\"Ground Truth\", \"Prediction\"))\n",
    "plt.xlabel(\"Age (Months)\")\n",
    "plt.ylabel(\"Height (cm)\")"
   ]
  },
  {
   "cell_type": "code",
   "execution_count": 49,
   "metadata": {},
   "outputs": [
    {
     "name": "stdout",
     "output_type": "stream",
     "text": [
      "Gamma: [[  2.67280952  -4.43374797]\n",
      " [  0.31008364  -0.59673557]\n",
      " [-16.19387144  21.089807  ]]\n",
      "Beta: [[0.43645282 0.6910093 ]\n",
      " [0.4518045  0.65692683]\n",
      " [0.82566161 0.143176  ]]\n",
      "Sigma: 0.03402452936693865\n"
     ]
    }
   ],
   "source": [
    "print(\"Gamma:\", gamma)\n",
    "print(\"Beta:\", beta)\n",
    "print(\"Sigma:\", sigma)"
   ]
  },
  {
   "cell_type": "code",
   "execution_count": 50,
   "metadata": {},
   "outputs": [
    {
     "data": {
      "text/plain": [
       "Text(0.5,1,'Gating function')"
      ]
     },
     "execution_count": 50,
     "metadata": {},
     "output_type": "execute_result"
    },
    {
     "data": {
      "image/png": "[encoded data removed]",
      "text/plain": [
       "<matplotlib.figure.Figure at 0x245bf19fc50>"
      ]
     },
     "metadata": {},
     "output_type": "display_data"
    }
   ],
   "source": [
    "X_test = np.linspace(0,250).reshape(-1,1)\n",
    "X_test = np.hstack((np.ones((X_test.shape[0],1)), X_test))\n",
    "y_test = softmax_gating(gamma,X_test/max_X)\n",
    "plt.plot(X_test[:, 1], y_test)\n",
    "plt.grid()\n",
    "plt.title(\"Gating function\")"
   ]
  },
  {
   "cell_type": "markdown",
   "metadata": {},
   "source": [
    "Prediction for a person of 21 years old: "
   ]
  },
  {
   "cell_type": "code",
   "execution_count": 13,
   "metadata": {},
   "outputs": [
    {
     "name": "stdout",
     "output_type": "stream",
     "text": [
      "Prediction for person with 21 years old 173.34129042368576\n"
     ]
    }
   ],
   "source": [
    "y_pred = mixture_prediction(np.array([[1,(21*12)/max_X[0]]]), gamma, beta, sigma, w)\n",
    "print(\"Prediction for person with 21 years old\", (y_pred*max_y)[0])"
   ]
  }
 ],
 "metadata": {
  "kernelspec": {
   "display_name": "Python 3",
   "language": "python",
   "name": "python3"
  },
  "language_info": {
   "codemirror_mode": {
    "name": "ipython",
    "version": 3
   },
   "file_extension": ".py",
   "mimetype": "text/x-python",
   "name": "python",
   "nbconvert_exporter": "python",
   "pygments_lexer": "ipython3",
   "version": "3.6.3"
  }
 },
 "nbformat": 4,
 "nbformat_minor": 2
}
