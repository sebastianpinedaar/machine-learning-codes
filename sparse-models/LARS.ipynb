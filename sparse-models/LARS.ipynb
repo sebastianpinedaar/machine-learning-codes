{
 "cells": [
  {
   "cell_type": "code",
   "execution_count": 1,
   "metadata": {
    "collapsed": true
   },
   "outputs": [],
   "source": [
    "import numpy as np"
   ]
  },
  {
   "cell_type": "code",
   "execution_count": 2,
   "metadata": {
    "collapsed": true
   },
   "outputs": [],
   "source": [
    "def increase_A(X, y, beta, A):\n",
    "    \n",
    "    y_pred = X@beta\n",
    "    C = X.T@(y-y_pred)\n",
    "\n",
    "    if(len(A)==0):\n",
    "        new_m = np.argmax(np.abs(C))\n",
    "        max_C = C[new_m]\n",
    "    elif(len(A_c.difference(A))==0):\n",
    "        return A, 0\n",
    "    else:\n",
    "        new_m = np.argmax(np.abs(C[list(A_c.difference(A))]))\n",
    "        max_C = C[list(A_c.difference(A))][new_m]\n",
    "    A.add(list(A_c.difference(A))[new_m])\n",
    "    \n",
    "    return A, np.abs(max_C)\n",
    "    \n"
   ]
  },
  {
   "cell_type": "code",
   "execution_count": 3,
   "metadata": {
    "collapsed": true
   },
   "outputs": [],
   "source": [
    "def reg_residual(X, y, beta, A):\n",
    "    \n",
    "    X_k = X[:, list(A)]\n",
    "    beta_ = beta[list(A)]\n",
    "    print(\"X_k:\",X_k)\n",
    "    gamma = np.linalg.inv(X_k.T@X_k)@X_k.T@(y-X_k@beta_)\n",
    "    return gamma\n",
    "\n"
   ]
  },
  {
   "cell_type": "code",
   "execution_count": 19,
   "metadata": {
    "collapsed": true
   },
   "outputs": [],
   "source": [
    "def get_u(X, A, y, beta):\n",
    "    \n",
    "    X_k = X[:, list(A)]\n",
    "    d=np.linalg.inv(X_k.T@X_k)@X_k.T@(y-X@beta)\n",
    "    u = X_k@d\n",
    "    print(\"d\",d)\n",
    "    return u\n",
    "\n",
    "\n",
    "    "
   ]
  },
  {
   "cell_type": "code",
   "execution_count": 20,
   "metadata": {
    "collapsed": true
   },
   "outputs": [],
   "source": [
    "def get_alpha (X, y, gamma, A, beta, max_C,u):\n",
    "    \n",
    "    \n",
    "    if (len(A_c.difference(A))>0):     \n",
    "        y_pred = X@beta\n",
    "        C_j = X[:,list(A_c.difference(A))].T@(y-y_pred)\n",
    "        X_cr = X[:,list(A_c.difference(A))].T@u\n",
    "        a = np.vstack((np.divide(max_C-C_j, max_C-X_cr), np.divide(max_C+C_j, max_C+X_cr)))\n",
    "        \n",
    "        print(\"C_j:\", C_j)\n",
    "        print(\"X_cr:\", X_cr)\n",
    "        print(\"a:\", a)\n",
    "    else:\n",
    "        return 1\n",
    "    \n",
    "    return np.min(a)\n",
    "    \n"
   ]
  },
  {
   "cell_type": "code",
   "execution_count": 21,
   "metadata": {
    "collapsed": true
   },
   "outputs": [],
   "source": [
    "X = np.array([[-1, -1, 0],\n",
    "              [0, 1, 2],\n",
    "              [1, -1, -2],\n",
    "              [2, 2, 1]]).astype(float)\n",
    "\n",
    "y = np.array([[-1],\n",
    "              [0],\n",
    "              [3],\n",
    "              [3]]).astype(float)\n",
    "\n",
    "beta = np.array([[0],\n",
    "                 [0],\n",
    "                 [0]]).astype(float)\n",
    "\n",
    "A = set()\n",
    "A_c = set(np.arange(X.shape[1]))\n"
   ]
  },
  {
   "cell_type": "code",
   "execution_count": 22,
   "metadata": {},
   "outputs": [
    {
     "name": "stdout",
     "output_type": "stream",
     "text": [
      ".................Iteration  1 ...............................\n",
      "X_k: [[-1.]\n",
      " [ 0.]\n",
      " [ 1.]\n",
      " [ 2.]]\n",
      "d [[1.66666667]]\n",
      "C_j: [[ 4.]\n",
      " [-3.]]\n",
      "X_cr: [[6.66666667]\n",
      " [0.        ]]\n",
      "a: [[1.8 ]\n",
      " [1.3 ]\n",
      " [0.84]\n",
      " [0.7 ]]\n",
      "Residual: [[-1.]\n",
      " [ 0.]\n",
      " [ 3.]\n",
      " [ 3.]]\n",
      "A {0}\n",
      "alpha: 0.7 C_max [10.]\n",
      "u: [[-1.66666667]\n",
      " [ 0.        ]\n",
      " [ 1.66666667]\n",
      " [ 3.33333333]]\n",
      "C: [[10.]\n",
      " [ 4.]\n",
      " [-3.]]\n",
      "C max: [10.]\n",
      "y pred: [[0.]\n",
      " [0.]\n",
      " [0.]\n",
      " [0.]]\n",
      "Gamma: [[1.66666667]]\n",
      "Alpha: 0.7\n",
      "Beta: [[1.16666667]\n",
      " [0.        ]\n",
      " [0.        ]]\n",
      ".................Iteration  2 ...............................\n",
      "X_k: [[-1.  0.]\n",
      " [ 0.  2.]\n",
      " [ 1. -2.]\n",
      " [ 2.  1.]]\n",
      "d [[ 0.5       ]\n",
      " [-0.33333333]]\n",
      "C_j: [[-0.66666667]]\n",
      "X_cr: [[6.66133815e-16]]\n",
      "a: [[1.22222222]\n",
      " [0.77777778]]\n",
      "Residual: [[0.16666667]\n",
      " [0.        ]\n",
      " [1.83333333]\n",
      " [0.66666667]]\n",
      "A {0, 2}\n",
      "alpha: 0.7777777777777778 C_max [3.]\n",
      "u: [[-0.5       ]\n",
      " [-0.66666667]\n",
      " [ 1.16666667]\n",
      " [ 0.66666667]]\n",
      "C: [[ 3.        ]\n",
      " [-0.66666667]\n",
      " [-3.        ]]\n",
      "C max: [3.]\n",
      "y pred: [[-1.16666667]\n",
      " [ 0.        ]\n",
      " [ 1.16666667]\n",
      " [ 2.33333333]]\n",
      "Gamma: [[ 0.5       ]\n",
      " [-0.33333333]]\n",
      "Alpha: 0.7777777777777778\n",
      "Beta: [[ 1.55555556]\n",
      " [ 0.        ]\n",
      " [-0.25925926]]\n",
      ".................Iteration  3 ...............................\n",
      "X_k: [[-1. -1.  0.]\n",
      " [ 0.  1.  2.]\n",
      " [ 1. -1. -2.]\n",
      " [ 2.  2.  1.]]\n",
      "d [[ 1.44444444]\n",
      " [-2.        ]\n",
      " [ 1.25925926]]\n",
      "Residual: [[0.55555556]\n",
      " [0.51851852]\n",
      " [0.92592593]\n",
      " [0.14814815]]\n",
      "A {0, 1, 2}\n",
      "alpha: 1 C_max [0.66666667]\n",
      "u: [[0.55555556]\n",
      " [0.51851852]\n",
      " [0.92592593]\n",
      " [0.14814815]]\n",
      "C: [[ 0.66666667]\n",
      " [-0.66666667]\n",
      " [-0.66666667]]\n",
      "C max: [0.66666667]\n",
      "y pred: [[-1.55555556]\n",
      " [-0.51851852]\n",
      " [ 2.07407407]\n",
      " [ 2.85185185]]\n",
      "Gamma: [[ 1.44444444]\n",
      " [-2.        ]\n",
      " [ 1.25925926]]\n",
      "Alpha: 1\n",
      "Beta: [[ 3.]\n",
      " [-2.]\n",
      " [ 1.]]\n"
     ]
    }
   ],
   "source": [
    "\n",
    "iteration=0\n",
    "while(len(A)< X.shape[1]):\n",
    "    \n",
    "    iteration+=1\n",
    "    print(\".................Iteration \", iteration, \"...............................\")\n",
    "    \n",
    "    #chosse predictors\n",
    "    A, max_C = increase_A(X, y, beta, A)\n",
    "\n",
    "    #regress predictors\n",
    "    gamma = reg_residual(X, y, beta, A)\n",
    "\n",
    "    #compute alpha\n",
    "    u = get_u(X, A, y, beta)\n",
    "    alpha = get_alpha (X, y, gamma, A, beta, max_C,u)\n",
    "\n",
    "    \n",
    "        \n",
    "    y_pred = X@beta\n",
    "    C = X.T@(y-y_pred)\n",
    "    print(\"Residual:\", y-y_pred)\n",
    "    print(\"A\", A)\n",
    "    print(\"alpha:\", alpha, \"C_max\", max_C)\n",
    "    print(\"u:\", u)\n",
    "\n",
    "    #update\n",
    "    for i,j in enumerate(list(A)):\n",
    "        beta[j] = beta[j] + alpha*gamma[i]\n",
    "        \n",
    "\n",
    "    print(\"C:\", C )\n",
    "    print(\"C max:\", max_C)\n",
    "    print(\"y pred:\", y_pred)\n",
    "    print(\"Gamma:\", gamma)\n",
    "    print(\"Alpha:\", alpha)\n",
    "    print(\"Beta:\", beta)"
   ]
  },
  {
   "cell_type": "code",
   "execution_count": null,
   "metadata": {
    "collapsed": true
   },
   "outputs": [],
   "source": []
  },
  {
   "cell_type": "code",
   "execution_count": null,
   "metadata": {
    "collapsed": true
   },
   "outputs": [],
   "source": []
  }
 ],
 "metadata": {
  "kernelspec": {
   "display_name": "Python 3",
   "language": "python",
   "name": "python3"
  }
 },
 "nbformat": 4,
 "nbformat_minor": 2
}
