{
 "cells": [
  {
   "cell_type": "code",
   "execution_count": 5,
   "metadata": {
    "collapsed": true
   },
   "outputs": [],
   "source": [
    "import numpy as np\n",
    "import matplotlib.pyplot as plt\n",
    "%matplotlib inline"
   ]
  },
  {
   "cell_type": "code",
   "execution_count": 14,
   "metadata": {
    "collapsed": true
   },
   "outputs": [],
   "source": [
    "def grad(X, y, beta):\n",
    "    \n",
    "    print(\"X@beta:\", X.T@beta)\n",
    "    print(\"y-X@beta\", y-X.T@beta)\n",
    "    \n",
    "    return -X.T@(y-X.T@beta)\n"
   ]
  },
  {
   "cell_type": "code",
   "execution_count": 15,
   "metadata": {
    "collapsed": true
   },
   "outputs": [],
   "source": [
    "def soft( u, w):\n",
    "    \n",
    "    if(u<=-w):\n",
    "        return u+w\n",
    "    elif(u>=w):\n",
    "        return u-w\n",
    "    else:\n",
    "        return 0"
   ]
  },
  {
   "cell_type": "code",
   "execution_count": 16,
   "metadata": {},
   "outputs": [
    {
     "data": {
      "text/plain": [
       "[<matplotlib.lines.Line2D at 0x1887334c780>]"
      ]
     },
     "execution_count": 16,
     "metadata": {},
     "output_type": "execute_result"
    },
    {
     "data": {
      "image/png": "[encoded data removed]",
      "text/plain": [
       "<matplotlib.figure.Figure at 0x188731b08d0>"
      ]
     },
     "metadata": {},
     "output_type": "display_data"
    }
   ],
   "source": [
    "X_test = np.arange(100)/10-5\n",
    "y_test = [soft(i, 2) for i in X_test]\n",
    "plt.plot(X_test, y_test)"
   ]
  },
  {
   "cell_type": "code",
   "execution_count": 17,
   "metadata": {
    "collapsed": true
   },
   "outputs": [],
   "source": [
    "def update_alpha (theta1, theta2, g1, g2):\n",
    "    \n",
    "    return ((theta1-theta2).T@(g1-g2))/((theta1-theta2).T@(theta1-theta2))"
   ]
  },
  {
   "cell_type": "code",
   "execution_count": 18,
   "metadata": {
    "collapsed": true
   },
   "outputs": [],
   "source": [
    "def nesterov_update(theta1, theta2,k):\n",
    "    return theta1 + ((k-1)/(k+2))*(theta1-theta2)"
   ]
  },
  {
   "cell_type": "code",
   "execution_count": 19,
   "metadata": {
    "collapsed": true
   },
   "outputs": [],
   "source": [
    "def update_l (X, r, l_):\n",
    "    print(\"X@r:\", X.T@r)\n",
    "    print(\"sX@r:\", s*X.T@r)\n",
    "    return max(list(s*X.T@r)+[l])\n",
    "\n",
    "\n",
    "\n"
   ]
  },
  {
   "cell_type": "code",
   "execution_count": 23,
   "metadata": {
    "collapsed": true
   },
   "outputs": [],
   "source": [
    "X = np.array([[0, 1, 0],\n",
    "              [0.5, 0.5, 1],\n",
    "              [1, 0, 0]])\n",
    "y = r = np.array([[1],\n",
    "              [0.75],\n",
    "              [0.5]])\n",
    "beta = beta1= g1= np.array([[0],\n",
    "                 [0],\n",
    "                 [0]])\n",
    "l = l_ = 0.1\n",
    "s=0.5\n",
    "alpha = 1.0"
   ]
  },
  {
   "cell_type": "code",
   "execution_count": 24,
   "metadata": {},
   "outputs": [
    {
     "name": "stdout",
     "output_type": "stream",
     "text": [
      "..................Iteration  1 ...............\n",
      "X@r: [[0.875]\n",
      " [1.375]\n",
      " [0.75 ]]\n",
      "sX@r: [[0.4375]\n",
      " [0.6875]\n",
      " [0.375 ]]\n",
      "l: [0.6875]\n",
      "beta after nest: [[0]\n",
      " [0]\n",
      " [0]]\n",
      "X@beta: [[0.]\n",
      " [0.]\n",
      " [0.]]\n",
      "y-X@beta [[1.  ]\n",
      " [0.75]\n",
      " [0.5 ]]\n",
      "g: [[-0.875]\n",
      " [-1.375]\n",
      " [-0.75 ]]\n",
      "u: [[0.875]\n",
      " [1.375]\n",
      " [0.75 ]]\n",
      "beta1: [[0.1875]\n",
      " [0.6875]\n",
      " [0.0625]]\n",
      "beta: [[0]\n",
      " [0]\n",
      " [0]]\n",
      "alpha: -2.2595419847328246\n",
      "r: [[ 0.59375]\n",
      " [ 0.21875]\n",
      " [-0.1875 ]]\n",
      "..................Iteration  2 ...............\n",
      "X@r: [[-0.078125]\n",
      " [ 0.703125]\n",
      " [ 0.21875 ]]\n",
      "sX@r: [[-0.0390625]\n",
      " [ 0.3515625]\n",
      " [ 0.109375 ]]\n",
      "l: [0.6875]\n",
      "beta after nest: [[0]\n",
      " [0]\n",
      " [0]]\n",
      "X@beta: [[0.]\n",
      " [0.]\n",
      " [0.]]\n",
      "y-X@beta [[1.  ]\n",
      " [0.75]\n",
      " [0.5 ]]\n",
      "g: [[-0.875]\n",
      " [-1.375]\n",
      " [-0.75 ]]\n",
      "u: [[-0.38724662]\n",
      " [-0.60853041]\n",
      " [-0.33192568]]\n",
      "beta1: [[-0.69151182]\n",
      " [-0.91279561]\n",
      " [-0.63619088]]\n",
      "beta: [[0.1875]\n",
      " [0.6875]\n",
      " [0.0625]]\n",
      "alpha: 0.0\n",
      "r: [[2.09258868]\n",
      " [1.89790963]\n",
      " [1.41279561]]\n",
      "..................Iteration  3 ...............\n",
      "X@r: [[2.36175042]\n",
      " [3.0415435 ]\n",
      " [1.89790963]]\n",
      "sX@r: [[1.18087521]\n",
      " [1.52077175]\n",
      " [0.94895481]]\n",
      "l: [1.52077175]\n",
      "beta after nest: [[0.1875]\n",
      " [0.6875]\n",
      " [0.0625]]\n",
      "X@beta: [[0.40625]\n",
      " [0.53125]\n",
      " [0.6875 ]]\n",
      "y-X@beta [[ 0.59375]\n",
      " [ 0.21875]\n",
      " [-0.1875 ]]\n",
      "g: [[ 0.078125]\n",
      " [-0.703125]\n",
      " [-0.21875 ]]\n",
      "u: [[-inf]\n",
      " [ inf]\n",
      " [ inf]]\n",
      "beta1: [[nan]\n",
      " [nan]\n",
      " [nan]]\n",
      "beta: [[-0.69151182]\n",
      " [-0.91279561]\n",
      " [-0.63619088]]\n",
      "alpha: nan\n",
      "r: [[nan]\n",
      " [nan]\n",
      " [nan]]\n"
     ]
    },
    {
     "name": "stderr",
     "output_type": "stream",
     "text": [
      "C:\\Users\\User\\Anaconda3\\lib\\site-packages\\ipykernel_launcher.py:10: RuntimeWarning: divide by zero encountered in double_scalars\n",
      "  # Remove the CWD from sys.path while we load stuff.\n",
      "C:\\Users\\User\\Anaconda3\\lib\\site-packages\\ipykernel_launcher.py:13: RuntimeWarning: divide by zero encountered in true_divide\n",
      "  del sys.path[0]\n",
      "C:\\Users\\User\\Anaconda3\\lib\\site-packages\\ipykernel_launcher.py:4: RuntimeWarning: invalid value encountered in add\n",
      "  after removing the cwd from sys.path.\n",
      "C:\\Users\\User\\Anaconda3\\lib\\site-packages\\ipykernel_launcher.py:6: RuntimeWarning: invalid value encountered in subtract\n",
      "  \n"
     ]
    }
   ],
   "source": [
    "for k in range(1,4):\n",
    "    print(\"..................Iteration \",k, \"...............\")\n",
    "    l = update_l (X, r, l_)\n",
    "    print(\"l:\",l)\n",
    "    print(\"beta after nest:\", beta)\n",
    "\n",
    "    g = grad(X, y, beta)\n",
    "    print(\"g:\",g)\n",
    "   \n",
    "    u = beta - (1/alpha)*g\n",
    "    print(\"u:\", u)\n",
    "    beta = beta1\n",
    "    beta1 = np.array([float(soft(i, l/alpha)) for i in u]).reshape(-1,1)\n",
    "    print(\"beta1:\", beta1)\n",
    "    print(\"beta:\", beta)\n",
    "    \n",
    "    alpha = update_alpha(beta1, beta, g, g1)[0][0]\n",
    "    print(\"alpha:\", alpha)\n",
    "\n",
    "    \n",
    "    g1 = g\n",
    "    r = y - X.T@beta1\n",
    "    print(\"r:\", r)"
   ]
  },
  {
   "cell_type": "code",
   "execution_count": 22,
   "metadata": {},
   "outputs": [
    {
     "name": "stdout",
     "output_type": "stream",
     "text": [
      "..................Iteration  0 ...............\n",
      "X@r: [[2.36175042]\n",
      " [3.0415435 ]\n",
      " [1.89790963]]\n",
      "sX@r: [[1.18087521]\n",
      " [1.52077175]\n",
      " [0.94895481]]\n",
      "l: [1.52077175]\n",
      "X@beta: [[0.40625]\n",
      " [0.53125]\n",
      " [0.6875 ]]\n",
      "y-X@beta [[ 0.59375]\n",
      " [ 0.21875]\n",
      " [-0.1875 ]]\n",
      "g: [[ 0.078125]\n",
      " [-0.703125]\n",
      " [-0.21875 ]]\n",
      "u: [[-inf]\n",
      " [ inf]\n",
      " [ inf]]\n",
      "beta1: [[nan]\n",
      " [nan]\n",
      " [nan]]\n",
      "beta: [[0.1875]\n",
      " [0.6875]\n",
      " [0.0625]]\n",
      "alpha: nan\n",
      "r: [[nan]\n",
      " [nan]\n",
      " [nan]]\n",
      "..................Iteration  1 ...............\n",
      "X@r: [[nan]\n",
      " [nan]\n",
      " [nan]]\n",
      "sX@r: [[nan]\n",
      " [nan]\n",
      " [nan]]\n",
      "l: [nan]\n",
      "X@beta: [[nan]\n",
      " [nan]\n",
      " [nan]]\n",
      "y-X@beta [[nan]\n",
      " [nan]\n",
      " [nan]]\n",
      "g: [[nan]\n",
      " [nan]\n",
      " [nan]]\n",
      "u: [[nan]\n",
      " [nan]\n",
      " [nan]]\n",
      "beta1: [[0.]\n",
      " [0.]\n",
      " [0.]]\n",
      "beta: [[nan]\n",
      " [nan]\n",
      " [nan]]\n",
      "alpha: nan\n",
      "r: [[1.  ]\n",
      " [0.75]\n",
      " [0.5 ]]\n",
      "..................Iteration  2 ...............\n",
      "X@r: [[0.875]\n",
      " [1.375]\n",
      " [0.75 ]]\n",
      "sX@r: [[0.4375]\n",
      " [0.6875]\n",
      " [0.375 ]]\n",
      "l: [0.6875]\n",
      "X@beta: [[0.]\n",
      " [0.]\n",
      " [0.]]\n",
      "y-X@beta [[1.  ]\n",
      " [0.75]\n",
      " [0.5 ]]\n",
      "g: [[-0.875]\n",
      " [-1.375]\n",
      " [-0.75 ]]\n",
      "u: [[nan]\n",
      " [nan]\n",
      " [nan]]\n",
      "beta1: [[0.]\n",
      " [0.]\n",
      " [0.]]\n",
      "beta: [[0.]\n",
      " [0.]\n",
      " [0.]]\n",
      "alpha: nan\n",
      "r: [[1.  ]\n",
      " [0.75]\n",
      " [0.5 ]]\n"
     ]
    },
    {
     "name": "stderr",
     "output_type": "stream",
     "text": [
      "C:\\Users\\User\\Anaconda3\\lib\\site-packages\\ipykernel_launcher.py:8: RuntimeWarning: divide by zero encountered in double_scalars\n",
      "  \n",
      "C:\\Users\\User\\Anaconda3\\lib\\site-packages\\ipykernel_launcher.py:10: RuntimeWarning: divide by zero encountered in true_divide\n",
      "  # Remove the CWD from sys.path while we load stuff.\n",
      "C:\\Users\\User\\Anaconda3\\lib\\site-packages\\ipykernel_launcher.py:4: RuntimeWarning: invalid value encountered in add\n",
      "  after removing the cwd from sys.path.\n",
      "C:\\Users\\User\\Anaconda3\\lib\\site-packages\\ipykernel_launcher.py:6: RuntimeWarning: invalid value encountered in subtract\n",
      "  \n",
      "C:\\Users\\User\\Anaconda3\\lib\\site-packages\\ipykernel_launcher.py:4: RuntimeWarning: invalid value encountered in greater\n",
      "  after removing the cwd from sys.path.\n",
      "C:\\Users\\User\\Anaconda3\\lib\\site-packages\\ipykernel_launcher.py:3: RuntimeWarning: invalid value encountered in less_equal\n",
      "  This is separate from the ipykernel package so we can avoid doing imports until\n",
      "C:\\Users\\User\\Anaconda3\\lib\\site-packages\\ipykernel_launcher.py:5: RuntimeWarning: invalid value encountered in greater_equal\n",
      "  \"\"\"\n"
     ]
    }
   ],
   "source": [
    "for k in range(3):\n",
    "    print(\"..................Iteration \",k, \"...............\")\n",
    "    l = update_l (X, r, l_)\n",
    "    print(\"l:\",l)\n",
    "    g = grad(X, y, beta)\n",
    "    print(\"g:\",g)\n",
    "   \n",
    "    u = beta - (1/alpha)*g\n",
    "    print(\"u:\", u)\n",
    "    beta1 = np.array([float(soft(i, l/alpha)) for i in u]).reshape(-1,1)\n",
    "    print(\"beta1:\", beta1)\n",
    "    print(\"beta:\", beta)\n",
    "    \n",
    "    alpha = update_alpha(beta1, beta, g, g1)[0][0]\n",
    "    print(\"alpha:\", alpha)\n",
    "\n",
    "    beta = beta1\n",
    "    g1 = g\n",
    "    r = y - X@beta\n",
    "    print(\"r:\", r)"
   ]
  },
  {
   "cell_type": "code",
   "execution_count": null,
   "metadata": {
    "collapsed": true
   },
   "outputs": [],
   "source": []
  }
 ],
 "metadata": {
  "kernelspec": {
   "display_name": "Python 3",
   "language": "python",
   "name": "python3"
  },
  "language_info": {
   "codemirror_mode": {
    "name": "ipython",
    "version": 3
   },
   "file_extension": ".py",
   "mimetype": "text/x-python",
   "name": "python",
   "nbconvert_exporter": "python",
   "pygments_lexer": "ipython3",
   "version": "3.6.3"
  }
 },
 "nbformat": 4,
 "nbformat_minor": 2
}
