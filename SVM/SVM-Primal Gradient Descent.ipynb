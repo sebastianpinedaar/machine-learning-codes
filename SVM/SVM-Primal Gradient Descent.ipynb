{
 "cells": [
  {
   "cell_type": "code",
   "execution_count": 123,
   "metadata": {
    "collapsed": true
   },
   "outputs": [],
   "source": [
    "import numpy as np\n"
   ]
  },
  {
   "cell_type": "code",
   "execution_count": 132,
   "metadata": {
    "collapsed": true
   },
   "outputs": [],
   "source": [
    "X = np.array([[1.0,0.,2.],\n",
    "              [1.,2.,0.],\n",
    "              [1.,2,2.],\n",
    "              [1.,1.,1.]])\n",
    "\n",
    "y = np.array([[1],[-1],[1],[-1]])\n",
    "alpha = [0, 0,0,0]\n",
    "beta = np.array([0,0,0])\n",
    "N=X.shape[0]\n",
    "lamb = 1\n"
   ]
  },
  {
   "cell_type": "code",
   "execution_count": 133,
   "metadata": {
    "collapsed": true
   },
   "outputs": [],
   "source": [
    "def test_condition(X, beta, y):\n",
    "    \n",
    "    cond = np.multiply(X@beta,y.T)   \n",
    "    return cond<1\n",
    "\n",
    "def primal_grad (X, beta, y, lamb=1):\n",
    "    \n",
    "    cond = test_condition(X, beta, y)[0]\n",
    "    X = X[cond,]\n",
    "    y = y[cond,]\n",
    "    print(cond)\n",
    "    grad = np.mean(-np.multiply(y, X), axis=0) + lamb*beta\n",
    "    print(\"Grad:\" , grad)\n",
    "    return grad, cond"
   ]
  },
  {
   "cell_type": "code",
   "execution_count": 134,
   "metadata": {},
   "outputs": [
    {
     "name": "stdout",
     "output_type": "stream",
     "text": [
      "[ True  True  True  True]\n",
      "Grad: [ 0.    0.25 -0.75]\n",
      "Beta: [ 0.    -0.125  0.375]\n",
      "[ True  True  True  True]\n",
      "Grad: [ 0.     0.125 -0.375]\n",
      "Beta: [ 0.     -0.1875  0.5625]\n"
     ]
    }
   ],
   "source": [
    "n_iter = 2\n",
    "lamb = 1\n",
    "lr = 0.5\n",
    "\n",
    "for i in range(n_iter):\n",
    "    \n",
    "    grad, cond = primal_grad(X, beta, y, lamb)\n",
    "    \n",
    "    if (sum(cond)==0):\n",
    "        break\n",
    "    beta = beta - lr*grad\n",
    "    print(\"Beta:\", beta)\n",
    "    \n",
    "    "
   ]
  },
  {
   "cell_type": "code",
   "execution_count": 109,
   "metadata": {},
   "outputs": [
    {
     "data": {
      "text/plain": [
       "array([-0.11111111, -1.27777778,  3.61111111])"
      ]
     },
     "execution_count": 109,
     "metadata": {},
     "output_type": "execute_result"
    }
   ],
   "source": [
    "np.sum(np.multiply(y, X), axis=0)+beta"
   ]
  },
  {
   "cell_type": "code",
   "execution_count": 28,
   "metadata": {},
   "outputs": [
    {
     "data": {
      "text/plain": [
       "array([1, 1, 1])"
      ]
     },
     "execution_count": 28,
     "metadata": {},
     "output_type": "execute_result"
    }
   ],
   "source": [
    "beta"
   ]
  },
  {
   "cell_type": "code",
   "execution_count": null,
   "metadata": {
    "collapsed": true
   },
   "outputs": [],
   "source": []
  }
 ],
 "metadata": {
  "kernelspec": {
   "display_name": "Python 3",
   "language": "python",
   "name": "python3"
  },
  "language_info": {
   "codemirror_mode": {
    "name": "ipython",
    "version": 3
   },
   "file_extension": ".py",
   "mimetype": "text/x-python",
   "name": "python",
   "nbconvert_exporter": "python",
   "pygments_lexer": "ipython3",
   "version": "3.6.3"
  }
 },
 "nbformat": 4,
 "nbformat_minor": 2
}
