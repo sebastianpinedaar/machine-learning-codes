{
 "cells": [
  {
   "cell_type": "code",
   "execution_count": 89,
   "metadata": {},
   "outputs": [],
   "source": [
    "import numpy as np\n",
    "\n",
    "X = np.array([[1.0,0.,2.],\n",
    "              [1.,2.,0.],\n",
    "              [1.,2,2.],\n",
    "              [1.,1.,1.]])\n",
    "\n",
    "y = np.array([[1],[-1],[1],[-1]])\n",
    "beta = np.array([0.,0.,0.])\n",
    "N=X.shape[0]\n",
    "\n",
    "def test_condition(X, beta, y):\n",
    "    \n",
    "    cond = np.multiply(X@beta,y.T)   \n",
    "    return cond<1\n",
    "\n",
    "def primal_grad (X, beta, y, lamb=1):\n",
    "    \n",
    "    cond = test_condition(X, beta, y)[0]\n",
    "    X = X[cond,]\n",
    "    y = y[cond,]\n",
    "    print(cond)\n",
    "    if(sum(cond)==0):\n",
    "        grad = lamb*beta\n",
    "    else:\n",
    "        grad = np.mean(-np.multiply(y, X), axis=0) + lamb*beta\n",
    "    print(\"Grad:\" , grad)\n",
    "    return grad"
   ]
  },
  {
   "cell_type": "code",
   "execution_count": 90,
   "metadata": {},
   "outputs": [
    {
     "name": "stdout",
     "output_type": "stream",
     "text": [
      "[[1. 0. 2.]\n",
      " [1. 2. 0.]]\n",
      "[ True  True]\n",
      "Grad: [ 0.  1. -1.]\n",
      "Norm: 1.4142135623730951\n",
      "Beta: [ 0.         -0.70710678  0.70710678]\n",
      "[[1. 2. 2.]\n",
      " [1. 1. 1.]]\n",
      "[ True  True]\n",
      "Grad: [ 0.         -1.20710678  0.20710678]\n",
      "Norm: 1\n",
      "Beta: [ 0.         -0.10355339  0.60355339]\n",
      "[[1. 0. 2.]\n",
      " [1. 2. 0.]]\n",
      "[False  True]\n",
      "Grad: [1.         1.89644661 0.60355339]\n",
      "Norm: 1\n",
      "Beta: [-0.33333333 -0.73570226  0.40236893]\n",
      "[[1. 2. 2.]\n",
      " [1. 1. 1.]]\n",
      "[ True  True]\n",
      "Grad: [-0.33333333 -1.23570226 -0.09763107]\n",
      "Norm: 1\n",
      "Beta: [-0.25      -0.4267767  0.4267767]\n",
      "[[1. 0. 2.]\n",
      " [1. 2. 0.]]\n",
      "[ True False]\n",
      "Grad: [-1.25      -0.4267767 -1.5732233]\n",
      "Norm: 1\n",
      "Beta: [ 0.         -0.34142136  0.74142136]\n",
      "[[1. 2. 2.]\n",
      " [1. 1. 1.]]\n",
      "[ True  True]\n",
      "Grad: [ 0.         -0.84142136  0.24142136]\n",
      "Norm: 1\n",
      "Beta: [ 0.         -0.20118446  0.70118446]\n",
      "[[1. 0. 2.]\n",
      " [1. 2. 0.]]\n",
      "[False  True]\n",
      "Grad: [1.         1.79881554 0.70118446]\n",
      "Norm: 1\n",
      "Beta: [-0.14285714 -0.45815811  0.60101525]\n",
      "[[1. 2. 2.]\n",
      " [1. 1. 1.]]\n",
      "[ True  True]\n",
      "Grad: [-0.14285714 -0.95815811  0.10101525]\n",
      "Norm: 1\n",
      "Beta: [-0.125      -0.33838835  0.58838835]\n"
     ]
    }
   ],
   "source": [
    "n_iter = 4\n",
    "lamb = 1\n",
    "lr = 1\n",
    "n_minibatch = 2 \n",
    "t=0\n",
    "for i in range(n_iter):\n",
    "    \n",
    "    for j in range(0,n_minibatch):\n",
    "        t+=1\n",
    "        lr = 1/(lamb*t)\n",
    "        X_ = X[((j)*n_minibatch):((j+1)*n_minibatch),]\n",
    "        y_ = y[((j)*n_minibatch):((j+1)*n_minibatch),]\n",
    "        print(X_)\n",
    "        grad = primal_grad(X_, beta, y_, lamb)\n",
    "        beta_tilde = beta - lr*grad\n",
    "        magn_beta = np.linalg.norm(beta_tilde)\n",
    "        norm = max(1, np.sqrt(lamb)*magn_beta)\n",
    "        beta = beta_tilde/norm\n",
    "        print(\"Norm:\", norm)\n",
    "        print(\"Beta:\", beta)\n"
   ]
  },
  {
   "cell_type": "code",
   "execution_count": null,
   "metadata": {
    "collapsed": true
   },
   "outputs": [],
   "source": []
  },
  {
   "cell_type": "code",
   "execution_count": null,
   "metadata": {
    "collapsed": true
   },
   "outputs": [],
   "source": []
  }
 ],
 "metadata": {
  "kernelspec": {
   "display_name": "Python 3",
   "language": "python",
   "name": "python3"
  },
  "language_info": {
   "codemirror_mode": {
    "name": "ipython",
    "version": 3
   },
   "file_extension": ".py",
   "mimetype": "text/x-python",
   "name": "python",
   "nbconvert_exporter": "python",
   "pygments_lexer": "ipython3",
   "version": "3.6.3"
  }
 },
 "nbformat": 4,
 "nbformat_minor": 2
}
