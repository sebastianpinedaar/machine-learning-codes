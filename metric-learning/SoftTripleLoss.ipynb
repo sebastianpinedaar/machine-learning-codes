{
 "cells": [
  {
   "cell_type": "markdown",
   "metadata": {},
   "source": [
    "# Implementation of SoftTriple Loss\n",
    "\n",
    "In this notebook, we present the implementation of the SoftTriple Loss defined in [1] by Qi Qian et al. The paper introduces also a regularization that enables an adaptive number of centers. We, hoever, don't implement the regularization part."
   ]
  },
  {
   "cell_type": "markdown",
   "metadata": {},
   "source": [
    "### Triple Loss\n",
    "\n",
    "Triple Loss is a loss function used to learn a representation where similar images are closer than the different ones. It is, therefore, the basis for many applications in neural networks like word embeddings or metric learning. The triplet loss can be expressed mathematically as:\n",
    "\n",
    "$ \\forall i,j,k  \\enspace ||\\textbf{x}_i - \\textbf{x}_k||_2^2 - ||\\textbf{x}_i - \\textbf{x}_j||_2^2 > \\delta$\n",
    "\n",
    "Here, $\\textbf{x}_i$, $\\textbf{x}_k$ are from the same class and $\\textbf{x}_i$, $\\textbf{x}_j$ belong to different classes. \n",
    "\n",
    "###  SoftTriple Loss\n",
    "\n",
    "Recently, however, it has been shown by Qi Qian et al. in [1] that optimizing a smoothed triplet loss is equivalent to minimize a SoftMax loss. By using a mathematical formulation based on SoftMax, this loss eliminates the sampling needed in the triple loss (for picking the anchor, positve and negative image). Moreover, it extends the idea of multiple \"centers\", where the \"centers\" can be, for example, training samples (like in N-Shot learning). \n",
    "\n",
    "\n",
    "\n"
   ]
  },
  {
   "cell_type": "markdown",
   "metadata": {},
   "source": [
    "The authors define the *relaxed similarity* between the example $\\textbf{x}_i$ and the class $c$ as follows:"
   ]
  },
  {
   "cell_type": "markdown",
   "metadata": {},
   "source": [
    "$S^{'}_{i,c} = \\sum_{k} \\frac{\\exp(\\frac{1}{\\gamma} \\textbf{x}_i^{T}\\textbf{w}_c^{k})}{\\sum_{k} {\\exp(\\frac{1}{\\gamma} \\textbf{x}_i^{T}\\textbf{w}_c^{k})}} \\textbf{x}_i^T \\textbf{w}_c^k$\n",
    "\n",
    "Where $\\textbf{w}_c$ are the weights associated to the class $c$ (and there are $k$ for them). For more details about the general derivation, we suggest to read the referenced paper [1]. However, it is important to notice that $\\textbf{w}_c^k$ and $\\textbf{x}_i$ are normalized, therefore the multiplicaiton between them corresponds to the cosine distance. "
   ]
  },
  {
   "cell_type": "markdown",
   "metadata": {},
   "source": [
    "On top of this formulation, they finally define the SoftTriple Loss as:\n",
    "\n",
    "$l_{SoftTriple}(\\textbf{x}_i) = -\\log \\frac{\\exp(\\lambda(S'_{i,y_i}-\\delta))}{\\exp(\\lambda(S'_{i, y_i}-\\delta))+\\sum_{j \\neq y_i} \\exp(\\lambda S'_{i,j})}$\n",
    "\n",
    "This formulation makes the implementation in Tensorflow a bit tricky, that's why we reformulate the equation for the SoftTripleLoss as follows:\n",
    "\n",
    "$l_{SoftTriple}(\\textbf{x}_i) = -\\log \\frac{\\exp(\\lambda S^o_{i,y_i})}{\\sum_{\\forall j \\in Class } \\exp(\\lambda S^o_{i,j})} = Softmax(\\lambda S^o_{i, y_i})$\n",
    "\n",
    "Where $y_i$ is the class of $\\textbf{x}_i$, $Class$ is the set of all classes and $S^o_{i,j} = S'_{i,j}-\\delta \\mathbb{1}(y_i ==j)$. We also make some additional definitions that ease the coding of the loss:\n",
    "\n",
    "* *Inner logits*: this is basically the multiplication between the inputs ($\\textbf{x}_i$) and the centers ($\\textbf{w}_c^k$). We can represent the set of inputs as a matrix $\\textbf{X}\\in \\mathbb{R}^{N \\times D}$. Morever, since there are $K$ different centers for every of $C$ clases, and every center $\\textbf{w}_c^k\\in \\mathbb{R}^{ D}$, we represent the set of centers as a tensor $\\textbf{W}\\in \\mathbb{R}^{K \\times D \\times C }$.\n",
    "* *Inner softmax*: this corresponds to the Softmax that is involved in the calculation of the relaxed similarity.\n",
    "* *Outer softmax*: this is the Softmax involved in the calculation of the total SofttripleLoss."
   ]
  },
  {
   "cell_type": "code",
   "execution_count": 2,
   "metadata": {},
   "outputs": [
    {
     "name": "stderr",
     "output_type": "stream",
     "text": [
      "C:\\Users\\User\\Anaconda3\\lib\\site-packages\\h5py\\__init__.py:34: FutureWarning: Conversion of the second argument of issubdtype from `float` to `np.floating` is deprecated. In future, it will be treated as `np.float64 == np.dtype(float).type`.\n",
      "  from ._conv import register_converters as _register_converters\n"
     ]
    }
   ],
   "source": [
    "import tensorflow as tf\n",
    "import numpy as np\n",
    "import matplotlib.pyplot as plt\n",
    "\n",
    "%matplotlib inline"
   ]
  },
  {
   "cell_type": "code",
   "execution_count": 3,
   "metadata": {},
   "outputs": [
    {
     "data": {
      "image/png": "[encoded data removed]",
      "text/plain": [
       "<matplotlib.figure.Figure at 0x2ab8d240780>"
      ]
     },
     "metadata": {},
     "output_type": "display_data"
    }
   ],
   "source": [
    "#creating artificial data\n",
    "\n",
    "sd = 0.5\n",
    "center1, center2 = -2, 2 \n",
    "c1 = np.vstack( [np.random.normal(center1, sd, 100), np.random.normal(center1, sd, 100)]).T\n",
    "c2 = np.vstack( [np.random.normal(center1, sd, 100), np.random.normal(center2, sd, 100)]).T\n",
    "c3 = np.vstack( [np.random.normal(center2, sd, 100), np.random.normal(center2, sd, 100)]).T\n",
    "c4 = np.vstack( [np.random.normal(center2, sd, 100), np.random.normal(center1, sd, 100)]).T\n",
    "X = np.vstack((c1,c2,c3,c4))\n",
    "\n",
    "y1 = np.repeat([[1,0]], 100,0)\n",
    "y2 = np.repeat([[0,1]], 100,0)\n",
    "y3 = np.repeat([[1,0]], 100,0)\n",
    "y4 = np.repeat([[0,1]], 100,0)\n",
    "\n",
    "Y = np.vstack((y1, y2, y3, y4))\n",
    "\n",
    "\n",
    "plt.scatter(X[:,0], X[:,1])\n",
    "plt.grid()"
   ]
  },
  {
   "cell_type": "code",
   "execution_count": 4,
   "metadata": {},
   "outputs": [
    {
     "name": "stdout",
     "output_type": "stream",
     "text": [
      "WARNING:tensorflow:From C:\\Users\\User\\Anaconda3\\lib\\site-packages\\tensorflow\\python\\framework\\op_def_library.py:263: colocate_with (from tensorflow.python.framework.ops) is deprecated and will be removed in a future version.\n",
      "Instructions for updating:\n",
      "Colocations handled automatically by placer.\n",
      "WARNING:tensorflow:From C:\\Users\\User\\Anaconda3\\lib\\site-packages\\tensorflow\\python\\ops\\math_ops.py:3066: to_int32 (from tensorflow.python.ops.math_ops) is deprecated and will be removed in a future version.\n",
      "Instructions for updating:\n",
      "Use tf.cast instead.\n"
     ]
    }
   ],
   "source": [
    "#creating the graph\n",
    "gamma = 0.1\n",
    "delta = 0.01\n",
    "lamb = 2\n",
    "alpha = 1\n",
    "epochs = 100\n",
    "learning_rate= 0.05\n",
    "\n",
    "X_p =  tf.placeholder(tf.float32, shape=(None, None), name='input_y')\n",
    "Y_p = tf.placeholder(tf.float32, shape=(None,None), name = 'labels')\n",
    "W = tf.Variable(tf.truncated_normal(shape= [2, 2, 2], mean=0, stddev=0.01))\n",
    "\n",
    "X_n = tf.math.l2_normalize(X_p, axis=1) \n",
    "W_n = tf.math.l2_normalize(W, axis=1)\n",
    "inner_logits = tf.einsum('ie,kec->ikc', X_n, W_n)\n",
    "inner_SoftMax = tf.nn.softmax((1/gamma)*inner_logits, axis=1)\n",
    "s =  lamb*( tf.reduce_sum( tf.multiply(inner_SoftMax, inner_logits), axis=1) - delta*Y_p)\n",
    "outer_SoftMax = tf.nn.softmax(s)\n",
    "soft_triple_loss = -tf.reduce_sum(tf.log(tf.reduce_sum(tf.multiply(outer_SoftMax, Y_p), axis=1)))\n",
    "train_step = tf.train.AdamOptimizer(learning_rate=learning_rate).minimize(soft_triple_loss)\n",
    "\n",
    "correct_pred = tf.equal(tf.argmax(outer_SoftMax, 1), tf.argmax(Y_p, 1))\n",
    "accuracy = tf.reduce_mean(tf.cast(correct_pred, tf.float32), name='accuracy')"
   ]
  },
  {
   "cell_type": "code",
   "execution_count": 6,
   "metadata": {},
   "outputs": [
    {
     "name": "stdout",
     "output_type": "stream",
     "text": [
      "Loss: 213.76772\n",
      "Acc: 0.51\n",
      "Loss: 143.21318\n",
      "Acc: 0.88\n",
      "Loss: 95.77054\n",
      "Acc: 0.99\n",
      "Loss: 78.758026\n",
      "Acc: 1.0\n",
      "Loss: 73.64248\n",
      "Acc: 1.0\n",
      "Loss: 71.695854\n",
      "Acc: 1.0\n",
      "Loss: 70.66887\n",
      "Acc: 1.0\n",
      "Loss: 70.16057\n",
      "Acc: 1.0\n",
      "Loss: 69.920654\n",
      "Acc: 1.0\n",
      "Loss: 69.78015\n",
      "Acc: 1.0\n"
     ]
    }
   ],
   "source": [
    "#running the graph\n",
    "with tf.Session() as sess:\n",
    "    # Initializing the variables\n",
    "   \n",
    "    sess.run(tf.global_variables_initializer())\n",
    "    \n",
    "    feed_dict = {\n",
    "                 X_p : X,\n",
    "                 Y_p : Y}\n",
    "    \n",
    "\n",
    "    for e in range(epochs):\n",
    "        _, stl, acc = sess.run([train_step, soft_triple_loss, accuracy], feed_dict = feed_dict)\n",
    "        \n",
    "        if e%10 == 0:\n",
    "            print(\"Loss:\", stl)\n",
    "            print(\"Acc:\", acc)\n",
    "            \n",
    "    [W_, correct_pred_ ]= sess.run([W,correct_pred], feed_dict = feed_dict)"
   ]
  },
  {
   "cell_type": "markdown",
   "metadata": {},
   "source": [
    "# References\n",
    "\n",
    "[1] Qi Qian et al. *SoftTriple Loss: Deep Metric Learning Without TripletSampling*. 2019. arXiv:1909.05235 "
   ]
  }
 ],
 "metadata": {
  "kernelspec": {
   "display_name": "Python 3",
   "language": "python",
   "name": "python3"
  },
  "language_info": {
   "codemirror_mode": {
    "name": "ipython",
    "version": 3
   },
   "file_extension": ".py",
   "mimetype": "text/x-python",
   "name": "python",
   "nbconvert_exporter": "python",
   "pygments_lexer": "ipython3",
   "version": "3.6.3"
  }
 },
 "nbformat": 4,
 "nbformat_minor": 2
}
