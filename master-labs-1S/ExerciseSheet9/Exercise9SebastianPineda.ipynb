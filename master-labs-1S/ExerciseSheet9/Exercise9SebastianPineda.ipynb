{
 "cells": [
  {
   "cell_type": "markdown",
   "metadata": {},
   "source": [
    "<H1><CENTER> Machine Learning Lab - Exercise Sheet 9 <br /></CENTER></H1>\n",
    "<H2><CENTER> Author: Sebastian Pineda Arango  <br />\n",
    "ID: 246098<br />\n",
    "Universität Hildesheim - Data Analytics Master </CENTER></H2>\n",
    "\n",
    "<img src=\"https://www.uni-hildesheim.de/typo3conf/ext/unihildesheim/Resources/Public/Images/logo-uni.svgz\" width=\"100\">\n",
    "\n",
    "In this notebook, we want to develop spam classifier using suppoert vector machines. For that, we use two libraries: LIBSVM and Scikit-learn.\n",
    "\n",
    "The library LIBSVM was installed from this repository: https://www.lfd.uci.edu/~gohlke/pythonlibs/#libsvm\n",
    "\n",
    "Where we use the following command for the installation:\n",
    "\n",
    "Command used: \"pip install libsvm-3.23-cp36-cp36m-win_amd64.whl\"\n",
    "\n",
    "Some help to change the parameters of the libsvm model was takne from:\n",
    "https://lmb.informatik.uni-freiburg.de/lectures/old_lmb/svm_seminar/java/libsvmdemo.html\n",
    "\n",
    "#### Datasets\n",
    "\n",
    "Two datasets are used to create the spam classifier. The datasets are donwloaded from the following sources: \n",
    "* Dataset 1: \n",
    "https://archive.ics.uci.edu/ml/datasets/Spambase\n",
    "\n",
    "* Dataset 2:\n",
    "https://archive.ics.uci.edu/ml/datasets/SMS+Spam+Collection\n",
    "\n",
    "\n",
    "#### Support vector machines\n",
    "\n",
    "The support vecotr machines is, in general, a linear classifeir which aims to find a separating hyperplane so that the margin between one class and another is maximized. The idea of margin is depicted in the following image (own authorship):\n",
    "\n",
    "<img src=\"images/svm.jpg\" width=\"300\">\n",
    "\n",
    "That means that the support vector machines optimization problem could be expressed in the following way [2]:\n",
    "\n",
    "$\\min_{\\textbf{w},b}    \\frac{1}2||\\textbf{w}||$\n",
    "\n",
    "$s.t. \\, y_i(\\textbf{w}^T\\textbf{x}_i+b)\\geq 1$\n",
    "\n",
    "## Exercise 1: Spam filter using SVM\n",
    "\n",
    "A spam filter is created using spam dataset 1 and the library \"libsvm\". This library accept format in the following way (libsvm format):\n",
    "\n",
    "$<label> \\space <index1>:<value> \\space <index2>:<value2> \\space...$\n",
    "\n",
    "There is a function in scikit-learn that enables the creation of dataset in this format: $load\\_svm\\_light\\_file ()$. However, we implement the function to convert a sparse matriz into this libsvm format. The following steps are performed:\n",
    "\n",
    "* Importing libraries\n",
    "* Importing data\n",
    "* Exploring data\n",
    "* Splitting data in train-test\n",
    "* Cross validation\n",
    "* Choosing the best final model"
   ]
  },
  {
   "cell_type": "code",
   "execution_count": 1,
   "metadata": {
    "collapsed": true
   },
   "outputs": [],
   "source": [
    "#Importing libraries\n",
    "from svmutil import *\n",
    "import numpy as np\n",
    "import pandas as pd\n",
    "import matplotlib.pyplot as plt\n",
    "\n",
    "%matplotlib inline"
   ]
  },
  {
   "cell_type": "code",
   "execution_count": 75,
   "metadata": {},
   "outputs": [
    {
     "data": {
      "text/plain": [
       "(4601, 58)"
      ]
     },
     "execution_count": 75,
     "metadata": {},
     "output_type": "execute_result"
    }
   ],
   "source": [
    "#Importing data\n",
    "data1 = pd.read_csv(\"data\\spambase\\spambase.data\", header=None)\n",
    "data1.rename(columns={57:\"y\"}, inplace = 0.6)\n",
    "\n",
    "data1.shape"
   ]
  },
  {
   "cell_type": "code",
   "execution_count": 76,
   "metadata": {},
   "outputs": [
    {
     "data": {
      "text/html": [
       "<div>\n",
       "<style>\n",
       "    .dataframe thead tr:only-child th {\n",
       "        text-align: right;\n",
       "    }\n",
       "\n",
       "    .dataframe thead th {\n",
       "        text-align: left;\n",
       "    }\n",
       "\n",
       "    .dataframe tbody tr th {\n",
       "        vertical-align: top;\n",
       "    }\n",
       "</style>\n",
       "<table border=\"1\" class=\"dataframe\">\n",
       "  <thead>\n",
       "    <tr style=\"text-align: right;\">\n",
       "      <th></th>\n",
       "      <th>0</th>\n",
       "      <th>1</th>\n",
       "      <th>2</th>\n",
       "      <th>3</th>\n",
       "      <th>4</th>\n",
       "      <th>5</th>\n",
       "      <th>6</th>\n",
       "      <th>7</th>\n",
       "      <th>8</th>\n",
       "      <th>9</th>\n",
       "      <th>...</th>\n",
       "      <th>48</th>\n",
       "      <th>49</th>\n",
       "      <th>50</th>\n",
       "      <th>51</th>\n",
       "      <th>52</th>\n",
       "      <th>53</th>\n",
       "      <th>54</th>\n",
       "      <th>55</th>\n",
       "      <th>56</th>\n",
       "      <th>y</th>\n",
       "    </tr>\n",
       "  </thead>\n",
       "  <tbody>\n",
       "    <tr>\n",
       "      <th>0</th>\n",
       "      <td>0.00</td>\n",
       "      <td>0.64</td>\n",
       "      <td>0.64</td>\n",
       "      <td>0.0</td>\n",
       "      <td>0.32</td>\n",
       "      <td>0.00</td>\n",
       "      <td>0.00</td>\n",
       "      <td>0.00</td>\n",
       "      <td>0.00</td>\n",
       "      <td>0.00</td>\n",
       "      <td>...</td>\n",
       "      <td>0.00</td>\n",
       "      <td>0.000</td>\n",
       "      <td>0.0</td>\n",
       "      <td>0.778</td>\n",
       "      <td>0.000</td>\n",
       "      <td>0.000</td>\n",
       "      <td>3.756</td>\n",
       "      <td>61</td>\n",
       "      <td>278</td>\n",
       "      <td>1</td>\n",
       "    </tr>\n",
       "    <tr>\n",
       "      <th>1</th>\n",
       "      <td>0.21</td>\n",
       "      <td>0.28</td>\n",
       "      <td>0.50</td>\n",
       "      <td>0.0</td>\n",
       "      <td>0.14</td>\n",
       "      <td>0.28</td>\n",
       "      <td>0.21</td>\n",
       "      <td>0.07</td>\n",
       "      <td>0.00</td>\n",
       "      <td>0.94</td>\n",
       "      <td>...</td>\n",
       "      <td>0.00</td>\n",
       "      <td>0.132</td>\n",
       "      <td>0.0</td>\n",
       "      <td>0.372</td>\n",
       "      <td>0.180</td>\n",
       "      <td>0.048</td>\n",
       "      <td>5.114</td>\n",
       "      <td>101</td>\n",
       "      <td>1028</td>\n",
       "      <td>1</td>\n",
       "    </tr>\n",
       "    <tr>\n",
       "      <th>2</th>\n",
       "      <td>0.06</td>\n",
       "      <td>0.00</td>\n",
       "      <td>0.71</td>\n",
       "      <td>0.0</td>\n",
       "      <td>1.23</td>\n",
       "      <td>0.19</td>\n",
       "      <td>0.19</td>\n",
       "      <td>0.12</td>\n",
       "      <td>0.64</td>\n",
       "      <td>0.25</td>\n",
       "      <td>...</td>\n",
       "      <td>0.01</td>\n",
       "      <td>0.143</td>\n",
       "      <td>0.0</td>\n",
       "      <td>0.276</td>\n",
       "      <td>0.184</td>\n",
       "      <td>0.010</td>\n",
       "      <td>9.821</td>\n",
       "      <td>485</td>\n",
       "      <td>2259</td>\n",
       "      <td>1</td>\n",
       "    </tr>\n",
       "    <tr>\n",
       "      <th>3</th>\n",
       "      <td>0.00</td>\n",
       "      <td>0.00</td>\n",
       "      <td>0.00</td>\n",
       "      <td>0.0</td>\n",
       "      <td>0.63</td>\n",
       "      <td>0.00</td>\n",
       "      <td>0.31</td>\n",
       "      <td>0.63</td>\n",
       "      <td>0.31</td>\n",
       "      <td>0.63</td>\n",
       "      <td>...</td>\n",
       "      <td>0.00</td>\n",
       "      <td>0.137</td>\n",
       "      <td>0.0</td>\n",
       "      <td>0.137</td>\n",
       "      <td>0.000</td>\n",
       "      <td>0.000</td>\n",
       "      <td>3.537</td>\n",
       "      <td>40</td>\n",
       "      <td>191</td>\n",
       "      <td>1</td>\n",
       "    </tr>\n",
       "    <tr>\n",
       "      <th>4</th>\n",
       "      <td>0.00</td>\n",
       "      <td>0.00</td>\n",
       "      <td>0.00</td>\n",
       "      <td>0.0</td>\n",
       "      <td>0.63</td>\n",
       "      <td>0.00</td>\n",
       "      <td>0.31</td>\n",
       "      <td>0.63</td>\n",
       "      <td>0.31</td>\n",
       "      <td>0.63</td>\n",
       "      <td>...</td>\n",
       "      <td>0.00</td>\n",
       "      <td>0.135</td>\n",
       "      <td>0.0</td>\n",
       "      <td>0.135</td>\n",
       "      <td>0.000</td>\n",
       "      <td>0.000</td>\n",
       "      <td>3.537</td>\n",
       "      <td>40</td>\n",
       "      <td>191</td>\n",
       "      <td>1</td>\n",
       "    </tr>\n",
       "  </tbody>\n",
       "</table>\n",
       "<p>5 rows × 58 columns</p>\n",
       "</div>"
      ],
      "text/plain": [
       "      0     1     2    3     4     5     6     7     8     9 ...    48     49  \\\n",
       "0  0.00  0.64  0.64  0.0  0.32  0.00  0.00  0.00  0.00  0.00 ...  0.00  0.000   \n",
       "1  0.21  0.28  0.50  0.0  0.14  0.28  0.21  0.07  0.00  0.94 ...  0.00  0.132   \n",
       "2  0.06  0.00  0.71  0.0  1.23  0.19  0.19  0.12  0.64  0.25 ...  0.01  0.143   \n",
       "3  0.00  0.00  0.00  0.0  0.63  0.00  0.31  0.63  0.31  0.63 ...  0.00  0.137   \n",
       "4  0.00  0.00  0.00  0.0  0.63  0.00  0.31  0.63  0.31  0.63 ...  0.00  0.135   \n",
       "\n",
       "    50     51     52     53     54   55    56  y  \n",
       "0  0.0  0.778  0.000  0.000  3.756   61   278  1  \n",
       "1  0.0  0.372  0.180  0.048  5.114  101  1028  1  \n",
       "2  0.0  0.276  0.184  0.010  9.821  485  2259  1  \n",
       "3  0.0  0.137  0.000  0.000  3.537   40   191  1  \n",
       "4  0.0  0.135  0.000  0.000  3.537   40   191  1  \n",
       "\n",
       "[5 rows x 58 columns]"
      ]
     },
     "execution_count": 76,
     "metadata": {},
     "output_type": "execute_result"
    }
   ],
   "source": [
    "#Exploring the data\n",
    "data3.head()"
   ]
  },
  {
   "cell_type": "code",
   "execution_count": 77,
   "metadata": {},
   "outputs": [
    {
     "data": {
      "text/plain": [
       "y\n",
       "0    2788\n",
       "1    1813\n",
       "Name: y, dtype: int64"
      ]
     },
     "execution_count": 77,
     "metadata": {},
     "output_type": "execute_result"
    }
   ],
   "source": [
    "data1.groupby('y')['y'].count()"
   ]
  },
  {
   "cell_type": "code",
   "execution_count": 78,
   "metadata": {},
   "outputs": [
    {
     "name": "stdout",
     "output_type": "stream",
     "text": [
      "Mean of y value: 0.39404477287546186\n"
     ]
    }
   ],
   "source": [
    "print(\"Mean of y value:\", np.mean(data3['y']))"
   ]
  },
  {
   "cell_type": "markdown",
   "metadata": {},
   "source": [
    "After exploring the data, we have the following insights:\n",
    "\n",
    "* There are 4601 samples and 57 features. \n",
    "* The class label (y), which corresponds to 1 when it is spam and to 0 when it is not. There is 39.4% of data from class not-spam.\n",
    "* If we look the documentation, the features are divided in the following way:\n",
    "    - 48 features corresponds to the frequency of the word (in percentage). Where they take the frequency of the word, and divide it by the total number of words of the e-mail.\n",
    "    - 6 features are percentage of given chars on the email.\n",
    "    - 1 feature for the average length of uninterrupted sequence of capital letters.\n",
    "    - 1 feature for the average length of uninterrupted sequence of capital letters.\n",
    "    - 1 feature for the sum of length of uninterrupted sequences of capital letters.\n",
    "    \n",
    "Now we split data in training and test, where we assing 80% of the data to test."
   ]
  },
  {
   "cell_type": "code",
   "execution_count": 6,
   "metadata": {
    "collapsed": true
   },
   "outputs": [],
   "source": [
    "#Splitting train and test\n",
    "\n",
    "def split_train_test(data, train_pct, features, target):\n",
    "    \n",
    "    '''This functions divides \"data\"  in train and test set.\n",
    "    The percentage give to the train data is determined by \"train_pct\".\n",
    "    The \"features\" argument determine a list of features to consider.\n",
    "    The \"target\" arugment indicates the the variable to predict.'''\n",
    "    \n",
    "    #getting the total number of training samples\n",
    "    data_size = data.shape[0]\n",
    "    train_size = int(train_pct*data_size)\n",
    "\n",
    "    #shuffling indexes to separate train and test randoming\n",
    "    idx = np.arange(0,data_size)\n",
    "    np.random.shuffle(idx)\n",
    "\n",
    "    #creating test indexes\n",
    "    train_idx = idx[:train_size]\n",
    "\n",
    "    #creating test indexes\n",
    "    test_idx = idx[train_size:]\n",
    "\n",
    "    #selecting train data (features)\n",
    "    X_train = data[features].iloc[train_idx,]\n",
    "\n",
    "    #selecting train data (target)\n",
    "    y_train = data[target].iloc[train_idx,]\n",
    "\n",
    "    #selecting test data (features)\n",
    "    X_test = data[features].iloc[test_idx,]\n",
    "\n",
    "    #selecting test data (target)\n",
    "    y_test = data[target].iloc[test_idx,]\n",
    "\n",
    "\n",
    "    return X_train, y_train, X_test, y_test"
   ]
  },
  {
   "cell_type": "code",
   "execution_count": 105,
   "metadata": {},
   "outputs": [
    {
     "name": "stdout",
     "output_type": "stream",
     "text": [
      "Train size: 3680\n",
      "Test size: 921\n"
     ]
    }
   ],
   "source": [
    "X = np.array(data3.iloc[:,:-1])\n",
    "y = np.array(data3.iloc[:,-1])\n",
    "col_names = data3.columns[:-1]\n",
    "\n",
    "X_train, y_train, X_test, y_test = split_train_test(data1, 0.8, col_names, 'y')\n",
    "\n",
    "X_train = np.array(X_train)\n",
    "y_train = np.array(y_train)\n",
    "X_test = np.array(X_test)\n",
    "y_test = np.array(y_test)\n",
    "\n",
    "print(\"Train size:\",X_train.shape[0])\n",
    "print(\"Test size:\", X_test.shape[0])\n"
   ]
  },
  {
   "cell_type": "markdown",
   "metadata": {},
   "source": [
    "Now we store the train data in libsvm format, so that we can use it in future implementations."
   ]
  },
  {
   "cell_type": "code",
   "execution_count": 96,
   "metadata": {
    "collapsed": true
   },
   "outputs": [],
   "source": [
    "import sklearn.datasets as sk_dt\n",
    "\n",
    "sk_dt.dump_svmlight_file(X_train, y_train, 'train_data')\n",
    "sk_dt.dump_svmlight_file(X_test, y_test, 'test_data')"
   ]
  },
  {
   "cell_type": "markdown",
   "metadata": {},
   "source": [
    "We define a function that converts sparse matrices (with a lot of zero values) into _libsvm_ format. Having this, we can input the matrices to the _libsvm_ train function."
   ]
  },
  {
   "cell_type": "code",
   "execution_count": 97,
   "metadata": {
    "collapsed": true
   },
   "outputs": [],
   "source": [
    "def convert_to_format(X):\n",
    "\n",
    "    '''This function converts X in a libsvm format.'''\n",
    "    \n",
    "    n_train = X.shape[0]\n",
    "\n",
    "    #list to store the new format\n",
    "    X_dok_format = []\n",
    "    \n",
    "    #iterating over all the data\n",
    "    for i in range(n_train):\n",
    "        \n",
    "        #getting indexes different to zero\n",
    "        key=np.where(X[i,]!=0)\n",
    "        \n",
    "        #getting values of indexes different to zero\n",
    "        val=X[i,key]\n",
    "        \n",
    "        #creating a dictionary with the last values\n",
    "        x= dict(zip(list(key[0]),list(val[0])))\n",
    "        \n",
    "        #appending the dictionary (libsvm format) to list\n",
    "        X_dok_format.append(x)\n",
    "        \n",
    "    return X_dok_format"
   ]
  },
  {
   "cell_type": "markdown",
   "metadata": {},
   "source": [
    "The main objective now is to pick the best hyperparameter C. To do that,we apply k-fold cross validation."
   ]
  },
  {
   "cell_type": "code",
   "execution_count": 98,
   "metadata": {},
   "outputs": [
    {
     "name": "stdout",
     "output_type": "stream",
     "text": [
      "Trying c= 0.01\n",
      "Accuracy = 60.0204% (1767/2944) (classification)\n",
      "Accuracy = 62.0924% (457/736) (classification)\n",
      "Accuracy = 60.0204% (1767/2944) (classification)\n",
      "Accuracy = 60.1902% (443/736) (classification)\n",
      "Accuracy = 59.1372% (1741/2944) (classification)\n",
      "Accuracy = 61.9565% (456/736) (classification)\n",
      "Accuracy = 60.428% (1779/2944) (classification)\n",
      "Accuracy = 56.7935% (418/736) (classification)\n",
      "Accuracy = 59.7826% (1760/2944) (classification)\n",
      "Accuracy = 59.375% (437/736) (classification)\n",
      "Trying c= 0.1\n",
      "Accuracy = 87.7717% (2584/2944) (classification)\n",
      "Accuracy = 72.1467% (531/736) (classification)\n",
      "Accuracy = 87.7717% (2584/2944) (classification)\n",
      "Accuracy = 73.7772% (543/736) (classification)\n",
      "Accuracy = 87.2962% (2570/2944) (classification)\n",
      "Accuracy = 78.125% (575/736) (classification)\n",
      "Accuracy = 79.0421% (2327/2944) (classification)\n",
      "Accuracy = 63.8587% (470/736) (classification)\n",
      "Accuracy = 86.9565% (2560/2944) (classification)\n",
      "Accuracy = 75.1359% (553/736) (classification)\n",
      "Trying c= 1\n",
      "Accuracy = 95.9239% (2824/2944) (classification)\n",
      "Accuracy = 81.25% (598/736) (classification)\n",
      "Accuracy = 95.9239% (2824/2944) (classification)\n",
      "Accuracy = 80.8424% (595/736) (classification)\n",
      "Accuracy = 95.6861% (2817/2944) (classification)\n",
      "Accuracy = 80.2989% (591/736) (classification)\n",
      "Accuracy = 95.4823% (2811/2944) (classification)\n",
      "Accuracy = 82.0652% (604/736) (classification)\n",
      "Accuracy = 95.8899% (2823/2944) (classification)\n",
      "Accuracy = 82.4728% (607/736) (classification)\n",
      "Trying c= 2\n",
      "Accuracy = 97.4185% (2868/2944) (classification)\n",
      "Accuracy = 81.3859% (599/736) (classification)\n",
      "Accuracy = 97.4185% (2868/2944) (classification)\n",
      "Accuracy = 81.7935% (602/736) (classification)\n",
      "Accuracy = 97.5883% (2873/2944) (classification)\n",
      "Accuracy = 81.25% (598/736) (classification)\n",
      "Accuracy = 97.5883% (2873/2944) (classification)\n",
      "Accuracy = 82.7446% (609/736) (classification)\n",
      "Accuracy = 97.928% (2883/2944) (classification)\n",
      "Accuracy = 82.2011% (605/736) (classification)\n",
      "Trying c= 5\n",
      "Accuracy = 98.8111% (2909/2944) (classification)\n",
      "Accuracy = 82.2011% (605/736) (classification)\n",
      "Accuracy = 98.8111% (2909/2944) (classification)\n",
      "Accuracy = 82.337% (606/736) (classification)\n",
      "Accuracy = 99.1848% (2920/2944) (classification)\n",
      "Accuracy = 81.7935% (602/736) (classification)\n",
      "Accuracy = 98.913% (2912/2944) (classification)\n",
      "Accuracy = 83.1522% (612/736) (classification)\n",
      "Accuracy = 99.1168% (2918/2944) (classification)\n",
      "Accuracy = 82.337% (606/736) (classification)\n",
      "Trying c= 10\n",
      "Accuracy = 99.4905% (2929/2944) (classification)\n",
      "Accuracy = 81.3859% (599/736) (classification)\n",
      "Accuracy = 99.4905% (2929/2944) (classification)\n",
      "Accuracy = 81.25% (598/736) (classification)\n",
      "Accuracy = 99.5245% (2930/2944) (classification)\n",
      "Accuracy = 81.7935% (602/736) (classification)\n",
      "Accuracy = 99.4565% (2928/2944) (classification)\n",
      "Accuracy = 83.6957% (616/736) (classification)\n",
      "Accuracy = 99.4565% (2928/2944) (classification)\n",
      "Accuracy = 83.288% (613/736) (classification)\n",
      "Trying c= 20\n",
      "Accuracy = 99.7622% (2937/2944) (classification)\n",
      "Accuracy = 80.9783% (596/736) (classification)\n",
      "Accuracy = 99.7622% (2937/2944) (classification)\n",
      "Accuracy = 81.25% (598/736) (classification)\n",
      "Accuracy = 99.6264% (2933/2944) (classification)\n",
      "Accuracy = 81.9293% (603/736) (classification)\n",
      "Accuracy = 99.5924% (2932/2944) (classification)\n",
      "Accuracy = 84.7826% (624/736) (classification)\n",
      "Accuracy = 99.6943% (2935/2944) (classification)\n",
      "Accuracy = 83.4239% (614/736) (classification)\n",
      "Trying c= 50\n",
      "Accuracy = 99.8641% (2940/2944) (classification)\n",
      "Accuracy = 80.5707% (593/736) (classification)\n",
      "Accuracy = 99.8641% (2940/2944) (classification)\n",
      "Accuracy = 81.25% (598/736) (classification)\n",
      "Accuracy = 99.8302% (2939/2944) (classification)\n",
      "Accuracy = 80.9783% (596/736) (classification)\n",
      "Accuracy = 99.7283% (2936/2944) (classification)\n",
      "Accuracy = 83.9674% (618/736) (classification)\n",
      "Accuracy = 99.7962% (2938/2944) (classification)\n",
      "Accuracy = 83.0163% (611/736) (classification)\n",
      "Trying c= 100\n",
      "Accuracy = 99.9321% (2942/2944) (classification)\n",
      "Accuracy = 80.4348% (592/736) (classification)\n",
      "Accuracy = 99.9321% (2942/2944) (classification)\n",
      "Accuracy = 81.1141% (597/736) (classification)\n",
      "Accuracy = 99.9321% (2942/2944) (classification)\n",
      "Accuracy = 80.4348% (592/736) (classification)\n",
      "Accuracy = 99.8981% (2941/2944) (classification)\n",
      "Accuracy = 83.4239% (614/736) (classification)\n",
      "Accuracy = 99.8981% (2941/2944) (classification)\n",
      "Accuracy = 82.6087% (608/736) (classification)\n"
     ]
    }
   ],
   "source": [
    "#number of samples of training set\n",
    "n_train = X_train.shape[0]\n",
    "\n",
    "#number of folds\n",
    "n_folds = 5\n",
    "\n",
    "#initializing folds\n",
    "folds = []\n",
    "samples_fold = int(n_train/n_folds)\n",
    "\n",
    "#creating the k-fold subsets\n",
    "for i in range(n_folds):\n",
    "    \n",
    "    folds.append((X_train[(i*samples_fold):((i+1)*samples_fold),:],\n",
    "                   y_train[(i*samples_fold):((i+1)*samples_fold)]))\n",
    "\n",
    "folds_list = list(range(n_folds+1))\n",
    "\n",
    "#initialize list to store the man of each hyperparameter setting\n",
    "mean_test_folds = []\n",
    "mean_train_folds = []\n",
    "\n",
    "#list of hyperparameters\n",
    "c_list = [0.01,0.1,1,2,5,10,20,50,100]\n",
    "\n",
    "for c in c_list:\n",
    "\n",
    "    print(\"Trying c=\",c)\n",
    "    test_acc_folds = []\n",
    "    train_acc_folds = []\n",
    "    \n",
    "    for f in range(n_folds):\n",
    "\n",
    "            #list of folds\n",
    "            folds_list = list(range(n_folds))\n",
    "            folds_list.pop(f)\n",
    "\n",
    "            #selecting test dataset\n",
    "            X_test_fold = folds[f][0]\n",
    "            y_test_fold = folds[f][1]\n",
    "\n",
    "            #merging the folds to create the training dataset\n",
    "            X_train_fold = folds[folds_list[1]][0]   \n",
    "            y_train_fold = folds[folds_list[1]][1]\n",
    "            \n",
    "            for j in folds_list[1:]:\n",
    "                X_train_fold = np.vstack((X_train_fold, folds[j][0]))\n",
    "                y_train_fold = np.hstack((y_train_fold, folds[j][1]))\n",
    "            \n",
    "            #converting data to libsvm format\n",
    "            X_train_fold = convert_to_format(X_train_fold)\n",
    "            X_test_fold = convert_to_format(X_test_fold)\n",
    "            y_train_fold = list(y_train_fold)\n",
    "            y_test_fold = list(y_test_fold)\n",
    "            \n",
    "            #training the model\n",
    "            param = '-c '+ str(c)\n",
    "            \n",
    "            m = svm_train( y_train_fold, X_train_fold, param)\n",
    "            \n",
    "            acc_train=svm_predict(y_train_fold, X_train_fold, m)\n",
    "            acc_test = svm_predict(y_test_fold, X_test_fold, m)\n",
    "            \n",
    "            #finding accuracy over the fold\n",
    "            train_acc_folds.append(acc_train[1][0])\n",
    "            test_acc_folds.append(acc_test[1][0])\n",
    "            \n",
    "    #findning the mean across all the folds\n",
    "    mean_train_folds.append(np.mean(train_acc_folds))\n",
    "    mean_test_folds.append(np.mean(test_acc_folds))\n",
    "\n"
   ]
  },
  {
   "cell_type": "code",
   "execution_count": 115,
   "metadata": {},
   "outputs": [
    {
     "data": {
      "text/plain": [
       "Text(0.5,1,'Accucary vs. Hyperparameter C')"
      ]
     },
     "execution_count": 115,
     "metadata": {},
     "output_type": "execute_result"
    },
    {
     "data": {
      "image/png": "[encoded data removed]",
      "text/plain": [
       "<matplotlib.figure.Figure at 0x19c9772e7f0>"
      ]
     },
     "metadata": {},
     "output_type": "display_data"
    }
   ],
   "source": [
    "plt.plot(c_list, mean_test_folds, 'b')\n",
    "plt.plot(c_list, mean_train_folds, 'r')\n",
    "plt.grid()\n",
    "plt.legend(['Test', 'Train' ])\n",
    "plt.xlabel(\"C\")\n",
    "plt.ylabel(\"Accuracy\")\n",
    "plt.title('Accucary vs. Hyperparameter C')"
   ]
  },
  {
   "cell_type": "code",
   "execution_count": 116,
   "metadata": {},
   "outputs": [
    {
     "data": {
      "text/html": [
       "<div>\n",
       "<style>\n",
       "    .dataframe thead tr:only-child th {\n",
       "        text-align: right;\n",
       "    }\n",
       "\n",
       "    .dataframe thead th {\n",
       "        text-align: left;\n",
       "    }\n",
       "\n",
       "    .dataframe tbody tr th {\n",
       "        vertical-align: top;\n",
       "    }\n",
       "</style>\n",
       "<table border=\"1\" class=\"dataframe\">\n",
       "  <thead>\n",
       "    <tr style=\"text-align: right;\">\n",
       "      <th></th>\n",
       "      <th>C</th>\n",
       "      <th>Average mean test</th>\n",
       "      <th>Average mean train</th>\n",
       "    </tr>\n",
       "  </thead>\n",
       "  <tbody>\n",
       "    <tr>\n",
       "      <th>0</th>\n",
       "      <td>0.01</td>\n",
       "      <td>60.081522</td>\n",
       "      <td>59.877717</td>\n",
       "    </tr>\n",
       "    <tr>\n",
       "      <th>1</th>\n",
       "      <td>0.10</td>\n",
       "      <td>72.608696</td>\n",
       "      <td>85.767663</td>\n",
       "    </tr>\n",
       "    <tr>\n",
       "      <th>2</th>\n",
       "      <td>1.00</td>\n",
       "      <td>81.385870</td>\n",
       "      <td>95.781250</td>\n",
       "    </tr>\n",
       "    <tr>\n",
       "      <th>3</th>\n",
       "      <td>2.00</td>\n",
       "      <td>81.875000</td>\n",
       "      <td>97.588315</td>\n",
       "    </tr>\n",
       "    <tr>\n",
       "      <th>4</th>\n",
       "      <td>5.00</td>\n",
       "      <td>82.364130</td>\n",
       "      <td>98.967391</td>\n",
       "    </tr>\n",
       "    <tr>\n",
       "      <th>5</th>\n",
       "      <td>10.00</td>\n",
       "      <td>82.282609</td>\n",
       "      <td>99.483696</td>\n",
       "    </tr>\n",
       "    <tr>\n",
       "      <th>6</th>\n",
       "      <td>20.00</td>\n",
       "      <td>82.472826</td>\n",
       "      <td>99.687500</td>\n",
       "    </tr>\n",
       "    <tr>\n",
       "      <th>7</th>\n",
       "      <td>50.00</td>\n",
       "      <td>81.956522</td>\n",
       "      <td>99.816576</td>\n",
       "    </tr>\n",
       "    <tr>\n",
       "      <th>8</th>\n",
       "      <td>100.00</td>\n",
       "      <td>81.603261</td>\n",
       "      <td>99.918478</td>\n",
       "    </tr>\n",
       "  </tbody>\n",
       "</table>\n",
       "</div>"
      ],
      "text/plain": [
       "        C  Average mean test  Average mean train\n",
       "0    0.01          60.081522           59.877717\n",
       "1    0.10          72.608696           85.767663\n",
       "2    1.00          81.385870           95.781250\n",
       "3    2.00          81.875000           97.588315\n",
       "4    5.00          82.364130           98.967391\n",
       "5   10.00          82.282609           99.483696\n",
       "6   20.00          82.472826           99.687500\n",
       "7   50.00          81.956522           99.816576\n",
       "8  100.00          81.603261           99.918478"
      ]
     },
     "execution_count": 116,
     "metadata": {},
     "output_type": "execute_result"
    }
   ],
   "source": [
    "df =pd.DataFrame({'C':c_list, 'Average mean train':mean_train_folds, 'Average mean test':mean_test_folds})\n",
    "\n",
    "df[[ 'C', 'Average mean test', 'Average mean train']]"
   ]
  },
  {
   "cell_type": "markdown",
   "metadata": {},
   "source": [
    "According to the table, the best model is the one with C=20, so we retrain the model with the whole train data set and compute accuracy on the test set. The accuracy on the test set is 85.342% which is close to the mean test accuracy of the k-fold cross validaiton (82.47%)."
   ]
  },
  {
   "cell_type": "code",
   "execution_count": 106,
   "metadata": {},
   "outputs": [
    {
     "name": "stdout",
     "output_type": "stream",
     "text": [
      "Accuracy = 85.342% (786/921) (classification)\n"
     ]
    }
   ],
   "source": [
    "X_train = convert_to_format(X_train)\n",
    "y_train = list(y_train)\n",
    "\n",
    "X_test = convert_to_format(X_test)\n",
    "y_test = list(y_test)\n",
    "\n",
    "m = svm_train(y_train, X_train, '-c 20')\n",
    "p=svm_predict(y_test, X_test, m)"
   ]
  },
  {
   "cell_type": "markdown",
   "metadata": {
    "collapsed": true
   },
   "source": [
    "## Part B: Pre-processing and learning SVM\n",
    "\n",
    "The seconde dataset is donwloaded This dataset is the mixture of different datasets of SMS message. They are labeled as SPAM or HAM. However, we get row text, therefore, the columns should be processed to get features that can be used on a learning algorithm. \n",
    "\n",
    "To perform this task, the following steps are done:\n",
    "\n",
    "* Importing the data\n",
    "* Importing stop_words\n",
    "* Converting to lower case\n",
    "* Taking out special characters and numbers\n",
    "* Counting word\n",
    "* Term frequency matrix\n",
    "* Grid seach\n",
    "* Choosing and training of final model\n",
    "* Evaluating final model"
   ]
  },
  {
   "cell_type": "code",
   "execution_count": 2,
   "metadata": {
    "collapsed": true
   },
   "outputs": [],
   "source": [
    "#Importing data\n",
    "data2 = pd.read_csv(\"data\\smsspamcollection\\SMSSpamCollection\", sep=\"\\t\", names=['Label', 'Text'])"
   ]
  },
  {
   "cell_type": "code",
   "execution_count": 4,
   "metadata": {},
   "outputs": [
    {
     "data": {
      "text/html": [
       "<div>\n",
       "<style>\n",
       "    .dataframe thead tr:only-child th {\n",
       "        text-align: right;\n",
       "    }\n",
       "\n",
       "    .dataframe thead th {\n",
       "        text-align: left;\n",
       "    }\n",
       "\n",
       "    .dataframe tbody tr th {\n",
       "        vertical-align: top;\n",
       "    }\n",
       "</style>\n",
       "<table border=\"1\" class=\"dataframe\">\n",
       "  <thead>\n",
       "    <tr style=\"text-align: right;\">\n",
       "      <th></th>\n",
       "      <th>Label</th>\n",
       "      <th>Text</th>\n",
       "    </tr>\n",
       "  </thead>\n",
       "  <tbody>\n",
       "    <tr>\n",
       "      <th>0</th>\n",
       "      <td>ham</td>\n",
       "      <td>Go until jurong point, crazy.. Available only ...</td>\n",
       "    </tr>\n",
       "    <tr>\n",
       "      <th>1</th>\n",
       "      <td>ham</td>\n",
       "      <td>Ok lar... Joking wif u oni...</td>\n",
       "    </tr>\n",
       "    <tr>\n",
       "      <th>2</th>\n",
       "      <td>spam</td>\n",
       "      <td>Free entry in 2 a wkly comp to win FA Cup fina...</td>\n",
       "    </tr>\n",
       "    <tr>\n",
       "      <th>3</th>\n",
       "      <td>ham</td>\n",
       "      <td>U dun say so early hor... U c already then say...</td>\n",
       "    </tr>\n",
       "    <tr>\n",
       "      <th>4</th>\n",
       "      <td>ham</td>\n",
       "      <td>Nah I don't think he goes to usf, he lives aro...</td>\n",
       "    </tr>\n",
       "  </tbody>\n",
       "</table>\n",
       "</div>"
      ],
      "text/plain": [
       "  Label                                               Text\n",
       "0   ham  Go until jurong point, crazy.. Available only ...\n",
       "1   ham                      Ok lar... Joking wif u oni...\n",
       "2  spam  Free entry in 2 a wkly comp to win FA Cup fina...\n",
       "3   ham  U dun say so early hor... U c already then say...\n",
       "4   ham  Nah I don't think he goes to usf, he lives aro..."
      ]
     },
     "execution_count": 4,
     "metadata": {},
     "output_type": "execute_result"
    }
   ],
   "source": [
    "data2.head()"
   ]
  },
  {
   "cell_type": "markdown",
   "metadata": {},
   "source": [
    "After importing, the stop words are imported from the library \"stop_words\". This library contains a large list of stop words for english that can be used to preprocess the dataset."
   ]
  },
  {
   "cell_type": "code",
   "execution_count": 3,
   "metadata": {},
   "outputs": [
    {
     "name": "stdout",
     "output_type": "stream",
     "text": [
      "Some stop words: ['about', 'above', 'after', 'again', 'against', 'all', 'am', 'an', 'and']\n"
     ]
    }
   ],
   "source": [
    "#Importing stop words\n",
    "from stop_words import  get_stop_words\n",
    "import re\n",
    "\n",
    "en_stop = get_stop_words('en')\n",
    "print(\"Some stop words:\", en_stop[1:10])"
   ]
  },
  {
   "cell_type": "markdown",
   "metadata": {},
   "source": [
    "Now, the text is processed so that all letters are converted to lower case, and numbers an special characters are eliminated. We also filter all stops words from training set."
   ]
  },
  {
   "cell_type": "code",
   "execution_count": 4,
   "metadata": {},
   "outputs": [
    {
     "data": {
      "text/plain": [
       "0    go jurong point crazy available bugis n great ...\n",
       "1                              ok lar joking wif u oni\n",
       "2    free entry  wkly comp win fa cup final tkts st...\n",
       "3                  u dun say early hor u c already say\n",
       "4          nah dont think goes usf lives around though\n",
       "Name: Text, dtype: object"
      ]
     },
     "execution_count": 4,
     "metadata": {},
     "output_type": "execute_result"
    }
   ],
   "source": [
    "data2.Text = data2.Text.apply(lambda x: x.lower()) ###All lower casetext\n",
    "data2.Text = data2.Text.apply(lambda x: re.sub(r'[^\\w\\s]','',x)) #only alpha-numeric and space\n",
    "data2.Text = data2.Text.apply(lambda x: re.sub(r'[0-9]','',x)) #filtering numbers\n",
    "\n",
    "#filtering stop words from all samples\n",
    "for stop_word in en_stop:\n",
    "    data2.Text = data2.Text.apply(lambda x: re.sub(r' '+stop_word+' ',' ', x) )\n",
    "\n",
    "data2.Text.head()"
   ]
  },
  {
   "cell_type": "code",
   "execution_count": 8,
   "metadata": {},
   "outputs": [
    {
     "name": "stdout",
     "output_type": "stream",
     "text": [
      "Shape of train: (4457, 1)\n",
      "Shape of test: (1115, 1)\n"
     ]
    }
   ],
   "source": [
    "#splitting train and test\n",
    "X_train, y_train, X_test, y_test = split_train_test(data2, 0.8, ['Text'], 'Label')\n",
    "\n",
    "print(\"Shape of train:\", X_train.shape)\n",
    "print(\"Shape of test:\", X_test.shape)"
   ]
  },
  {
   "cell_type": "markdown",
   "metadata": {},
   "source": [
    "In order to convert text to numbers, we perfomr a tf-idf transformation. TF-IDF transfrmation finds for each term $t$ in a document $d$ the normalized frequency ($tf$) and the inverse frequency ($idf$):\n",
    "\n",
    "$tf(t,d) = \\frac{f(t,d)}{max\\{f(t,d):t \\space \\epsilon \\space d\\}}$\n",
    "\n",
    "$idf(t,D) = log\\frac{|D|}{|\\{d \\space \\epsilon \\space D \\space : t \\space \\epsilon \\space d \\}|}$\n",
    "\n",
    "Where:\n",
    "\n",
    "* $|D|$: is the number of samples (numer of documents)\n",
    "* $|\\{d \\space \\epsilon \\space D \\space : t \\space \\epsilon \\space d \\}|$: is the number of documents where the term $t$ appears\n",
    "\n",
    "Finally, the TFIDF is calculated as [1]:\n",
    "\n",
    "$tfidf(t,d,D) = tf(t,d)\\times idf(t,D)$"
   ]
  },
  {
   "cell_type": "code",
   "execution_count": 10,
   "metadata": {},
   "outputs": [
    {
     "data": {
      "text/plain": [
       "(4457, 7597)"
      ]
     },
     "execution_count": 10,
     "metadata": {},
     "output_type": "execute_result"
    }
   ],
   "source": [
    "from sklearn.feature_extraction.text import CountVectorizer\n",
    "from sklearn.feature_extraction.text import TfidfTransformer\n",
    "\n",
    "#getting the frequency of terms\n",
    "count_vect = CountVectorizer()\n",
    "X_train_counts = count_vect.fit_transform(X_train.iloc[:,0])\n",
    "X_train_counts.shape"
   ]
  },
  {
   "cell_type": "code",
   "execution_count": 11,
   "metadata": {},
   "outputs": [
    {
     "data": {
      "text/plain": [
       "<4457x7597 sparse matrix of type '<class 'numpy.float64'>'\n",
       "\twith 39296 stored elements in Compressed Sparse Row format>"
      ]
     },
     "execution_count": 11,
     "metadata": {},
     "output_type": "execute_result"
    }
   ],
   "source": [
    "#getting the tf-idf transformation\n",
    "tfidf_transf = TfidfTransformer().fit(X_train_counts)\n",
    "X_train_tfidf = tfidf_transf.transform(X_train_counts)\n",
    "X_train_tfidf"
   ]
  },
  {
   "cell_type": "code",
   "execution_count": 12,
   "metadata": {},
   "outputs": [],
   "source": [
    "#transforming test data\n",
    "X_test_counts = count_vect.transform(X_test.iloc[:,0])\n",
    "X_test_tfidf = tfidf_transf.transform(X_test_counts)\n",
    "X_test = X_test_tfidf.toarray()\n",
    "\n",
    "#transforming labels (originally the are strings)\n",
    "y_train = np.array([1 if i==\"ham\" else 0 for i in y_train])\n",
    "y_test = np.array([1 if i==\"ham\" else 0 for i in y_test])"
   ]
  },
  {
   "cell_type": "code",
   "execution_count": 13,
   "metadata": {},
   "outputs": [
    {
     "name": "stdout",
     "output_type": "stream",
     "text": [
      "Best classifier:\n"
     ]
    },
    {
     "data": {
      "text/plain": [
       "SVC(C=1, cache_size=200, class_weight=None, coef0=0.0,\n",
       "  decision_function_shape='ovr', degree=3, gamma='auto', kernel='linear',\n",
       "  max_iter=-1, probability=False, random_state=None, shrinking=True,\n",
       "  tol=0.001, verbose=False)"
      ]
     },
     "execution_count": 13,
     "metadata": {},
     "output_type": "execute_result"
    }
   ],
   "source": [
    "from sklearn.metrics import make_scorer, f1_score\n",
    "from sklearn.model_selection import GridSearchCV\n",
    "from sklearn import svm\n",
    "\n",
    "#creating the hyperaparameter list\n",
    "kernel_list = ['linear', 'rbf']\n",
    "c_list=[0.01, 0.1, 1, 10, 20, 30, 100]\n",
    "\n",
    "#creating initial classifier\n",
    "clf = svm.SVC( )\n",
    "\n",
    "#creating hyperparameter dicionary for grid searh\n",
    "parameters={'C':c_list, 'kernel':kernel_list}\n",
    "\n",
    "#creating scorer for grid search\n",
    "f1_scorer = make_scorer(f1_score)\n",
    "\n",
    "#performing grid search\n",
    "svm_grid = GridSearchCV(clf, parameters, cv=5, scoring=f1_scorer)\n",
    "\n",
    "#fitting data\n",
    "svm_grid.fit(X_train_tfidf, y_train)\n",
    "\n",
    "#choosing the best estimator\n",
    "best_svm= svm_grid.best_estimator_\n",
    "\n",
    "print(\"Best classifier:\")\n",
    "best_svm"
   ]
  },
  {
   "cell_type": "code",
   "execution_count": 14,
   "metadata": {},
   "outputs": [
    {
     "data": {
      "text/plain": [
       "[{'C': 0.01, 'kernel': 'linear'},\n",
       " {'C': 0.01, 'kernel': 'rbf'},\n",
       " {'C': 0.1, 'kernel': 'linear'},\n",
       " {'C': 0.1, 'kernel': 'rbf'},\n",
       " {'C': 1, 'kernel': 'linear'},\n",
       " {'C': 1, 'kernel': 'rbf'},\n",
       " {'C': 10, 'kernel': 'linear'},\n",
       " {'C': 10, 'kernel': 'rbf'},\n",
       " {'C': 20, 'kernel': 'linear'},\n",
       " {'C': 20, 'kernel': 'rbf'},\n",
       " {'C': 30, 'kernel': 'linear'},\n",
       " {'C': 30, 'kernel': 'rbf'},\n",
       " {'C': 100, 'kernel': 'linear'},\n",
       " {'C': 100, 'kernel': 'rbf'}]"
      ]
     },
     "execution_count": 14,
     "metadata": {},
     "output_type": "execute_result"
    }
   ],
   "source": [
    "#printing the hyperparameter set list\n",
    "svm_grid.cv_results_['params']"
   ]
  },
  {
   "cell_type": "code",
   "execution_count": 15,
   "metadata": {},
   "outputs": [
    {
     "data": {
      "text/html": [
       "<div>\n",
       "<style>\n",
       "    .dataframe thead tr:only-child th {\n",
       "        text-align: right;\n",
       "    }\n",
       "\n",
       "    .dataframe thead th {\n",
       "        text-align: left;\n",
       "    }\n",
       "\n",
       "    .dataframe tbody tr th {\n",
       "        vertical-align: top;\n",
       "    }\n",
       "</style>\n",
       "<table border=\"1\" class=\"dataframe\">\n",
       "  <thead>\n",
       "    <tr style=\"text-align: right;\">\n",
       "      <th></th>\n",
       "      <th>C</th>\n",
       "      <th>Mean F1</th>\n",
       "    </tr>\n",
       "  </thead>\n",
       "  <tbody>\n",
       "    <tr>\n",
       "      <th>0</th>\n",
       "      <td>(0.01, linear)</td>\n",
       "      <td>0.927704</td>\n",
       "    </tr>\n",
       "    <tr>\n",
       "      <th>1</th>\n",
       "      <td>(0.01, rbf)</td>\n",
       "      <td>0.927704</td>\n",
       "    </tr>\n",
       "    <tr>\n",
       "      <th>2</th>\n",
       "      <td>(0.1, linear)</td>\n",
       "      <td>0.953030</td>\n",
       "    </tr>\n",
       "    <tr>\n",
       "      <th>3</th>\n",
       "      <td>(0.1, rbf)</td>\n",
       "      <td>0.927704</td>\n",
       "    </tr>\n",
       "    <tr>\n",
       "      <th>4</th>\n",
       "      <td>(1, linear)</td>\n",
       "      <td>0.986173</td>\n",
       "    </tr>\n",
       "    <tr>\n",
       "      <th>5</th>\n",
       "      <td>(1, rbf)</td>\n",
       "      <td>0.927704</td>\n",
       "    </tr>\n",
       "    <tr>\n",
       "      <th>6</th>\n",
       "      <td>(10, linear)</td>\n",
       "      <td>0.986158</td>\n",
       "    </tr>\n",
       "    <tr>\n",
       "      <th>7</th>\n",
       "      <td>(10, rbf)</td>\n",
       "      <td>0.927704</td>\n",
       "    </tr>\n",
       "    <tr>\n",
       "      <th>8</th>\n",
       "      <td>(20, linear)</td>\n",
       "      <td>0.986031</td>\n",
       "    </tr>\n",
       "    <tr>\n",
       "      <th>9</th>\n",
       "      <td>(20, rbf)</td>\n",
       "      <td>0.927704</td>\n",
       "    </tr>\n",
       "    <tr>\n",
       "      <th>10</th>\n",
       "      <td>(30, linear)</td>\n",
       "      <td>0.986031</td>\n",
       "    </tr>\n",
       "    <tr>\n",
       "      <th>11</th>\n",
       "      <td>(30, rbf)</td>\n",
       "      <td>0.927704</td>\n",
       "    </tr>\n",
       "    <tr>\n",
       "      <th>12</th>\n",
       "      <td>(100, linear)</td>\n",
       "      <td>0.986031</td>\n",
       "    </tr>\n",
       "    <tr>\n",
       "      <th>13</th>\n",
       "      <td>(100, rbf)</td>\n",
       "      <td>0.927704</td>\n",
       "    </tr>\n",
       "  </tbody>\n",
       "</table>\n",
       "</div>"
      ],
      "text/plain": [
       "                 C   Mean F1\n",
       "0   (0.01, linear)  0.927704\n",
       "1      (0.01, rbf)  0.927704\n",
       "2    (0.1, linear)  0.953030\n",
       "3       (0.1, rbf)  0.927704\n",
       "4      (1, linear)  0.986173\n",
       "5         (1, rbf)  0.927704\n",
       "6     (10, linear)  0.986158\n",
       "7        (10, rbf)  0.927704\n",
       "8     (20, linear)  0.986031\n",
       "9        (20, rbf)  0.927704\n",
       "10    (30, linear)  0.986031\n",
       "11       (30, rbf)  0.927704\n",
       "12   (100, linear)  0.986031\n",
       "13      (100, rbf)  0.927704"
      ]
     },
     "execution_count": 15,
     "metadata": {},
     "output_type": "execute_result"
    }
   ],
   "source": [
    "#creating table to plot\n",
    "x_axis = [(i['C'], i['kernel']) for i in svm_grid.cv_results_['params']]\n",
    "y_axis = svm_grid.cv_results_['mean_test_score']\n",
    "pd.DataFrame({'C':x_axis, 'Mean F1':y_axis })"
   ]
  },
  {
   "cell_type": "code",
   "execution_count": 16,
   "metadata": {},
   "outputs": [
    {
     "data": {
      "text/plain": [
       "0.9882111737570477"
      ]
     },
     "execution_count": 16,
     "metadata": {},
     "output_type": "execute_result"
    }
   ],
   "source": [
    "#prediction on new (test) data\n",
    "pred_test = best_svm.predict(X_test_tfidf)\n",
    "f1_score(y_test, pred_test)"
   ]
  },
  {
   "cell_type": "markdown",
   "metadata": {},
   "source": [
    "The f1-score on test (0.9882) is very similar to the one obtained during cross validation for the best hyeraparameter set (f1-score = 0.9861). It implies good generalization. We can also see from the next boxplot, that over the folds, the deviation from the mean score is very low."
   ]
  },
  {
   "cell_type": "code",
   "execution_count": 20,
   "metadata": {},
   "outputs": [
    {
     "data": {
      "text/plain": [
       "Text(0,0.5,'F1-score')"
      ]
     },
     "execution_count": 20,
     "metadata": {},
     "output_type": "execute_result"
    },
    {
     "data": {
      "image/png": "[encoded data removed]",
      "text/plain": [
       "<matplotlib.figure.Figure at 0x22566bf9668>"
      ]
     },
     "metadata": {},
     "output_type": "display_data"
    }
   ],
   "source": [
    "from sklearn.model_selection import cross_val_score\n",
    "\n",
    "metrics_svm = cross_val_score(best_svm, X_train_tfidf, y_train, cv=5)\n",
    "plt.boxplot(metrics_svm)\n",
    "plt.grid()\n",
    "plt.title(\"Boxplot of score per fold\")\n",
    "plt.ylabel(\"F1-score\")"
   ]
  },
  {
   "cell_type": "markdown",
   "metadata": {},
   "source": [
    "# Exercise 2: Compare SVM based spam flter wth another model (Gradient Boosting Tree)"
   ]
  },
  {
   "cell_type": "markdown",
   "metadata": {},
   "source": [
    "Now we want to compare the previous model, with another model. For that, we choose gradient boosting trees implementation of scikit-learn. Thanks to the ensemble model involved in the GBT, they tend also to give a very good generalization. We find the best hyperparameter set for this model using cross-validation. The consiered hyperparameters are: max depth and number of estimators."
   ]
  },
  {
   "cell_type": "code",
   "execution_count": 21,
   "metadata": {
    "collapsed": true
   },
   "outputs": [],
   "source": [
    "#importing and creating classifiert\n",
    "from sklearn import ensemble\n",
    "gbc = ensemble.GradientBoostingClassifier()"
   ]
  },
  {
   "cell_type": "code",
   "execution_count": 35,
   "metadata": {},
   "outputs": [
    {
     "name": "stdout",
     "output_type": "stream",
     "text": [
      "Fitting 5 folds for each of 12 candidates, totalling 60 fits\n"
     ]
    },
    {
     "name": "stderr",
     "output_type": "stream",
     "text": [
      "[Parallel(n_jobs=1)]: Done  60 out of  60 | elapsed:  6.3min finished\n"
     ]
    },
    {
     "data": {
      "text/plain": [
       "GradientBoostingClassifier(criterion='friedman_mse', init=None,\n",
       "              learning_rate=0.1, loss='deviance', max_depth=2,\n",
       "              max_features=None, max_leaf_nodes=None,\n",
       "              min_impurity_decrease=0.0, min_impurity_split=None,\n",
       "              min_samples_leaf=1, min_samples_split=2,\n",
       "              min_weight_fraction_leaf=0.0, n_estimators=200,\n",
       "              presort='auto', random_state=None, subsample=1.0, verbose=0,\n",
       "              warm_start=False)"
      ]
     },
     "execution_count": 35,
     "metadata": {},
     "output_type": "execute_result"
    }
   ],
   "source": [
    "#hyperparameter slist\n",
    "max_depth_list = [2,10,100]\n",
    "n_estimators_list=[5, 50, 100, 200]\n",
    "\n",
    "#creating hyperaparamter list for grid search\n",
    "parameters={'max_depth': max_depth_list, 'n_estimators': n_estimators_list}\n",
    "\n",
    "#creating scorer for f1-score\n",
    "f1_scorer = make_scorer(f1_score)\n",
    "\n",
    "#grid search over the hyperparameter set\n",
    "gbc_grid = GridSearchCV(gbc, parameters, cv=5, scoring=f1_scorer, verbose=1)\n",
    "gbc_grid.fit(X_train_tfidf, y_train)\n",
    "\n",
    "#choosing the best estimator\n",
    "best_gbc= gbc_grid.best_estimator_\n",
    "best_gbc"
   ]
  },
  {
   "cell_type": "code",
   "execution_count": 36,
   "metadata": {},
   "outputs": [
    {
     "data": {
      "text/html": [
       "<div>\n",
       "<style>\n",
       "    .dataframe thead tr:only-child th {\n",
       "        text-align: right;\n",
       "    }\n",
       "\n",
       "    .dataframe thead th {\n",
       "        text-align: left;\n",
       "    }\n",
       "\n",
       "    .dataframe tbody tr th {\n",
       "        vertical-align: top;\n",
       "    }\n",
       "</style>\n",
       "<table border=\"1\" class=\"dataframe\">\n",
       "  <thead>\n",
       "    <tr style=\"text-align: right;\">\n",
       "      <th></th>\n",
       "      <th>C</th>\n",
       "      <th>Mean F1</th>\n",
       "    </tr>\n",
       "  </thead>\n",
       "  <tbody>\n",
       "    <tr>\n",
       "      <th>0</th>\n",
       "      <td>(2, 5)</td>\n",
       "      <td>0.932078</td>\n",
       "    </tr>\n",
       "    <tr>\n",
       "      <th>1</th>\n",
       "      <td>(2, 50)</td>\n",
       "      <td>0.967502</td>\n",
       "    </tr>\n",
       "    <tr>\n",
       "      <th>2</th>\n",
       "      <td>(2, 100)</td>\n",
       "      <td>0.973739</td>\n",
       "    </tr>\n",
       "    <tr>\n",
       "      <th>3</th>\n",
       "      <td>(2, 200)</td>\n",
       "      <td>0.979350</td>\n",
       "    </tr>\n",
       "    <tr>\n",
       "      <th>4</th>\n",
       "      <td>(10, 5)</td>\n",
       "      <td>0.967793</td>\n",
       "    </tr>\n",
       "    <tr>\n",
       "      <th>5</th>\n",
       "      <td>(10, 50)</td>\n",
       "      <td>0.974688</td>\n",
       "    </tr>\n",
       "    <tr>\n",
       "      <th>6</th>\n",
       "      <td>(10, 100)</td>\n",
       "      <td>0.975831</td>\n",
       "    </tr>\n",
       "    <tr>\n",
       "      <th>7</th>\n",
       "      <td>(10, 200)</td>\n",
       "      <td>0.976863</td>\n",
       "    </tr>\n",
       "    <tr>\n",
       "      <th>8</th>\n",
       "      <td>(100, 5)</td>\n",
       "      <td>0.974640</td>\n",
       "    </tr>\n",
       "    <tr>\n",
       "      <th>9</th>\n",
       "      <td>(100, 50)</td>\n",
       "      <td>0.973663</td>\n",
       "    </tr>\n",
       "    <tr>\n",
       "      <th>10</th>\n",
       "      <td>(100, 100)</td>\n",
       "      <td>0.973792</td>\n",
       "    </tr>\n",
       "    <tr>\n",
       "      <th>11</th>\n",
       "      <td>(100, 200)</td>\n",
       "      <td>0.973658</td>\n",
       "    </tr>\n",
       "  </tbody>\n",
       "</table>\n",
       "</div>"
      ],
      "text/plain": [
       "             C   Mean F1\n",
       "0       (2, 5)  0.932078\n",
       "1      (2, 50)  0.967502\n",
       "2     (2, 100)  0.973739\n",
       "3     (2, 200)  0.979350\n",
       "4      (10, 5)  0.967793\n",
       "5     (10, 50)  0.974688\n",
       "6    (10, 100)  0.975831\n",
       "7    (10, 200)  0.976863\n",
       "8     (100, 5)  0.974640\n",
       "9    (100, 50)  0.973663\n",
       "10  (100, 100)  0.973792\n",
       "11  (100, 200)  0.973658"
      ]
     },
     "execution_count": 36,
     "metadata": {},
     "output_type": "execute_result"
    }
   ],
   "source": [
    "x_axis = [(i['max_depth'], i['n_estimators']) for i in rf_grid.cv_results_['params']]\n",
    "y_axis = rf_grid.cv_results_['mean_test_score']\n",
    "pd.DataFrame({'C':x_axis, 'Mean F1':y_axis })"
   ]
  },
  {
   "cell_type": "code",
   "execution_count": 37,
   "metadata": {},
   "outputs": [
    {
     "data": {
      "text/plain": [
       "0.98168870803662267"
      ]
     },
     "execution_count": 37,
     "metadata": {},
     "output_type": "execute_result"
    }
   ],
   "source": [
    "#prediction on new (test) data\n",
    "pred_test = best_rf.predict(X_test_tfidf)\n",
    "f1_score(y_test, pred_test)"
   ]
  },
  {
   "cell_type": "code",
   "execution_count": 34,
   "metadata": {},
   "outputs": [
    {
     "data": {
      "text/plain": [
       "Text(0,0.5,'F1-score')"
      ]
     },
     "execution_count": 34,
     "metadata": {},
     "output_type": "execute_result"
    },
    {
     "data": {
      "image/png": "[encoded data removed]",
      "text/plain": [
       "<matplotlib.figure.Figure at 0x2256755dc50>"
      ]
     },
     "metadata": {},
     "output_type": "display_data"
    }
   ],
   "source": [
    "metrics_gbc = cross_val_score(best_rf, X_train_tfidf, y_train, cv=5)\n",
    "\n",
    "metrics_gbc = cross_val_score(best_rf, X_train_tfidf, y_train, cv=5)\n",
    "plt.boxplot(metrics_rf)\n",
    "plt.grid()\n",
    "plt.title(\"Boxplot of score per fold\")\n",
    "plt.ylabel(\"F1-score\")"
   ]
  },
  {
   "cell_type": "markdown",
   "metadata": {},
   "source": [
    "With GBC the results are very similar to the ons obtained with SVM (only slighylt lower f1-score in test set). For svm the score on training set was: 0.9882 and for gradient boosting, we obtained 0.9816. However the main difference is on the standar deviation from the results in SVM and GB. We see that the standard deviation of the k-fold results is much lower than for GB. This shows that SVM is able to reach similar resutls for the different sets, therefore it has a better generalization. In fact, this is a well know property of the SVM [2]."
   ]
  },
  {
   "cell_type": "markdown",
   "metadata": {},
   "source": [
    "## References:\n",
    "\n",
    "[1] Term frequency - inverse document frequency (tf-idf): https://es.m.wikipedia.org/wiki/Tf-idf\n",
    "\n",
    "[2] C. Bishop. _Machine Learning and Pattern Recogtion_\". Springer"
   ]
  }
 ],
 "metadata": {
  "kernelspec": {
   "display_name": "Python 3",
   "language": "python",
   "name": "python3"
  },
  "language_info": {
   "codemirror_mode": {
    "name": "ipython",
    "version": 3
   },
   "file_extension": ".py",
   "mimetype": "text/x-python",
   "name": "python",
   "nbconvert_exporter": "python",
   "pygments_lexer": "ipython3",
   "version": "3.6.3"
  }
 },
 "nbformat": 4,
 "nbformat_minor": 2
}
