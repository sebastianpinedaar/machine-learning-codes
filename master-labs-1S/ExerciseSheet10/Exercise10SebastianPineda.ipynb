{
 "cells": [
  {
   "cell_type": "markdown",
   "metadata": {},
   "source": [
    "<H1><CENTER> Machine Learning Lab - Exercise Sheet 10 <br /></CENTER></H1>\n",
    "<H2><CENTER> Author: Sebastian Pineda Arango  <br />\n",
    "ID: 246098<br />\n",
    "Universität Hildesheim - Data Analytics Master </CENTER></H2>\n",
    "\n",
    "<img src=\"https://www.uni-hildesheim.de/typo3conf/ext/unihildesheim/Resources/Public/Images/logo-uni.svgz\" width=\"100\">\n"
   ]
  },
  {
   "cell_type": "markdown",
   "metadata": {},
   "source": [
    "## Exercise 1"
   ]
  },
  {
   "cell_type": "markdown",
   "metadata": {},
   "source": [
    "In this exercise we want to aply clusterin methods to two differente datasets:\n",
    "\n",
    "- Dataset 1: Iris dataset (in sparse format) https://www.csie.ntu.edu.tw/~cjlin/libsvmtools/datasets/multiclass/iris.scale\n",
    "\n",
    "- Dataset 2: 20 news dataset: http://qwone.com/~jason/20Newsgroups/"
   ]
  },
  {
   "cell_type": "markdown",
   "metadata": {},
   "source": [
    "Firstly, we want to cluster Iris dataset. The dataset is well-known tdataset, with four features, 150 samples and three classes. However, in this case we are going to neglect the classes, since we want to work only in an unsupervised way."
   ]
  },
  {
   "cell_type": "markdown",
   "metadata": {},
   "source": [
    "#### Step 1: Importing libraries"
   ]
  },
  {
   "cell_type": "code",
   "execution_count": 1,
   "metadata": {
    "collapsed": true
   },
   "outputs": [],
   "source": [
    "#Importing libraries\n",
    "import numpy as np\n",
    "import pandas as pd\n",
    "import matplotlib.pyplot as plt\n",
    "from sklearn.datasets import load_svmlight_file\n",
    "\n",
    "%matplotlib inline"
   ]
  },
  {
   "cell_type": "markdown",
   "metadata": {},
   "source": [
    "#### Step 2: Reading file\n",
    "\n",
    "The file is in sparse format, however the function load_svm_light_file returns the design matrix and the label vectors. We also transform the returned design matrix (which is in sparse compressed format) to dense matrix."
   ]
  },
  {
   "cell_type": "code",
   "execution_count": 2,
   "metadata": {
    "collapsed": true
   },
   "outputs": [],
   "source": [
    "#Reading file\n",
    "data = load_svmlight_file(\"iris.scale.txt\")\n",
    "X = data[0]\n",
    "y = data[1]\n",
    "\n",
    "#transforming to dense matrix\n",
    "X_dense = X.todense()"
   ]
  },
  {
   "cell_type": "markdown",
   "metadata": {},
   "source": [
    "#### Step 3: Implementing K-Means algorithm\n",
    "\n",
    "To implement k-means algorhtm, four functions are defined:\n",
    "\n",
    "- find_assignation: to find the cluster to which each sample belongs to.\n",
    "- find_center: to update the center after and assignation step\n",
    "- find_MSE: to evaluate the clustering\n"
   ]
  },
  {
   "cell_type": "code",
   "execution_count": 3,
   "metadata": {
    "collapsed": true
   },
   "outputs": [],
   "source": [
    "def find_assignation(X,C):\n",
    "    \n",
    "    '''Finds the cluster represented by centers in C to which each \n",
    "       sample of X belongs. Returns the number of the cluster for \n",
    "       each sample.'''\n",
    "    \n",
    "    assignation=[]\n",
    "    for i in range(X.shape[0]):\n",
    "        \n",
    "        #Look for the closes center for each data point\n",
    "        assignation.append(np.argmin(np.linalg.norm(X[i,]-C,axis=1)))\n",
    "\n",
    "    return assignation\n",
    "\n",
    "def find_center(X, assignation, k):\n",
    "    \n",
    "    '''Returns the new centers according to the assignation. '''\n",
    "    \n",
    "    d = X.shape[1]\n",
    "    C = np.zeros([k, d])\n",
    "    \n",
    "    for i in list(set(assignation)):\n",
    "        \n",
    "        #calculate the new center with assgination index given by i\n",
    "        C[i,:] = X[np.array(assignation)==i,:].mean(axis=0)\n",
    "    \n",
    "    return C\n",
    "\n",
    "def find_MSE(X,C,assignation):\n",
    "    \n",
    "    '''Returns the RMSE for a given clustering configuration: (data and centers)'''\n",
    "    \n",
    "    q = []\n",
    "    \n",
    "    for i, a in enumerate(assignation):\n",
    "        q.append(np.linalg.norm(X[i,]-C[a,])**2)\n",
    "    \n",
    "    return np.mean(q)\n",
    "\n",
    "\n",
    "def K_means(X, k, max_iter = 50):\n",
    "    \n",
    "    '''Performs K-Means clustering, where K is the number of cluster to return'''\n",
    "\n",
    "    #Initialization of variables\n",
    "    d = X.shape[1] #dimension of the problem\n",
    "    C= np.random.random((k,d)) #random centers initialization\n",
    "    MSE_list = []\n",
    "    \n",
    "    #First run of assignation \n",
    "    assignation = find_assignation(X,C)\n",
    "    MSE = find_MSE(X, C, assignation)\n",
    "    MSE_list.append(MSE)\n",
    "\n",
    "    for i in range(4):\n",
    "\n",
    "        #updating centers\n",
    "        C = find_center(X, assignation, k)\n",
    "        \n",
    "        #assignation of data to cluster accordint to centers\n",
    "        assignation = find_assignation(X,C)\n",
    "        \n",
    "        #computing RMSE\n",
    "        last_MSE = MSE\n",
    "        MSE = find_MSE(X, C, assignation)\n",
    "        \n",
    "        #saving data for plotting\n",
    "        MSE_list.append(MSE)\n",
    "        \n",
    "        #convergence criterion: if MSE change is small\n",
    "        if(np.abs(last_MSE-MSE)<0.0001):\n",
    "            break\n",
    "\n",
    "            \n",
    "    return C, np.array(assignation), MSE_list\n",
    "    "
   ]
  },
  {
   "cell_type": "markdown",
   "metadata": {},
   "source": [
    "#### Step 4: Evaluating the performance of the algorithm\n",
    "\n",
    "Evaluating the clustering is a though task, since no data classes are given a priori. Therefore, some methodologies and heuristics have been developed to assess the quality of the clustering. Maybe, one of the most well known is the elbow criteria, which states that the number of cluster should be located near to the point where the curve RMSE vs. Number of clusters change a lot. A reinterpretation of that is: where the second derivative is maximal.\n",
    "\n",
    "Another criteria is also the index Silhouette. This index aims to minimize the intracluster distance (distance between points of the same cluster) and, at the same time, to maximize the intercluster distance (distance between clusters centers) [2].\n",
    "\n",
    "The silhouette index for a sample i is given by:\n",
    "\n",
    "$s(i) = \\frac{b(i)-a(i)}{max\\{a(i),b(i)\\}}$\n",
    "\n",
    "The silhouette index  of a clustering setting is therefore the mean of the cluster indeces of the individual samples."
   ]
  },
  {
   "cell_type": "code",
   "execution_count": 17,
   "metadata": {},
   "outputs": [
    {
     "name": "stdout",
     "output_type": "stream",
     "text": [
      "Trying k= 2\n",
      "Trying k= 3\n",
      "Trying k= 4\n",
      "Trying k= 5\n",
      "Trying k= 6\n",
      "Trying k= 7\n",
      "Trying k= 8\n",
      "Trying k= 9\n",
      "Trying k= 10\n"
     ]
    },
    {
     "name": "stderr",
     "output_type": "stream",
     "text": [
      "C:\\Users\\User\\Anaconda3\\lib\\site-packages\\numpy\\core\\fromnumeric.py:2909: RuntimeWarning: Mean of empty slice.\n",
      "  out=out, **kwargs)\n",
      "C:\\Users\\User\\Anaconda3\\lib\\site-packages\\numpy\\core\\_methods.py:80: RuntimeWarning: invalid value encountered in double_scalars\n",
      "  ret = ret.dtype.type(ret / rcount)\n"
     ]
    },
    {
     "name": "stdout",
     "output_type": "stream",
     "text": [
      "Trying k= 11\n",
      "Trying k= 12\n",
      "Trying k= 13\n",
      "Trying k= 14\n",
      "Trying k= 15\n",
      "Trying k= 16\n",
      "Trying k= 17\n",
      "Trying k= 18\n",
      "Trying k= 19\n",
      "The best number of k is 2\n"
     ]
    }
   ],
   "source": [
    "def silhouette(X, A, k):\n",
    "    \n",
    "    '''This function evaluates the silhouette index for a dataset X, given\n",
    "    an assignation A (this includes information of clustering).'''\n",
    "    \n",
    "    print(\"Trying k=\",k)\n",
    "    sil= []\n",
    "    for i in range(X.shape[0]):\n",
    "        dist_to_k = []\n",
    "        for k_i in range(k):\n",
    "            \n",
    "            dist= np.mean(np.linalg.norm(X[i,]-X[A==k_i,], axis=1))\n",
    "            \n",
    "            if(k_i == A[i]):\n",
    "                a = dist\n",
    "            else:\n",
    "                dist_to_k.append(dist)\n",
    "                \n",
    "        m_min = min(dist_to_k)\n",
    "        sil_x = (m_min-a)/max((a, m_min))\n",
    "        sil.append(sil_x)\n",
    "        \n",
    "    return np.mean(sil)\n",
    "    \n",
    "\n",
    "def find_K_with_silhouette (X, max_k):\n",
    "    \n",
    "    '''This function iterates over a set of K values and pick the k\n",
    "    with the most apporpiate silhouette index'''\n",
    "    max_iter=100\n",
    "    sil_list = []\n",
    "    for i in range(2,max_k):\n",
    "        \n",
    "        #cluster data using k-means\n",
    "        C, A, MSE_list = K_means(X,i, max_iter)\n",
    "        \n",
    "        #find the silhouette index of the clustering\n",
    "        sil = silhouette(X, A, i)\n",
    "        \n",
    "        #append index to indeces list\n",
    "        sil_list.append(sil)\n",
    "    \n",
    "    return sil_list, np.argmax(sil_list)+2\n",
    "\n",
    "#find best K\n",
    "max_k = 20\n",
    "sil_list, best_k = find_K_with_silhouette(X_dense, max_k)\n",
    "print(\"The best number of k is\", best_k)"
   ]
  },
  {
   "cell_type": "code",
   "execution_count": 48,
   "metadata": {},
   "outputs": [
    {
     "name": "stdout",
     "output_type": "stream",
     "text": [
      "Trying with k= 1\n",
      "Trying with k= 2\n",
      "Trying with k= 3\n",
      "Trying with k= 4\n",
      "Trying with k= 5\n",
      "Trying with k= 6\n",
      "Trying with k= 7\n",
      "Trying with k= 8\n",
      "Trying with k= 9\n",
      "Trying with k= 10\n",
      "Trying with k= 11\n",
      "Trying with k= 12\n",
      "Trying with k= 13\n",
      "Trying with k= 14\n",
      "Trying with k= 15\n",
      "Trying with k= 16\n",
      "Trying with k= 17\n",
      "Trying with k= 18\n",
      "Trying with k= 19\n",
      "Best k for clustering: 2\n"
     ]
    }
   ],
   "source": [
    "def find_K_with_derivative(X, max_k):\n",
    "    \n",
    "    '''Iterates over different K and pick the one with \n",
    "    the highest second derivative (elbow criterion)'''\n",
    "    \n",
    "    k_list = list(range(1,max_k))\n",
    "    MSE_k_list  = []\n",
    "    max_iter = 100\n",
    "    \n",
    "    for k in k_list:\n",
    "        print(\"Trying with k=\",k)\n",
    "        C, A, MSE_list = K_means(X, k, max_iter)\n",
    "        MSE_k_list.append(MSE_list[-1])\n",
    "\n",
    "    second_derivative = [MSE_k_list[i+1] + MSE_k_list[i-1] - 2 * MSE_k_list[i] for i in range(1,len(MSE_k_list)-1)]\n",
    "    best_k = np.argmax(second_derivative)+2\n",
    "    \n",
    "    return second_derivative, best_k, MSE_k_list\n",
    "\n",
    "sd, best_k, MSE_list = find_K_with_derivative(X_dense, max_k)\n",
    "\n",
    "print(\"Best k for clustering:\", best_k)"
   ]
  },
  {
   "cell_type": "markdown",
   "metadata": {},
   "source": [
    "Now we put all the graphs together to pick the cluster size:"
   ]
  },
  {
   "cell_type": "code",
   "execution_count": 40,
   "metadata": {},
   "outputs": [
    {
     "data": {
      "image/png": "[encoded data removed]",
      "text/plain": [
       "<matplotlib.figure.Figure at 0x21761bb9780>"
      ]
     },
     "metadata": {},
     "output_type": "display_data"
    }
   ],
   "source": [
    "plt.plot(range(1, max_k), MSE_list)\n",
    "plt.xlabel(\"K\")\n",
    "plt.ylabel(\"MSE\")\n",
    "plt.title(\"Elbow Criterion\")\n",
    "\n",
    "x1 = range(1,4)\n",
    "y1 = MSE_list[:3]\n",
    "m1,b1 = np.polyfit(x1, y1, 1) \n",
    "\n",
    "x2 = range(max_k-6,max_k)\n",
    "y2 = MSE_list[-6:]\n",
    "m2,b2 = np.polyfit(x2, y2, 1) \n",
    "\n",
    "x = range(1, max_k)\n",
    "plt.plot(x, m2*x+b2, 'red')\n",
    "plt.plot(x1, m1*x1+b1, 'red')\n",
    "plt.grid()"
   ]
  },
  {
   "cell_type": "code",
   "execution_count": 46,
   "metadata": {},
   "outputs": [
    {
     "data": {
      "text/plain": [
       "Text(0.5,1,'Silohuette Criterion')"
      ]
     },
     "execution_count": 46,
     "metadata": {},
     "output_type": "execute_result"
    },
    {
     "data": {
      "image/png": "[encoded data removed]",
      "text/plain": [
       "<matplotlib.figure.Figure at 0x21762cd5470>"
      ]
     },
     "metadata": {},
     "output_type": "display_data"
    }
   ],
   "source": [
    "plt.plot(range(2,max_k),sil_list)\n",
    "plt.grid()\n",
    "plt.xlabel(\"K\")\n",
    "plt.ylabel(\"Silhouette index\")\n",
    "plt.title(\"Silohuette Criterion\")"
   ]
  },
  {
   "cell_type": "code",
   "execution_count": 56,
   "metadata": {},
   "outputs": [
    {
     "data": {
      "text/plain": [
       "Text(0,0.5,'Derivative')"
      ]
     },
     "execution_count": 56,
     "metadata": {},
     "output_type": "execute_result"
    },
    {
     "data": {
      "image/png": "[encoded data removed]",
      "text/plain": [
       "<matplotlib.figure.Figure at 0x217630faf98>"
      ]
     },
     "metadata": {},
     "output_type": "display_data"
    }
   ],
   "source": [
    "plt.plot(range(2,max_k-1), sd)\n",
    "plt.grid()\n",
    "plt.xlabel(\"K\")\n",
    "plt.ylabel(\"Derivative\")"
   ]
  },
  {
   "cell_type": "markdown",
   "metadata": {},
   "source": [
    "To get the exact number of optimal cluster is nearly impossible but there criterions somewhat give a closer insight. According to the elbow criterion, the number of cluster should be 3. By referring to second derviative and sihlouette, the decision would be for 2 clusters.\n",
    "\n",
    "It is, therefore, aceptable to claim that the proper number of cluster is 2. In the following we create  different plots to get an idea of how the data is being clustered along different dimensions. The clusters center are colored with red.Two centers turns to be a reasoable decision."
   ]
  },
  {
   "cell_type": "code",
   "execution_count": 57,
   "metadata": {},
   "outputs": [
    {
     "data": {
      "text/plain": [
       "Text(0,0.5,'Petal width')"
      ]
     },
     "execution_count": 57,
     "metadata": {},
     "output_type": "execute_result"
    },
    {
     "data": {
      "image/png": "[encoded data removed]",
      "text/plain": [
       "<matplotlib.figure.Figure at 0x2176303d080>"
      ]
     },
     "metadata": {},
     "output_type": "display_data"
    }
   ],
   "source": [
    "#Graphs \n",
    "X= X_dense\n",
    "k = 2\n",
    "C, A, MSE_list = K_means(X_dense,k, 120)\n",
    "\n",
    "plt.scatter(np.array(X[:,0]), np.array(X[:,1]))\n",
    "plt.scatter(np.array(C[:,0]), np.array(C[:,1]), c= \"red\")\n",
    "plt.grid()\n",
    "plt.xlabel(\"Petal length\")\n",
    "plt.ylabel(\"Petal width\")"
   ]
  },
  {
   "cell_type": "code",
   "execution_count": 61,
   "metadata": {},
   "outputs": [
    {
     "data": {
      "text/plain": [
       "Text(0,0.5,'Sepal width')"
      ]
     },
     "execution_count": 61,
     "metadata": {},
     "output_type": "execute_result"
    },
    {
     "data": {
      "image/png": "[encoded data removed]",
      "text/plain": [
       "<matplotlib.figure.Figure at 0x2176301f0f0>"
      ]
     },
     "metadata": {},
     "output_type": "display_data"
    }
   ],
   "source": [
    "#Graphs \n",
    "X= X_dense\n",
    "k = 2\n",
    "C, A, MSE_list = K_means(X_dense,k, 120)\n",
    "\n",
    "plt.scatter(np.array(X[:,2]), np.array(X[:,3]))\n",
    "plt.scatter(np.array(C[:,2]), np.array(C[:,3]), c= \"red\")\n",
    "plt.grid()\n",
    "plt.xlabel(\"Petal width\")\n",
    "plt.ylabel(\"Sepal width\")"
   ]
  },
  {
   "cell_type": "code",
   "execution_count": 62,
   "metadata": {},
   "outputs": [
    {
     "data": {
      "text/plain": [
       "Text(0,0.5,'Sepal length')"
      ]
     },
     "execution_count": 62,
     "metadata": {},
     "output_type": "execute_result"
    },
    {
     "data": {
      "image/png": "[encoded data removed]",
      "text/plain": [
       "<matplotlib.figure.Figure at 0x2176303dbe0>"
      ]
     },
     "metadata": {},
     "output_type": "display_data"
    }
   ],
   "source": [
    "#Graphs \n",
    "X= X_dense\n",
    "k = 2\n",
    "C, A, MSE_list = K_means(X_dense,k, 120)\n",
    "\n",
    "plt.scatter(np.array(X[:,1]), np.array(X[:,2]))\n",
    "plt.scatter(np.array(C[:,1]), np.array(C[:,2]), c= \"red\")\n",
    "plt.grid()\n",
    "plt.xlabel(\"Sepal length\")\n",
    "plt.ylabel(\"Sepal length\")"
   ]
  },
  {
   "cell_type": "markdown",
   "metadata": {},
   "source": [
    "# Exercise 2"
   ]
  },
  {
   "cell_type": "markdown",
   "metadata": {},
   "source": [
    "The second dataset consist in a set of news which belongs to 20 different topics. However, in this clustering task, we won't use the label. The main objective, then, is to perform cluster analysis and to find the best possible K for this data set."
   ]
  },
  {
   "cell_type": "markdown",
   "metadata": {},
   "source": [
    "#### Step 1: Readin dataset\n",
    "\n",
    "As the dataset are raw texts, we should list them and read them. Then we put it toggether in list to further processing."
   ]
  },
  {
   "cell_type": "code",
   "execution_count": 69,
   "metadata": {},
   "outputs": [
    {
     "name": "stdout",
     "output_type": "stream",
     "text": [
      "Gathering all news data...\n",
      "Reading alt.atheism folder\n",
      "Reading comp.graphics folder\n",
      "Reading comp.os.ms-windows.misc folder\n",
      "Reading comp.sys.ibm.pc.hardware folder\n",
      "Reading comp.sys.mac.hardware folder\n",
      "Reading comp.windows.x folder\n",
      "Reading misc.forsale folder\n",
      "Reading rec.autos folder\n",
      "Reading rec.motorcycles folder\n",
      "Reading rec.sport.baseball folder\n",
      "Reading rec.sport.hockey folder\n",
      "Reading sci.crypt folder\n",
      "Reading sci.electronics folder\n",
      "Reading sci.med folder\n",
      "Reading sci.space folder\n",
      "Reading soc.religion.christian folder\n",
      "Reading talk.politics.guns folder\n",
      "Reading talk.politics.mideast folder\n",
      "Reading talk.politics.misc folder\n",
      "Reading talk.religion.misc folder\n",
      "Reading alt.atheism folder\n",
      "Reading comp.graphics folder\n",
      "Reading comp.os.ms-windows.misc folder\n",
      "Reading comp.sys.ibm.pc.hardware folder\n",
      "Reading comp.sys.mac.hardware folder\n",
      "Reading comp.windows.x folder\n",
      "Reading misc.forsale folder\n",
      "Reading rec.autos folder\n",
      "Reading rec.motorcycles folder\n",
      "Reading rec.sport.baseball folder\n",
      "Reading rec.sport.hockey folder\n",
      "Reading sci.crypt folder\n",
      "Reading sci.electronics folder\n",
      "Reading sci.med folder\n",
      "Reading sci.space folder\n",
      "Reading soc.religion.christian folder\n",
      "Reading talk.politics.guns folder\n",
      "Reading talk.politics.mideast folder\n",
      "Reading talk.politics.misc folder\n",
      "Reading talk.religion.misc folder\n",
      "Shape of training set: (11314, 2)\n",
      "Shape of test set: (7532, 2)\n"
     ]
    }
   ],
   "source": [
    "#importing library to get data\n",
    "import os\n",
    "\n",
    "#path to th data\n",
    "path_to_train = \"20news-bydate/20news-bydate-train\"\n",
    "path_to_test = \"20news-bydate/20news-bydate-test\"\n",
    "\n",
    "\n",
    "def read_news(path):\n",
    "    \n",
    "    '''Function to read news located in given path folder'''\n",
    "    \n",
    "    class_list = []\n",
    "    text_list = []\n",
    "    folders = os.listdir(path)\n",
    "\n",
    "    for folder in folders:\n",
    "        files = os.listdir(path+\"/\"+folder)\n",
    "\n",
    "        print(\"Reading\", folder, \"folder\")\n",
    "\n",
    "        for file_name in files:\n",
    "            file = open(path+\"/\"+folder+\"/\"+file_name, 'r')\n",
    "            text = file.read()\n",
    "\n",
    "            class_list.append(folder)\n",
    "            text_list.append(text)\n",
    "\n",
    "    data = pd.DataFrame({'Text': text_list,\n",
    "                        'Label': class_list})\n",
    "\n",
    "    return data\n",
    "\n",
    "print(\"Gathering all news data...\")\n",
    "train_news = read_news(path_to_train)\n",
    "test_news = read_news(path_to_test)\n",
    "\n",
    "print(\"Shape of training set:\", train_news.shape)\n",
    "print(\"Shape of test set:\", test_news.shape)"
   ]
  },
  {
   "cell_type": "markdown",
   "metadata": {},
   "source": [
    "#### Step 2: Preprocessing of text\n",
    "\n",
    "After reading the text, we process it using regular expression in oder to eliminate non-alpahnumeric characters and common stop words."
   ]
  },
  {
   "cell_type": "code",
   "execution_count": 70,
   "metadata": {
    "collapsed": true
   },
   "outputs": [],
   "source": [
    "from stop_words import  get_stop_words\n",
    "import re\n",
    "\n",
    "def preprocess_text (x, stop_words):\n",
    "    \n",
    "    '''This function preprocess a string, eliminateing sop words and\n",
    "    non-alphanumeric characters.'''\n",
    "    \n",
    "    x = x.lower()\n",
    "    x = re.sub(r'[^\\w\\s]','',x)\n",
    "    x = re.sub(r'[0-9]','',x)\n",
    "    x = re.sub(r'\\n','',x)\n",
    "    \n",
    "    for stop_word in stop_words:\n",
    "        x = re.sub(r' '+stop_word+' ',' ', x)\n",
    "    \n",
    "    return x"
   ]
  },
  {
   "cell_type": "code",
   "execution_count": 72,
   "metadata": {},
   "outputs": [
    {
     "name": "stdout",
     "output_type": "stream",
     "text": [
      "Preprocessing data... \n",
      "Preprocessing finished... \n"
     ]
    }
   ],
   "source": [
    "en_stop = get_stop_words('en')\n",
    "\n",
    "print(\"Preprocessing data... \")\n",
    "train_news.Text = train_news.Text.apply(lambda x: preprocess_text(x, en_stop))\n",
    "test_news.Text = test_news.Text.apply(lambda x: preprocess_text(x, en_stop))\n",
    "print(\"Preprocessing finished... \")"
   ]
  },
  {
   "cell_type": "markdown",
   "metadata": {},
   "source": [
    "We separate the design matrix (X) from the label vector (y) for training and test."
   ]
  },
  {
   "cell_type": "code",
   "execution_count": 74,
   "metadata": {
    "collapsed": true
   },
   "outputs": [],
   "source": [
    "#saving in libsvm format\n",
    "train_news.to_csv(\"train_news.csv\", sep =\"\\t\")\n",
    "test_news.to_csv(\"test_news.csv\", sep=\"\\t\")\n",
    "\n",
    "#separating features and labels\n",
    "X_train = train_news.Text\n",
    "y_train = train_news.Label\n",
    "\n",
    "X_test = test_news.Text\n",
    "y_test = test_news.Label"
   ]
  },
  {
   "cell_type": "markdown",
   "metadata": {},
   "source": [
    "#### Step 3: Transforming data\n",
    "\n",
    "We want now to convert the data to numeric format so that we can use it in a given model. We first tried count vectorizer, but we see that the number of dimensions turns out to be very high. So we use a Doc2Vec model, to embed the documents in fewer dimensions. We also standarize data."
   ]
  },
  {
   "cell_type": "code",
   "execution_count": 75,
   "metadata": {},
   "outputs": [
    {
     "name": "stdout",
     "output_type": "stream",
     "text": [
      "Design matrix for training has following dimensions: (11314, 209498)\n",
      "Design matrix for training has following dimensions: (7532, 209498)\n"
     ]
    }
   ],
   "source": [
    "from sklearn.feature_extraction.text import CountVectorizer\n",
    "\n",
    "#getting the frequency of terms\n",
    "count_vect = CountVectorizer()\n",
    "X_train_counts = count_vect.fit_transform(X_train)\n",
    "print(\"Design matrix for training has following dimensions:\", X_train_counts.shape)\n",
    "\n",
    "X_test_counts = count_vect.transform(X_test)\n",
    "print(\"Design matrix for training has following dimensions:\", X_test_counts.shape)"
   ]
  },
  {
   "cell_type": "code",
   "execution_count": 76,
   "metadata": {
    "collapsed": true
   },
   "outputs": [],
   "source": [
    "#importing Doc2Vec library\n",
    "from gensim.models.doc2vec import Doc2Vec, TaggedDocument\n",
    "\n",
    "d = 30 #dimensions to embeded\n",
    "\n",
    "#creating the list of words (one word for each sentence)\n",
    "lists_of_words = [x.split(\" \") for x in X_train]\n",
    "\n",
    "#create documents to create embedding model\n",
    "documents = [TaggedDocument(doc, [i]) for i, doc in enumerate(lists_of_words)]\n",
    "model = Doc2Vec(documents, vector_size=d, window=2, min_count=1)\n",
    "\n",
    "#transforming the data \n",
    "embedding = np.zeros((len(lists_of_words),d))\n",
    "for i in range(embedding.shape[0]):\n",
    "    embedding[i, ] =model.infer_vector(lists_of_words[i])\n",
    "\n"
   ]
  },
  {
   "cell_type": "code",
   "execution_count": 78,
   "metadata": {
    "collapsed": true
   },
   "outputs": [],
   "source": [
    "#standarizing data\n",
    "from sklearn.preprocessing import StandardScaler\n",
    "\n",
    "X_transformed = embedding\n",
    "scaler = StandardScaler()\n",
    "X_tr2 = scaler.fit_transform(X_transformed)"
   ]
  },
  {
   "cell_type": "markdown",
   "metadata": {},
   "source": [
    "#### Step 4: Choosing the best k\n",
    "\n",
    "As before, using the K-Means for Iris dataset, we try different criteria to get the best K."
   ]
  },
  {
   "cell_type": "code",
   "execution_count": 104,
   "metadata": {},
   "outputs": [
    {
     "name": "stdout",
     "output_type": "stream",
     "text": [
      "Trying with k= 1\n",
      "Trying with k= 2\n",
      "Trying with k= 3\n",
      "Trying with k= 4\n",
      "Trying with k= 5\n",
      "Trying with k= 6\n",
      "Trying with k= 7\n",
      "Trying with k= 8\n",
      "Trying with k= 9\n",
      "Trying with k= 10\n",
      "Trying with k= 11\n",
      "Trying with k= 12\n",
      "Trying with k= 13\n",
      "Trying with k= 14\n",
      "Trying with k= 15\n",
      "Trying with k= 16\n",
      "Trying with k= 17\n",
      "Trying with k= 18\n",
      "Trying with k= 19\n",
      "Best k according to derivatives: 2\n"
     ]
    }
   ],
   "source": [
    "max_k = 20\n",
    "sd, best_k, MSE_list = find_K_with_derivative(X_tr2, max_k)\n",
    "print(\"Best k according to derivatives:\",best_k)"
   ]
  },
  {
   "cell_type": "code",
   "execution_count": 105,
   "metadata": {},
   "outputs": [
    {
     "data": {
      "text/plain": [
       "Text(0.5,1,'Change of MSE with the number of clusters')"
      ]
     },
     "execution_count": 105,
     "metadata": {},
     "output_type": "execute_result"
    },
    {
     "data": {
      "image/png": "[encoded data removed]",
      "text/plain": [
       "<matplotlib.figure.Figure at 0x2177a46bac8>"
      ]
     },
     "metadata": {},
     "output_type": "display_data"
    }
   ],
   "source": [
    "plt.plot(range(1, max_k), MSE_list)\n",
    "plt.xlabel(\"K\")\n",
    "plt.ylabel(\"MSE\")\n",
    "plt.grid()\n",
    "plt.title(\"Change of MSE with the number of clusters\")"
   ]
  },
  {
   "cell_type": "code",
   "execution_count": 108,
   "metadata": {},
   "outputs": [
    {
     "data": {
      "image/png": "[encoded data removed]",
      "text/plain": [
       "<matplotlib.figure.Figure at 0x2177a589cf8>"
      ]
     },
     "metadata": {},
     "output_type": "display_data"
    }
   ],
   "source": [
    "plt.plot(range(1, max_k), MSE_list)\n",
    "plt.xlabel(\"K\")\n",
    "plt.ylabel(\"MSE\")\n",
    "plt.title(\"Elbow Criterion\")\n",
    "\n",
    "x1 = range(1,4)\n",
    "y1 = MSE_list[:3]\n",
    "m1,b1 = np.polyfit(x1, y1, 1) \n",
    "\n",
    "x2 = range(max_k-6,max_k)\n",
    "y2 = MSE_list[-6:]\n",
    "m2,b2 = np.polyfit(x2, y2, 1) \n",
    "\n",
    "x = range(1, max_k)\n",
    "plt.plot(x, m2*x+b2, 'red')\n",
    "plt.plot(x[:5], m1*x[:5]+b1, 'red')\n",
    "plt.grid()"
   ]
  },
  {
   "cell_type": "code",
   "execution_count": 109,
   "metadata": {},
   "outputs": [
    {
     "data": {
      "text/plain": [
       "Text(0.5,1,'Derivative criterion')"
      ]
     },
     "execution_count": 109,
     "metadata": {},
     "output_type": "execute_result"
    },
    {
     "data": {
      "image/png": "[encoded data removed]",
      "text/plain": [
       "<matplotlib.figure.Figure at 0x2177a55f7b8>"
      ]
     },
     "metadata": {},
     "output_type": "display_data"
    }
   ],
   "source": [
    "plt.plot(range(2,max_k-1), sd)\n",
    "plt.grid()\n",
    "plt.xlabel(\"K\")\n",
    "plt.ylabel(\"Derivative\")\n",
    "plt.title(\"Derivative criterion\")"
   ]
  },
  {
   "cell_type": "markdown",
   "metadata": {},
   "source": [
    "We also apply silhouette cristerion to get the best K. However, since Silhouette criterion is too complex to calculate, we use a subset of the data."
   ]
  },
  {
   "cell_type": "code",
   "execution_count": 110,
   "metadata": {},
   "outputs": [
    {
     "name": "stdout",
     "output_type": "stream",
     "text": [
      "Trying k= 2\n",
      "Trying k= 3\n",
      "Trying k= 4\n",
      "Trying k= 5\n",
      "Trying k= 6\n",
      "Trying k= 7\n",
      "Trying k= 8\n",
      "Trying k= 9\n"
     ]
    }
   ],
   "source": [
    "X = X_tr2\n",
    "max_k=10\n",
    "\n",
    "sil_list = []\n",
    "\n",
    "for i in range(2,max_k):\n",
    "    C, A, MSE_list = K_means(X,i, 100)\n",
    "    idx = np.random.randint(0,X.shape[0],2000) \n",
    "    sil = silhouette(X[idx,], A[idx,], i)\n",
    "    sil_list.append(sil)"
   ]
  },
  {
   "cell_type": "code",
   "execution_count": 148,
   "metadata": {},
   "outputs": [
    {
     "data": {
      "text/plain": [
       "Text(0.5,1,'Silouette criterion')"
      ]
     },
     "execution_count": 148,
     "metadata": {},
     "output_type": "execute_result"
    },
    {
     "data": {
      "image/png": "[encoded data removed]",
      "text/plain": [
       "<matplotlib.figure.Figure at 0x2177264a588>"
      ]
     },
     "metadata": {},
     "output_type": "display_data"
    }
   ],
   "source": [
    "plt.plot(range(2, max_k),sil_list)\n",
    "plt.grid()\n",
    "plt.xlabel(\"K\")\n",
    "plt.ylabel(\"Silhoutte index\")\n",
    "plt.title(\"Silouette criterion\")"
   ]
  },
  {
   "cell_type": "markdown",
   "metadata": {},
   "source": [
    "#### Step 5: Interpreting results"
   ]
  },
  {
   "cell_type": "markdown",
   "metadata": {},
   "source": [
    "According to the different plots (and the elbow criterion) the best k is between three and four. The silhouette index for k=2 and k=3 is high, whereas the derivative for  k=2 and k = 4 is also high. The elbow criterion show that the \"elbow\" could approximately be find in 4.\n",
    "\n",
    "We want now to see how many train samples of each new type fall into each cluster, so that we can interpretate the cluster as identifying a news class.\n",
    "After creating cross tabulations of the distribution of samples given a cluster and a type of new, we see that is somewhat difficult to differentiate clearly each cluster class. It means indeed, that the classes are not so easily separable with spherical clusters."
   ]
  },
  {
   "cell_type": "code",
   "execution_count": 120,
   "metadata": {},
   "outputs": [
    {
     "data": {
      "text/html": [
       "<div>\n",
       "<style>\n",
       "    .dataframe thead tr:only-child th {\n",
       "        text-align: right;\n",
       "    }\n",
       "\n",
       "    .dataframe thead th {\n",
       "        text-align: left;\n",
       "    }\n",
       "\n",
       "    .dataframe tbody tr th {\n",
       "        vertical-align: top;\n",
       "    }\n",
       "</style>\n",
       "<table border=\"1\" class=\"dataframe\">\n",
       "  <thead>\n",
       "    <tr style=\"text-align: right;\">\n",
       "      <th>col_0</th>\n",
       "      <th>0</th>\n",
       "      <th>1</th>\n",
       "      <th>2</th>\n",
       "    </tr>\n",
       "    <tr>\n",
       "      <th>Label</th>\n",
       "      <th></th>\n",
       "      <th></th>\n",
       "      <th></th>\n",
       "    </tr>\n",
       "  </thead>\n",
       "  <tbody>\n",
       "    <tr>\n",
       "      <th>alt.atheism</th>\n",
       "      <td>3</td>\n",
       "      <td>374</td>\n",
       "      <td>103</td>\n",
       "    </tr>\n",
       "    <tr>\n",
       "      <th>comp.graphics</th>\n",
       "      <td>50</td>\n",
       "      <td>519</td>\n",
       "      <td>15</td>\n",
       "    </tr>\n",
       "    <tr>\n",
       "      <th>comp.os.ms-windows.misc</th>\n",
       "      <td>52</td>\n",
       "      <td>531</td>\n",
       "      <td>8</td>\n",
       "    </tr>\n",
       "    <tr>\n",
       "      <th>comp.sys.ibm.pc.hardware</th>\n",
       "      <td>37</td>\n",
       "      <td>550</td>\n",
       "      <td>3</td>\n",
       "    </tr>\n",
       "    <tr>\n",
       "      <th>comp.sys.mac.hardware</th>\n",
       "      <td>23</td>\n",
       "      <td>546</td>\n",
       "      <td>9</td>\n",
       "    </tr>\n",
       "    <tr>\n",
       "      <th>comp.windows.x</th>\n",
       "      <td>108</td>\n",
       "      <td>474</td>\n",
       "      <td>11</td>\n",
       "    </tr>\n",
       "    <tr>\n",
       "      <th>misc.forsale</th>\n",
       "      <td>43</td>\n",
       "      <td>519</td>\n",
       "      <td>23</td>\n",
       "    </tr>\n",
       "    <tr>\n",
       "      <th>rec.autos</th>\n",
       "      <td>5</td>\n",
       "      <td>517</td>\n",
       "      <td>72</td>\n",
       "    </tr>\n",
       "    <tr>\n",
       "      <th>rec.motorcycles</th>\n",
       "      <td>3</td>\n",
       "      <td>521</td>\n",
       "      <td>74</td>\n",
       "    </tr>\n",
       "    <tr>\n",
       "      <th>rec.sport.baseball</th>\n",
       "      <td>3</td>\n",
       "      <td>509</td>\n",
       "      <td>85</td>\n",
       "    </tr>\n",
       "    <tr>\n",
       "      <th>rec.sport.hockey</th>\n",
       "      <td>2</td>\n",
       "      <td>487</td>\n",
       "      <td>111</td>\n",
       "    </tr>\n",
       "    <tr>\n",
       "      <th>sci.crypt</th>\n",
       "      <td>106</td>\n",
       "      <td>424</td>\n",
       "      <td>65</td>\n",
       "    </tr>\n",
       "    <tr>\n",
       "      <th>sci.electronics</th>\n",
       "      <td>28</td>\n",
       "      <td>522</td>\n",
       "      <td>41</td>\n",
       "    </tr>\n",
       "    <tr>\n",
       "      <th>sci.med</th>\n",
       "      <td>12</td>\n",
       "      <td>442</td>\n",
       "      <td>140</td>\n",
       "    </tr>\n",
       "    <tr>\n",
       "      <th>sci.space</th>\n",
       "      <td>66</td>\n",
       "      <td>451</td>\n",
       "      <td>76</td>\n",
       "    </tr>\n",
       "    <tr>\n",
       "      <th>soc.religion.christian</th>\n",
       "      <td>1</td>\n",
       "      <td>395</td>\n",
       "      <td>203</td>\n",
       "    </tr>\n",
       "    <tr>\n",
       "      <th>talk.politics.guns</th>\n",
       "      <td>10</td>\n",
       "      <td>371</td>\n",
       "      <td>165</td>\n",
       "    </tr>\n",
       "    <tr>\n",
       "      <th>talk.politics.mideast</th>\n",
       "      <td>6</td>\n",
       "      <td>320</td>\n",
       "      <td>238</td>\n",
       "    </tr>\n",
       "    <tr>\n",
       "      <th>talk.politics.misc</th>\n",
       "      <td>17</td>\n",
       "      <td>310</td>\n",
       "      <td>138</td>\n",
       "    </tr>\n",
       "    <tr>\n",
       "      <th>talk.religion.misc</th>\n",
       "      <td>2</td>\n",
       "      <td>271</td>\n",
       "      <td>104</td>\n",
       "    </tr>\n",
       "  </tbody>\n",
       "</table>\n",
       "</div>"
      ],
      "text/plain": [
       "col_0                       0    1    2\n",
       "Label                                  \n",
       "alt.atheism                 3  374  103\n",
       "comp.graphics              50  519   15\n",
       "comp.os.ms-windows.misc    52  531    8\n",
       "comp.sys.ibm.pc.hardware   37  550    3\n",
       "comp.sys.mac.hardware      23  546    9\n",
       "comp.windows.x            108  474   11\n",
       "misc.forsale               43  519   23\n",
       "rec.autos                   5  517   72\n",
       "rec.motorcycles             3  521   74\n",
       "rec.sport.baseball          3  509   85\n",
       "rec.sport.hockey            2  487  111\n",
       "sci.crypt                 106  424   65\n",
       "sci.electronics            28  522   41\n",
       "sci.med                    12  442  140\n",
       "sci.space                  66  451   76\n",
       "soc.religion.christian      1  395  203\n",
       "talk.politics.guns         10  371  165\n",
       "talk.politics.mideast       6  320  238\n",
       "talk.politics.misc         17  310  138\n",
       "talk.religion.misc          2  271  104"
      ]
     },
     "execution_count": 120,
     "metadata": {},
     "output_type": "execute_result"
    }
   ],
   "source": [
    "#interpreting clustering with 3 centers\n",
    "C, A, MSE_list = K_means(X_tr2,3, 1000)\n",
    "\n",
    "pd.crosstab(y_train, A)"
   ]
  },
  {
   "cell_type": "code",
   "execution_count": 117,
   "metadata": {},
   "outputs": [
    {
     "data": {
      "text/html": [
       "<div>\n",
       "<style>\n",
       "    .dataframe thead tr:only-child th {\n",
       "        text-align: right;\n",
       "    }\n",
       "\n",
       "    .dataframe thead th {\n",
       "        text-align: left;\n",
       "    }\n",
       "\n",
       "    .dataframe tbody tr th {\n",
       "        vertical-align: top;\n",
       "    }\n",
       "</style>\n",
       "<table border=\"1\" class=\"dataframe\">\n",
       "  <thead>\n",
       "    <tr style=\"text-align: right;\">\n",
       "      <th>col_0</th>\n",
       "      <th>0</th>\n",
       "      <th>1</th>\n",
       "      <th>2</th>\n",
       "      <th>3</th>\n",
       "    </tr>\n",
       "    <tr>\n",
       "      <th>Label</th>\n",
       "      <th></th>\n",
       "      <th></th>\n",
       "      <th></th>\n",
       "      <th></th>\n",
       "    </tr>\n",
       "  </thead>\n",
       "  <tbody>\n",
       "    <tr>\n",
       "      <th>alt.atheism</th>\n",
       "      <td>137</td>\n",
       "      <td>93</td>\n",
       "      <td>245</td>\n",
       "      <td>5</td>\n",
       "    </tr>\n",
       "    <tr>\n",
       "      <th>comp.graphics</th>\n",
       "      <td>445</td>\n",
       "      <td>11</td>\n",
       "      <td>114</td>\n",
       "      <td>14</td>\n",
       "    </tr>\n",
       "    <tr>\n",
       "      <th>comp.os.ms-windows.misc</th>\n",
       "      <td>509</td>\n",
       "      <td>3</td>\n",
       "      <td>70</td>\n",
       "      <td>9</td>\n",
       "    </tr>\n",
       "    <tr>\n",
       "      <th>comp.sys.ibm.pc.hardware</th>\n",
       "      <td>510</td>\n",
       "      <td>3</td>\n",
       "      <td>72</td>\n",
       "      <td>5</td>\n",
       "    </tr>\n",
       "    <tr>\n",
       "      <th>comp.sys.mac.hardware</th>\n",
       "      <td>442</td>\n",
       "      <td>8</td>\n",
       "      <td>127</td>\n",
       "      <td>1</td>\n",
       "    </tr>\n",
       "    <tr>\n",
       "      <th>comp.windows.x</th>\n",
       "      <td>426</td>\n",
       "      <td>9</td>\n",
       "      <td>141</td>\n",
       "      <td>17</td>\n",
       "    </tr>\n",
       "    <tr>\n",
       "      <th>misc.forsale</th>\n",
       "      <td>442</td>\n",
       "      <td>17</td>\n",
       "      <td>119</td>\n",
       "      <td>7</td>\n",
       "    </tr>\n",
       "    <tr>\n",
       "      <th>rec.autos</th>\n",
       "      <td>237</td>\n",
       "      <td>56</td>\n",
       "      <td>298</td>\n",
       "      <td>3</td>\n",
       "    </tr>\n",
       "    <tr>\n",
       "      <th>rec.motorcycles</th>\n",
       "      <td>229</td>\n",
       "      <td>52</td>\n",
       "      <td>315</td>\n",
       "      <td>2</td>\n",
       "    </tr>\n",
       "    <tr>\n",
       "      <th>rec.sport.baseball</th>\n",
       "      <td>271</td>\n",
       "      <td>58</td>\n",
       "      <td>265</td>\n",
       "      <td>3</td>\n",
       "    </tr>\n",
       "    <tr>\n",
       "      <th>rec.sport.hockey</th>\n",
       "      <td>228</td>\n",
       "      <td>60</td>\n",
       "      <td>293</td>\n",
       "      <td>19</td>\n",
       "    </tr>\n",
       "    <tr>\n",
       "      <th>sci.crypt</th>\n",
       "      <td>260</td>\n",
       "      <td>70</td>\n",
       "      <td>229</td>\n",
       "      <td>36</td>\n",
       "    </tr>\n",
       "    <tr>\n",
       "      <th>sci.electronics</th>\n",
       "      <td>339</td>\n",
       "      <td>26</td>\n",
       "      <td>223</td>\n",
       "      <td>3</td>\n",
       "    </tr>\n",
       "    <tr>\n",
       "      <th>sci.med</th>\n",
       "      <td>164</td>\n",
       "      <td>105</td>\n",
       "      <td>310</td>\n",
       "      <td>15</td>\n",
       "    </tr>\n",
       "    <tr>\n",
       "      <th>sci.space</th>\n",
       "      <td>222</td>\n",
       "      <td>53</td>\n",
       "      <td>282</td>\n",
       "      <td>36</td>\n",
       "    </tr>\n",
       "    <tr>\n",
       "      <th>soc.religion.christian</th>\n",
       "      <td>156</td>\n",
       "      <td>183</td>\n",
       "      <td>256</td>\n",
       "      <td>4</td>\n",
       "    </tr>\n",
       "    <tr>\n",
       "      <th>talk.politics.guns</th>\n",
       "      <td>129</td>\n",
       "      <td>132</td>\n",
       "      <td>273</td>\n",
       "      <td>12</td>\n",
       "    </tr>\n",
       "    <tr>\n",
       "      <th>talk.politics.mideast</th>\n",
       "      <td>112</td>\n",
       "      <td>179</td>\n",
       "      <td>241</td>\n",
       "      <td>32</td>\n",
       "    </tr>\n",
       "    <tr>\n",
       "      <th>talk.politics.misc</th>\n",
       "      <td>115</td>\n",
       "      <td>112</td>\n",
       "      <td>222</td>\n",
       "      <td>16</td>\n",
       "    </tr>\n",
       "    <tr>\n",
       "      <th>talk.religion.misc</th>\n",
       "      <td>117</td>\n",
       "      <td>97</td>\n",
       "      <td>160</td>\n",
       "      <td>3</td>\n",
       "    </tr>\n",
       "  </tbody>\n",
       "</table>\n",
       "</div>"
      ],
      "text/plain": [
       "col_0                       0    1    2   3\n",
       "Label                                      \n",
       "alt.atheism               137   93  245   5\n",
       "comp.graphics             445   11  114  14\n",
       "comp.os.ms-windows.misc   509    3   70   9\n",
       "comp.sys.ibm.pc.hardware  510    3   72   5\n",
       "comp.sys.mac.hardware     442    8  127   1\n",
       "comp.windows.x            426    9  141  17\n",
       "misc.forsale              442   17  119   7\n",
       "rec.autos                 237   56  298   3\n",
       "rec.motorcycles           229   52  315   2\n",
       "rec.sport.baseball        271   58  265   3\n",
       "rec.sport.hockey          228   60  293  19\n",
       "sci.crypt                 260   70  229  36\n",
       "sci.electronics           339   26  223   3\n",
       "sci.med                   164  105  310  15\n",
       "sci.space                 222   53  282  36\n",
       "soc.religion.christian    156  183  256   4\n",
       "talk.politics.guns        129  132  273  12\n",
       "talk.politics.mideast     112  179  241  32\n",
       "talk.politics.misc        115  112  222  16\n",
       "talk.religion.misc        117   97  160   3"
      ]
     },
     "execution_count": 117,
     "metadata": {},
     "output_type": "execute_result"
    }
   ],
   "source": [
    "#interpreting clustering with 4 centers\n",
    "C, A, MSE_list = K_means(X_tr2,4, 1000)\n",
    "\n",
    "pd.crosstab(y_train, A)"
   ]
  },
  {
   "cell_type": "markdown",
   "metadata": {},
   "source": [
    "We also want to compare how it performs in test data."
   ]
  },
  {
   "cell_type": "code",
   "execution_count": 121,
   "metadata": {
    "collapsed": true
   },
   "outputs": [],
   "source": [
    "#transforming test data\n",
    "lists_of_words = [x.split(\" \") for x in X_test]\n",
    "\n",
    "#embedding test data\n",
    "embedding = np.zeros((len(lists_of_words),d))\n",
    "for i in range(embedding.shape[0]):\n",
    "    embedding[i, ] =model.infer_vector(lists_of_words[i])\n",
    "\n",
    "X_test_tr = embedding\n",
    "X_test_tr2 = scaler.fit_transform(X_test_tr)"
   ]
  },
  {
   "cell_type": "code",
   "execution_count": 137,
   "metadata": {},
   "outputs": [
    {
     "name": "stdout",
     "output_type": "stream",
     "text": [
      "Train MSE: 18.7925189411\n",
      "Test MSE: 19.9126719911\n"
     ]
    }
   ],
   "source": [
    "C, A, MSE_list = K_means(X_tr2,4, 1000)\n",
    "\n",
    "assignation = find_assignation(X_test_tr2, C)\n",
    "MSE_test = find_MSE(X_test_tr2, C, assignation)\n",
    "\n",
    "print(\"Train MSE:\", MSE_list[-1])\n",
    "print(\"Test MSE:\", MSE_test)"
   ]
  },
  {
   "cell_type": "markdown",
   "metadata": {},
   "source": [
    "We can see that, in fact, the MSE for test is very close to the MSE of train. It is reasonable, since both data come from the same distribution, therefore the clustering of a train set should be valid for new data sampled from the same distribution. However, this result also shows that we didn't overfit the data. As K increase, the clustering model gets more complex and more prone to overfit."
   ]
  },
  {
   "cell_type": "markdown",
   "metadata": {},
   "source": [
    "#### Step 6: Comparison with Scikit-learn K-Means"
   ]
  },
  {
   "cell_type": "markdown",
   "metadata": {},
   "source": [
    "We wnat to compare MSE and speed of our implementation with the one of Scikit learn. To make it comparable, we must note that Scikit-learn outputs the inertia, which is the sum of the square distance of samples to the cluster centers."
   ]
  },
  {
   "cell_type": "code",
   "execution_count": 145,
   "metadata": {},
   "outputs": [
    {
     "name": "stdout",
     "output_type": "stream",
     "text": [
      "MSE Scikit-learn: 18.5196837336\n",
      "MSE self implementation: 18.7925189411\n"
     ]
    }
   ],
   "source": [
    "from sklearn.cluster import KMeans\n",
    "import numpy as np\n",
    "\n",
    "n_samples = X_tr2.shape[0]\n",
    "\n",
    "kmeans = KMeans(n_clusters=4, random_state=0, n_init=1).fit(X_tr2)\n",
    "\n",
    "print(\"MSE Scikit-learn:\", kmeans.inertia_/n_samples)\n",
    "print(\"MSE self implementation:\" , MSE_list[-1])"
   ]
  },
  {
   "cell_type": "markdown",
   "metadata": {},
   "source": [
    "We see that both results are very close, what shows that both implementations are funcional comparable. But, what happen with the execution speed? We want to measure it now."
   ]
  },
  {
   "cell_type": "code",
   "execution_count": 147,
   "metadata": {},
   "outputs": [
    {
     "name": "stdout",
     "output_type": "stream",
     "text": [
      "Time Elapsed with Scikit-Learn: 0.40576720237731934\n",
      "Time Elapsed with self implementation: 1.5191280841827393\n"
     ]
    }
   ],
   "source": [
    "import time\n",
    "\n",
    "start_sk = time.time()\n",
    "kmeans = KMeans(n_clusters=20, random_state=2, n_init=1).fit(X_tr2)\n",
    "end_sk = time.time()\n",
    "\n",
    "print(\"Time Elapsed with Scikit-Learn:\", end_sk-start_sk)\n",
    "\n",
    "start_m = time.time()\n",
    "C, A, MSE_list = K_means(X_tr2, 20, 100)\n",
    "end_m = time.time()\n",
    "\n",
    "print(\"Time Elapsed with self implementation:\",end_m - start_m)"
   ]
  },
  {
   "cell_type": "markdown",
   "metadata": {},
   "source": [
    "For scikit-learn, we execute with the parameter n_init=1, since the function runs K-Mean several times to get the lower MSE (to avoid possible local minima). This, therefore, affect computation time. The times are scale comparable, however, the scikit learn implementation is three times faster than our implementations. This is due to the possible optimizations that they do computing the centers or assignations, which we did not approach here."
   ]
  },
  {
   "cell_type": "markdown",
   "metadata": {
    "collapsed": true
   },
   "source": [
    "## References\n",
    "\n",
    "[1] Elbow criterion: https://en.wikipedia.org/wiki/Elbow_method_(clustering)\n",
    "\n",
    "[2] Silhouette index paper: https://pdfs.semanticscholar.org/f168/41e022038e94a59f7e0a82002102b78d79a4.pdf"
   ]
  }
 ],
 "metadata": {
  "kernelspec": {
   "display_name": "Python 3",
   "language": "python",
   "name": "python3"
  },
  "language_info": {
   "codemirror_mode": {
    "name": "ipython",
    "version": 3
   },
   "file_extension": ".py",
   "mimetype": "text/x-python",
   "name": "python",
   "nbconvert_exporter": "python",
   "pygments_lexer": "ipython3",
   "version": "3.6.3"
  }
 },
 "nbformat": 4,
 "nbformat_minor": 2
}
