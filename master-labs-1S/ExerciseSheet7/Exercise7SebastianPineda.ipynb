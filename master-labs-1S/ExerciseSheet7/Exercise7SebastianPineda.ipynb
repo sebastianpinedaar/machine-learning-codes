{
 "cells": [
  {
   "cell_type": "markdown",
   "metadata": {},
   "source": [
    "<H1><CENTER> Machine Learning Lab - Exercise Sheet 7 <br /></CENTER></H1>\n",
    "<H2><CENTER> Author: Sebastian Pineda Arango  <br />\n",
    "ID: 246098<br />\n",
    "Universität Hildesheim - Data Analytics Master </CENTER></H2>\n",
    "\n",
    "<img src=\"https://www.uni-hildesheim.de/typo3conf/ext/unihildesheim/Resources/Public/Images/logo-uni.svgz\" width=\"100\">\n"
   ]
  },
  {
   "cell_type": "markdown",
   "metadata": {},
   "source": [
    "## Exercise sheet 7\n",
    "\n",
    "In this exercise sheet, two methods are examinated: K-Nearest neighbours and decision trees. The data set used to train the models is the classical iris data set [1].\n",
    "\n",
    "The data set is imported from the moule _datasets_ include in scikit-learn. We also explore the shape, some descriptive statistics and the distributions of the labels of the dataset. Afterwards, some insights are extracted from the dataset:\n",
    "\n",
    "* There are 150 samples\n",
    "* 4 features (corresponding to width and length of petals and sepals.\n",
    "* The classes are balanced: the number of samples for each class is roughly the same\n",
    "* The descriptors change the scale, therefore it is neccesary to rescale so tht distance based methods perform better."
   ]
  },
  {
   "cell_type": "code",
   "execution_count": 19,
   "metadata": {
    "collapsed": true
   },
   "outputs": [],
   "source": [
    "import numpy as np\n",
    "import pandas as pd\n",
    "import matplotlib.pyplot as plt\n",
    "from sklearn import datasets\n",
    "import statistics as st\n",
    "from sklearn.base import BaseEstimator\n",
    "\n",
    "\n",
    "%matplotlib inline"
   ]
  },
  {
   "cell_type": "code",
   "execution_count": 20,
   "metadata": {},
   "outputs": [
    {
     "data": {
      "text/plain": [
       "(150, 4)"
      ]
     },
     "execution_count": 20,
     "metadata": {},
     "output_type": "execute_result"
    }
   ],
   "source": [
    "data = datasets.load_iris()\n",
    "X = data.data\n",
    "X.shape"
   ]
  },
  {
   "cell_type": "code",
   "execution_count": 21,
   "metadata": {},
   "outputs": [
    {
     "data": {
      "text/plain": [
       "(150,)"
      ]
     },
     "execution_count": 21,
     "metadata": {},
     "output_type": "execute_result"
    }
   ],
   "source": [
    "Y = data.target\n",
    "Y.shape"
   ]
  },
  {
   "cell_type": "code",
   "execution_count": 22,
   "metadata": {},
   "outputs": [
    {
     "data": {
      "image/png": "[encoded data removed]",
      "text/plain": [
       "<matplotlib.figure.Figure at 0x23a0bc95550>"
      ]
     },
     "metadata": {},
     "output_type": "display_data"
    }
   ],
   "source": [
    "plt.hist(Y)\n",
    "plt.grid()"
   ]
  },
  {
   "cell_type": "code",
   "execution_count": 23,
   "metadata": {},
   "outputs": [
    {
     "data": {
      "text/html": [
       "<div>\n",
       "<style>\n",
       "    .dataframe thead tr:only-child th {\n",
       "        text-align: right;\n",
       "    }\n",
       "\n",
       "    .dataframe thead th {\n",
       "        text-align: left;\n",
       "    }\n",
       "\n",
       "    .dataframe tbody tr th {\n",
       "        vertical-align: top;\n",
       "    }\n",
       "</style>\n",
       "<table border=\"1\" class=\"dataframe\">\n",
       "  <thead>\n",
       "    <tr style=\"text-align: right;\">\n",
       "      <th></th>\n",
       "      <th>0</th>\n",
       "      <th>1</th>\n",
       "      <th>2</th>\n",
       "      <th>3</th>\n",
       "    </tr>\n",
       "  </thead>\n",
       "  <tbody>\n",
       "    <tr>\n",
       "      <th>count</th>\n",
       "      <td>150.000000</td>\n",
       "      <td>150.000000</td>\n",
       "      <td>150.000000</td>\n",
       "      <td>150.000000</td>\n",
       "    </tr>\n",
       "    <tr>\n",
       "      <th>mean</th>\n",
       "      <td>5.843333</td>\n",
       "      <td>3.054000</td>\n",
       "      <td>3.758667</td>\n",
       "      <td>1.198667</td>\n",
       "    </tr>\n",
       "    <tr>\n",
       "      <th>std</th>\n",
       "      <td>0.828066</td>\n",
       "      <td>0.433594</td>\n",
       "      <td>1.764420</td>\n",
       "      <td>0.763161</td>\n",
       "    </tr>\n",
       "    <tr>\n",
       "      <th>min</th>\n",
       "      <td>4.300000</td>\n",
       "      <td>2.000000</td>\n",
       "      <td>1.000000</td>\n",
       "      <td>0.100000</td>\n",
       "    </tr>\n",
       "    <tr>\n",
       "      <th>25%</th>\n",
       "      <td>5.100000</td>\n",
       "      <td>2.800000</td>\n",
       "      <td>1.600000</td>\n",
       "      <td>0.300000</td>\n",
       "    </tr>\n",
       "    <tr>\n",
       "      <th>50%</th>\n",
       "      <td>5.800000</td>\n",
       "      <td>3.000000</td>\n",
       "      <td>4.350000</td>\n",
       "      <td>1.300000</td>\n",
       "    </tr>\n",
       "    <tr>\n",
       "      <th>75%</th>\n",
       "      <td>6.400000</td>\n",
       "      <td>3.300000</td>\n",
       "      <td>5.100000</td>\n",
       "      <td>1.800000</td>\n",
       "    </tr>\n",
       "    <tr>\n",
       "      <th>max</th>\n",
       "      <td>7.900000</td>\n",
       "      <td>4.400000</td>\n",
       "      <td>6.900000</td>\n",
       "      <td>2.500000</td>\n",
       "    </tr>\n",
       "  </tbody>\n",
       "</table>\n",
       "</div>"
      ],
      "text/plain": [
       "                0           1           2           3\n",
       "count  150.000000  150.000000  150.000000  150.000000\n",
       "mean     5.843333    3.054000    3.758667    1.198667\n",
       "std      0.828066    0.433594    1.764420    0.763161\n",
       "min      4.300000    2.000000    1.000000    0.100000\n",
       "25%      5.100000    2.800000    1.600000    0.300000\n",
       "50%      5.800000    3.000000    4.350000    1.300000\n",
       "75%      6.400000    3.300000    5.100000    1.800000\n",
       "max      7.900000    4.400000    6.900000    2.500000"
      ]
     },
     "execution_count": 23,
     "metadata": {},
     "output_type": "execute_result"
    }
   ],
   "source": [
    "pd.DataFrame(X).describe()"
   ]
  },
  {
   "cell_type": "markdown",
   "metadata": {},
   "source": [
    "### Exercise 1: Implement K-Nearest Neighbor (KNN)"
   ]
  },
  {
   "cell_type": "markdown",
   "metadata": {},
   "source": [
    "Before proceeding, two operations are applied over the dataset:\n",
    "\n",
    "* We divide data set in training and test set (70/30).\n",
    "* We fit a standard scaler over the training set and we transform it on test set. To chech that it was rescaled, we get the basic statisctis again. Afterwards, the mean is effectively zero and the standard deviation is one."
   ]
  },
  {
   "cell_type": "code",
   "execution_count": 24,
   "metadata": {},
   "outputs": [
    {
     "data": {
      "text/html": [
       "<div>\n",
       "<style>\n",
       "    .dataframe thead tr:only-child th {\n",
       "        text-align: right;\n",
       "    }\n",
       "\n",
       "    .dataframe thead th {\n",
       "        text-align: left;\n",
       "    }\n",
       "\n",
       "    .dataframe tbody tr th {\n",
       "        vertical-align: top;\n",
       "    }\n",
       "</style>\n",
       "<table border=\"1\" class=\"dataframe\">\n",
       "  <thead>\n",
       "    <tr style=\"text-align: right;\">\n",
       "      <th></th>\n",
       "      <th>0</th>\n",
       "      <th>1</th>\n",
       "      <th>2</th>\n",
       "      <th>3</th>\n",
       "    </tr>\n",
       "  </thead>\n",
       "  <tbody>\n",
       "    <tr>\n",
       "      <th>count</th>\n",
       "      <td>1.050000e+02</td>\n",
       "      <td>1.050000e+02</td>\n",
       "      <td>1.050000e+02</td>\n",
       "      <td>1.050000e+02</td>\n",
       "    </tr>\n",
       "    <tr>\n",
       "      <th>mean</th>\n",
       "      <td>-5.202188e-16</td>\n",
       "      <td>6.952111e-16</td>\n",
       "      <td>2.008975e-16</td>\n",
       "      <td>-5.075305e-16</td>\n",
       "    </tr>\n",
       "    <tr>\n",
       "      <th>std</th>\n",
       "      <td>1.004796e+00</td>\n",
       "      <td>1.004796e+00</td>\n",
       "      <td>1.004796e+00</td>\n",
       "      <td>1.004796e+00</td>\n",
       "    </tr>\n",
       "    <tr>\n",
       "      <th>min</th>\n",
       "      <td>-1.796993e+00</td>\n",
       "      <td>-2.409310e+00</td>\n",
       "      <td>-1.454129e+00</td>\n",
       "      <td>-1.382159e+00</td>\n",
       "    </tr>\n",
       "    <tr>\n",
       "      <th>25%</th>\n",
       "      <td>-8.553371e-01</td>\n",
       "      <td>-5.844044e-01</td>\n",
       "      <td>-1.231070e+00</td>\n",
       "      <td>-1.254406e+00</td>\n",
       "    </tr>\n",
       "    <tr>\n",
       "      <th>50%</th>\n",
       "      <td>-3.138852e-02</td>\n",
       "      <td>-1.281779e-01</td>\n",
       "      <td>3.303390e-01</td>\n",
       "      <td>1.508694e-01</td>\n",
       "    </tr>\n",
       "    <tr>\n",
       "      <th>75%</th>\n",
       "      <td>6.748531e-01</td>\n",
       "      <td>5.561618e-01</td>\n",
       "      <td>7.764560e-01</td>\n",
       "      <td>7.896312e-01</td>\n",
       "    </tr>\n",
       "    <tr>\n",
       "      <th>max</th>\n",
       "      <td>2.440457e+00</td>\n",
       "      <td>3.065407e+00</td>\n",
       "      <td>1.780219e+00</td>\n",
       "      <td>1.683898e+00</td>\n",
       "    </tr>\n",
       "  </tbody>\n",
       "</table>\n",
       "</div>"
      ],
      "text/plain": [
       "                  0             1             2             3\n",
       "count  1.050000e+02  1.050000e+02  1.050000e+02  1.050000e+02\n",
       "mean  -5.202188e-16  6.952111e-16  2.008975e-16 -5.075305e-16\n",
       "std    1.004796e+00  1.004796e+00  1.004796e+00  1.004796e+00\n",
       "min   -1.796993e+00 -2.409310e+00 -1.454129e+00 -1.382159e+00\n",
       "25%   -8.553371e-01 -5.844044e-01 -1.231070e+00 -1.254406e+00\n",
       "50%   -3.138852e-02 -1.281779e-01  3.303390e-01  1.508694e-01\n",
       "75%    6.748531e-01  5.561618e-01  7.764560e-01  7.896312e-01\n",
       "max    2.440457e+00  3.065407e+00  1.780219e+00  1.683898e+00"
      ]
     },
     "execution_count": 24,
     "metadata": {},
     "output_type": "execute_result"
    }
   ],
   "source": [
    "from sklearn.model_selection import train_test_split\n",
    "from sklearn.preprocessing import StandardScaler\n",
    "\n",
    "#Splitting train-test set\n",
    "X_train, X_test, y_train, y_test = train_test_split(X, Y, test_size=0.3)\n",
    "scaler = StandardScaler()\n",
    "\n",
    "#Standarizing data\n",
    "X_train_scaled = scaler.fit_transform(X_train)\n",
    "X_test_scaled = scaler.transform(X_test)\n",
    "\n",
    "#Finding main descriptors of the data\n",
    "pd.DataFrame(X_train_scaled).describe()"
   ]
  },
  {
   "cell_type": "markdown",
   "metadata": {},
   "source": [
    "A class is implemented that wraps many functionalities of the KNN classifier. This class heritates from Scikit-learn BaseEstimator (so that it can be used along with other scikit-learn funcionalities). The class defines also several methods:\n",
    "\n",
    "- Constructor (__init__ method): used to initialize k when the object is created.\n",
    "- fit: to train the model. Since KNN has no model, we storage the training and test set.\n",
    "- predict: to make predictions over a given test set.\n",
    "- score: to find the accuracy over a test set.\n",
    "- find knn: return a list of nearst neighbours\n",
    "- eucliden distance: find the euclidean distance between different rows of a matrix and a query vector.\n",
    "\n",
    "Accuracy is chosen as performance measure, since the label distribution is balanced. Otherwhise, we should use another measure, less sensible to label distribution (lik F1-Score). We can define accuracy as:\n",
    "\n",
    "$Accuracy = \\frac{TP+TN}{S}$\n",
    "\n",
    "Where TP are True Positives, TN are True Negatives and S is the size of the whole set. We could also define accuracy as:\n",
    "\n",
    "$Accuracy = \\sum{I(y=\\hat{y})}$\n",
    "\n",
    "Where $I=1$ if $y=\\hat{y}$, and $I=0$ otherwise.\n",
    "\n",
    "Finally, an object is created to make predictions over a test set using KNN (k=3) and then, we find, the accuracy over a test set.\n"
   ]
  },
  {
   "cell_type": "code",
   "execution_count": 25,
   "metadata": {},
   "outputs": [
    {
     "data": {
      "text/plain": [
       "0.93333333333333335"
      ]
     },
     "execution_count": 25,
     "metadata": {},
     "output_type": "execute_result"
    }
   ],
   "source": [
    "#class knn estimator\n",
    "\n",
    "class knn_estimator (BaseEstimator):\n",
    "    \n",
    "    def __init__(self,k):\n",
    "        \n",
    "        '''Intialize the hyperparameter k (number of nearest neighbors to look for)'''\n",
    "        \n",
    "        self.k=k\n",
    "        \n",
    "    def fit(self, X_train, y_train):\n",
    "        \n",
    "        '''Save the train set (features and labels) to be able to make predictions in the future'''\n",
    "        \n",
    "        self.X_train = X_train\n",
    "        self.y_train = y_train\n",
    "\n",
    "    def predict(self, X_test):\n",
    "\n",
    "        '''Make predictions over the X_test using KNN'''\n",
    "        \n",
    "        n_test_samples = X_test.shape[0]\n",
    "        predictions = []\n",
    "\n",
    "        for i in range(n_test_samples):\n",
    "            X_query = X_test[i,:]\n",
    "            (top_k, idx) = self.find_knn(self.X_train, X_query, self.k)\n",
    "            #pred_class = st.mode(self.y_train[idx,])\n",
    "            pred_class= max(set(list(self.y_train[idx,].tolist())), key=self.y_train.tolist().count)\n",
    "            predictions.append(pred_class)\n",
    "            \n",
    "        return np.array(predictions)\n",
    "\n",
    "    def score(self, X, y):\n",
    "        \n",
    "        '''Find the accuracy oF the predictions over X given the y labels'''\n",
    "        \n",
    "        y_pred = self.predict(X)\n",
    "        acc=np.mean(y==y_pred)\n",
    "        \n",
    "        return acc\n",
    "    \n",
    "    def find_knn(self, X, X_query, k):\n",
    "        \n",
    "        '''Find the k-nearest neighbors of X_query among the samples in X '''\n",
    "        \n",
    "        dist = self.euclidean_distance(X, X_query)\n",
    "        idx = np.argsort(dist.T[0], axis=0)[:k]\n",
    "        top_k = X[idx,:]\n",
    "        return top_k, idx      \n",
    "    \n",
    "    def euclidean_distance(self, X, X_query):\n",
    "\n",
    "        '''Find the euclidean distance between X_query (single sample) and X\n",
    "           (matrix where each row is a sample)'''\n",
    "        \n",
    "        if X.shape[1] != X_query.shape[0]:\n",
    "            print(\"Dimensions doesn't match.\")\n",
    "\n",
    "        dist = np.zeros((X.shape[0], 1))\n",
    "\n",
    "        for i in range(X.shape[0]):\n",
    "                dist[i] = np.sqrt(np.sum((X[i,:]-X_query)**2))\n",
    "\n",
    "        return dist\n",
    "\n",
    "\n",
    "k=5\n",
    "knn_clf = knn_estimator(k)\n",
    "knn_clf.fit(X_train, y_train)\n",
    "acc = knn_clf.score(X_test, y_test)\n",
    "acc"
   ]
  },
  {
   "cell_type": "markdown",
   "metadata": {},
   "source": [
    "### Exercise 2 - Part A: Optimize and compare KNN algorithm \n",
    "\n"
   ]
  },
  {
   "cell_type": "markdown",
   "metadata": {},
   "source": [
    "To determine the optimal value of K in KNN, we will use grid search with cross validation. For that we apply k-fold cross validation [2] and tried a different set of hyperparameters. At the end, we choose the hyperparameter with the highest mean accuracy for the k-fold.\n",
    "\n",
    "Note that the hyperparameter that we aim to fin is the number of neighbors (K)."
   ]
  },
  {
   "cell_type": "code",
   "execution_count": 26,
   "metadata": {},
   "outputs": [
    {
     "data": {
      "text/plain": [
       "Text(0,0.5,'Accuracy')"
      ]
     },
     "execution_count": 26,
     "metadata": {},
     "output_type": "execute_result"
    },
    {
     "data": {
      "image/png": "[encoded data removed]",
      "text/plain": [
       "<matplotlib.figure.Figure at 0x23a0c34ad30>"
      ]
     },
     "metadata": {},
     "output_type": "display_data"
    }
   ],
   "source": [
    "#number of samples of training set\n",
    "n_train = X_train.shape[0]\n",
    "\n",
    "#number of folds\n",
    "n_folds = 5\n",
    "\n",
    "#initializing folds\n",
    "folds = []\n",
    "samples_fold = int(n_train/n_folds)\n",
    "\n",
    "#creating the k-fold subsets\n",
    "for i in range(n_folds):\n",
    "    \n",
    "    folds.append((X_train[(i*samples_fold):((i+1)*samples_fold),:],\n",
    "                   y_train[(i*samples_fold):((i+1)*samples_fold)]))\n",
    "\n",
    "folds_list = list(range(n_folds+1))\n",
    "\n",
    "#initialize list to store the man of each hyperparameter setting\n",
    "mean_test_folds = []\n",
    "\n",
    "#list of hyperparameters\n",
    "k_list = [1,2,3,5,10,20]\n",
    "\n",
    "for k in k_list:\n",
    "\n",
    "    test_acc_folds = []\n",
    "    \n",
    "    for f in range(n_folds):\n",
    "\n",
    "            #list of folds\n",
    "            folds_list = list(range(n_folds))\n",
    "            folds_list.pop(f)\n",
    "\n",
    "            #selecting test dataset\n",
    "            X_test_fold = folds[f][0]\n",
    "            y_test_fold = folds[f][1]\n",
    "\n",
    "            #merging the folds to create the training dataset\n",
    "            X_train_fold = folds[folds_list[1]][0]   \n",
    "            y_train_fold = folds[folds_list[1]][1]\n",
    "            \n",
    "            for j in folds_list[1:]:\n",
    "                X_train_fold = np.vstack((X_train_fold, folds[j][0]))\n",
    "                y_train_fold = np.hstack((y_train_fold, folds[j][1]))\n",
    "\n",
    "            #creating base estimator\n",
    "            knn_clf = knn_estimator(k)\n",
    "            \n",
    "            #saving the X_train and y_train\n",
    "            knn_clf.fit(X_train_fold, y_train_fold)\n",
    "            \n",
    "            #finding accuracy over the fold\n",
    "            acc_test = knn_clf.score(X_test_fold, y_test_fold)\n",
    "            test_acc_folds.append(acc_test)\n",
    "            \n",
    "    #findning the mean across all the folds\n",
    "    mean_test_folds.append(np.mean(test_acc_folds))\n",
    "\n",
    "plt.plot(k_list, mean_test_folds, '*') \n",
    "plt.grid()\n",
    "plt.xlabel(\"k\")\n",
    "plt.ylabel(\"Accuracy\")"
   ]
  },
  {
   "cell_type": "markdown",
   "metadata": {},
   "source": [
    "After running cross validation, we can see that the best value for the hyperparameters is K=1. We also validate this result using _GridSearch_ function of Scikit learn. We can do this since we have created the knn_stimator class with the same interface as an estimator class of Scikit-learn. This also returns that the best value for K is 1."
   ]
  },
  {
   "cell_type": "code",
   "execution_count": 27,
   "metadata": {},
   "outputs": [
    {
     "data": {
      "text/plain": [
       "knn_estimator(k=2)"
      ]
     },
     "execution_count": 27,
     "metadata": {},
     "output_type": "execute_result"
    }
   ],
   "source": [
    "from sklearn.model_selection import GridSearchCV\n",
    "\n",
    "knn_clf = knn_estimator(3)\n",
    "parameters={'k':k_list}\n",
    "knn_grid = GridSearchCV(knn_clf, parameters, cv=5)\n",
    "knn_grid.fit(X_train, y_train)\n",
    "best_knn= knn_grid.best_estimator_\n",
    "best_knn"
   ]
  },
  {
   "cell_type": "markdown",
   "metadata": {},
   "source": [
    "To give evidence that this value is the better, we try on test set different values for K. As we can see, the greater the value of K, the lower the accuracy. The graph show that the best and lowest value for K is K=1."
   ]
  },
  {
   "cell_type": "code",
   "execution_count": 28,
   "metadata": {},
   "outputs": [
    {
     "data": {
      "image/png": "[encoded data removed]",
      "text/plain": [
       "<matplotlib.figure.Figure at 0x23a0bccb588>"
      ]
     },
     "metadata": {},
     "output_type": "display_data"
    }
   ],
   "source": [
    "acc_list = []\n",
    "\n",
    "for i in range(1,25):\n",
    "    knn_clf = knn_estimator(i)\n",
    "    knn_clf.fit(X_train, y_train)\n",
    "    acc = knn_clf.score(X_test, y_test)\n",
    "    acc_list.append(acc)\n",
    "plt.plot(acc_list)\n",
    "plt.grid()"
   ]
  },
  {
   "cell_type": "markdown",
   "metadata": {},
   "source": [
    "### Exercise 2 - Part B: Comparison of KNN with Tree based methods\n",
    "\n",
    "The perforamnce of decision tree and KNN is compared using the test set and analyzing the stability of the results using cross_val_score. The idea is that the results do not be very deviated from a mean value. \n",
    "\n",
    "Hyperparameter search is applied over the decision trees. In this case, we vary maximal depth of the tree as hyperparameter. We can see that the best tree is the one with max_depth = 3. "
   ]
  },
  {
   "cell_type": "code",
   "execution_count": 31,
   "metadata": {},
   "outputs": [
    {
     "name": "stdout",
     "output_type": "stream",
     "text": [
      "Best tree: DecisionTreeClassifier(class_weight=None, criterion='gini', max_depth=3,\n",
      "            max_features=None, max_leaf_nodes=None,\n",
      "            min_impurity_decrease=0.0, min_impurity_split=None,\n",
      "            min_samples_leaf=1, min_samples_split=2,\n",
      "            min_weight_fraction_leaf=0.0, presort=False, random_state=None,\n",
      "            splitter='best')\n"
     ]
    },
    {
     "data": {
      "text/plain": [
       "Text(0,0.5,'Accuracy')"
      ]
     },
     "execution_count": 31,
     "metadata": {},
     "output_type": "execute_result"
    },
    {
     "data": {
      "image/png": "[encoded data removed]",
      "text/plain": [
       "<matplotlib.figure.Figure at 0x23a0c3de390>"
      ]
     },
     "metadata": {},
     "output_type": "display_data"
    }
   ],
   "source": [
    "from sklearn import tree\n",
    "\n",
    "parameters = {'max_depth':list(range(1,11))}\n",
    "\n",
    "#creating the classifier\n",
    "tree_clf = tree.DecisionTreeClassifier()\n",
    "tree_grid = GridSearchCV(tree_clf, parameters, cv=5)\n",
    "\n",
    "#performing hyperparameter search\n",
    "tree_grid.fit(X_train, y_train)\n",
    "\n",
    "#finding the best decision tree\n",
    "best_tree = tree_grid.best_estimator_\n",
    "\n",
    "print(\"Best tree:\", best_tree)\n",
    "\n",
    "#pltting differen results\n",
    "x_axis = [i['max_depth'] for i in tree_grid.cv_results_['params']]\n",
    "x_axis\n",
    "y_axis = tree_grid.cv_results_['mean_test_score']\n",
    "\n",
    "plt.plot(x_axis, y_axis)\n",
    "plt.grid()\n",
    "plt.xlabel(\"Max. depth\")\n",
    "plt.ylabel(\"Accuracy\")"
   ]
  },
  {
   "cell_type": "code",
   "execution_count": 32,
   "metadata": {},
   "outputs": [
    {
     "name": "stdout",
     "output_type": "stream",
     "text": [
      "Results for the best tree:\n",
      "Mean of results: 0.95\n",
      "Standard deviation of results: 0.04472135955\n"
     ]
    },
    {
     "data": {
      "image/png": "[encoded data removed]",
      "text/plain": [
       "<matplotlib.figure.Figure at 0x23a0c4a4cc0>"
      ]
     },
     "metadata": {},
     "output_type": "display_data"
    }
   ],
   "source": [
    "from sklearn.model_selection import cross_val_score\n",
    "\n",
    "metrics_tree = cross_val_score(best_tree, X_train, y_train, cv=5)\n",
    "plt.boxplot(metrics_tree)\n",
    "plt.grid()\n",
    "\n",
    "print(\"Results for the best tree:\")\n",
    "print(\"Mean of results:\", np.mean(metrics_tree))\n",
    "print(\"Standard deviation of results:\", np.std(metrics_tree))"
   ]
  },
  {
   "cell_type": "code",
   "execution_count": 33,
   "metadata": {},
   "outputs": [
    {
     "name": "stdout",
     "output_type": "stream",
     "text": [
      "Results for the best KNN classifier:\n",
      "Mean of results: 0.952380952381\n",
      "Standard deviation of results: 0.042591771\n"
     ]
    },
    {
     "data": {
      "image/png": "[encoded data removed]",
      "text/plain": [
       "<matplotlib.figure.Figure at 0x23a0c531518>"
      ]
     },
     "metadata": {},
     "output_type": "display_data"
    }
   ],
   "source": [
    "from sklearn.model_selection import cross_val_score\n",
    "\n",
    "metrics_knn = cross_val_score(best_knn, X_train, y_train, cv=5)\n",
    "plt.boxplot(metrics_knn)\n",
    "plt.grid()\n",
    "\n",
    "print(\"Results for the best KNN classifier:\")\n",
    "print(\"Mean of results:\", np.mean(metrics_knn))\n",
    "print(\"Standard deviation of results:\", np.std(metrics_knn))"
   ]
  },
  {
   "cell_type": "code",
   "execution_count": 34,
   "metadata": {},
   "outputs": [
    {
     "name": "stdout",
     "output_type": "stream",
     "text": [
      "Accuracy of KNN: 0.955555555556\n",
      "Accuracy of tree: 0.933333333333\n"
     ]
    }
   ],
   "source": [
    "#Evaluation on test set\n",
    "acc_knn_test = best_knn.score(X_test, y_test)\n",
    "acc_tree_test = best_tree.score(X_test, y_test)\n",
    "\n",
    "print(\"Accuracy of KNN:\", acc_knn_test)\n",
    "print(\"Accuracy of tree:\", acc_tree_test)"
   ]
  },
  {
   "cell_type": "markdown",
   "metadata": {},
   "source": [
    "The KNN classifier performs _slightly_ better than decision tree. In fact, during the creation of this notebook, the reuslts have changed a little bit between different runs. In this case, we can see that the accuracy on test set is better for KNN, however, due to the small size of test set (45 samples), this difference only means one wrongly classified sample.\n",
    "\n",
    "At the end of the day, although the KNN seems to perform _slightly_ better (at least for this run), the decision tree could be better in other aspects. For instance, decision tree stores few parameters to make predictions, while KNN has to store the whole training set. Moreover, in spite of a lacking  execution time comparisons, it is highly probable that the decision tree is faster than KNN, since the former has only to evaluate a few conditions, while the last one has to calculate the euclidean distance respect to every training sample."
   ]
  },
  {
   "cell_type": "markdown",
   "metadata": {},
   "source": [
    "## References\n",
    "\n",
    "* Iris data set: https://en.wikipedia.org/wiki/Iris_flower_data_set\n",
    "* K-Fold cross validation: https://machinelearningmastery.com/k-fold-cross-validation/\n"
   ]
  }
 ],
 "metadata": {
  "kernelspec": {
   "display_name": "Python 3",
   "language": "python",
   "name": "python3"
  },
  "language_info": {
   "codemirror_mode": {
    "name": "ipython",
    "version": 3
   },
   "file_extension": ".py",
   "mimetype": "text/x-python",
   "name": "python",
   "nbconvert_exporter": "python",
   "pygments_lexer": "ipython3",
   "version": "3.6.3"
  }
 },
 "nbformat": 4,
 "nbformat_minor": 2
}
