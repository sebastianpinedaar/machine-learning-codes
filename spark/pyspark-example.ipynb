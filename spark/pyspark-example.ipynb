{
 "cells": [
  {
   "cell_type": "code",
   "execution_count": 1,
   "metadata": {},
   "outputs": [
    {
     "data": {
      "text/plain": [
       "[('PHX', -9.5), ('DEN', 10.0), ('MIA', 75.5), ('LGA', -9.0)]"
      ]
     },
     "execution_count": 1,
     "metadata": {},
     "output_type": "execute_result"
    }
   ],
   "source": [
    "import findspark\n",
    "findspark.init()\n",
    "\n",
    "from pyspark import SparkContext \n",
    "sc = SparkContext(\"local\", \"First App\")\n",
    "\n",
    "sc.textFile(\"data.csv\") \\ #stage 1\n",
    "    .map(lambda line: line.split(\",\"))\\ #stage 2\n",
    "    .map(lambda line: (line[2], float(line[6])))\\ #stage 3\n",
    "    .mapValues(lambda x: (x, 1)) \\ #stage 4\n",
    "    .reduceByKey(lambda x,y: (x[0]+y[0], x[1]+y[1]))\\ #stage 5\n",
    "    .mapValues(lambda x: x[0]/x[1]  )\\ #stage 6\n",
    "    .collect() #stage 7"
   ]
  },
  {
   "cell_type": "code",
   "execution_count": null,
   "metadata": {
    "collapsed": true
   },
   "outputs": [],
   "source": []
  }
 ],
 "metadata": {
  "kernelspec": {
   "display_name": "Python 3",
   "language": "python",
   "name": "python3"
  },
  "language_info": {
   "codemirror_mode": {
    "name": "ipython",
    "version": 3
   },
   "file_extension": ".py",
   "mimetype": "text/x-python",
   "name": "python",
   "nbconvert_exporter": "python",
   "pygments_lexer": "ipython3",
   "version": "3.6.3"
  }
 },
 "nbformat": 4,
 "nbformat_minor": 2
}
