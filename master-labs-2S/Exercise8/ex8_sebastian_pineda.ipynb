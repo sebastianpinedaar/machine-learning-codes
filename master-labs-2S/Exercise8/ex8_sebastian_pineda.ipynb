{
 "cells": [
  {
   "cell_type": "markdown",
   "metadata": {},
   "source": [
    "# Distributed Data Analytics\n",
    "# Exercise Sheet 8\n",
    "## Sebastian Pineda Arango Mtr. Nr. 246098\n",
    "\n",
    "\n",
    "Note: In the code folder, the HTML file deploys all the tables correctly, while in the PDF, some tables are cut.\n",
    "\n",
    "## Exercise 1: Apache Spark Basics\n",
    "\n",
    "### Part a) Basic Operations on Resilient Distributed Dataset"
   ]
  },
  {
   "cell_type": "markdown",
   "metadata": {},
   "source": [
    "1. "
   ]
  },
  {
   "cell_type": "code",
   "execution_count": 1,
   "metadata": {},
   "outputs": [],
   "source": [
    "#find spark\n",
    "import findspark\n",
    "findspark.init()\n",
    "\n",
    "#import spark context\n",
    "from pyspark import SparkContext \n",
    "sc = SparkContext(\"local\", \"First App\")"
   ]
  },
  {
   "cell_type": "code",
   "execution_count": 43,
   "metadata": {
    "collapsed": true
   },
   "outputs": [],
   "source": [
    "#creating objects\n",
    "a = [\"spark\", \"rdd\", \"python\", \"context\", \"create\", \"class\"]\n",
    "b = [\"operation\", \"apache\", \"scala\", \"lambda\", \"parallel\", \"partition\"]\n"
   ]
  },
  {
   "cell_type": "code",
   "execution_count": 44,
   "metadata": {
    "collapsed": true
   },
   "outputs": [],
   "source": [
    "#creating RDD\n",
    "a_RDD = sc.parallelize(a).map(lambda x: (x,1))\n",
    "b_RDD = sc.parallelize(b).map(lambda x: (x,1))"
   ]
  },
  {
   "cell_type": "code",
   "execution_count": 45,
   "metadata": {},
   "outputs": [
    {
     "data": {
      "text/plain": [
       "[('python', (1, None)),\n",
       " ('class', (1, None)),\n",
       " ('spark', (1, None)),\n",
       " ('rdd', (1, None)),\n",
       " ('context', (1, None)),\n",
       " ('create', (1, None))]"
      ]
     },
     "execution_count": 45,
     "metadata": {},
     "output_type": "execute_result"
    }
   ],
   "source": [
    "a_RDD.leftOuterJoin(b_RDD).collect()"
   ]
  },
  {
   "cell_type": "code",
   "execution_count": 46,
   "metadata": {},
   "outputs": [
    {
     "data": {
      "text/plain": [
       "[('scala', (None, 1)),\n",
       " ('parallel', (None, 1)),\n",
       " ('partition', (None, 1)),\n",
       " ('operation', (None, 1)),\n",
       " ('apache', (None, 1)),\n",
       " ('lambda', (None, 1))]"
      ]
     },
     "execution_count": 46,
     "metadata": {},
     "output_type": "execute_result"
    }
   ],
   "source": [
    "a_RDD.rightOuterJoin(b_RDD).collect()"
   ]
  },
  {
   "cell_type": "markdown",
   "metadata": {},
   "source": [
    "2."
   ]
  },
  {
   "cell_type": "code",
   "execution_count": 47,
   "metadata": {},
   "outputs": [
    {
     "name": "stdout",
     "output_type": "stream",
     "text": [
      "Count in list a: 3\n",
      "Count in list b: 1\n"
     ]
    }
   ],
   "source": [
    "def count_ch(RDD_words, ch):\n",
    "    \n",
    "    \"\"\"This functions counts how many times ch \n",
    "        appers in RDD_words\"\"\"\n",
    "    \n",
    "    count= RDD_words.map(lambda x: list(x)) \\\n",
    "              .flatMap(lambda x: x) \\\n",
    "              .filter(lambda x: x==ch)\\\n",
    "              .count()\n",
    "        \n",
    "    return count\n",
    "\n",
    "\n",
    "#counting \"s\" in the list of words\n",
    "count1 = count_ch(sc.parallelize(a), \"s\")\n",
    "count2 = count_ch(sc.parallelize(b), \"s\")\n",
    "\n",
    "print(\"Count in list a:\", count1)\n",
    "print(\"Count in list b:\", count2)"
   ]
  },
  {
   "cell_type": "markdown",
   "metadata": {},
   "source": [
    "3."
   ]
  },
  {
   "cell_type": "code",
   "execution_count": 48,
   "metadata": {},
   "outputs": [
    {
     "name": "stdout",
     "output_type": "stream",
     "text": [
      "Count in list a: 3\n",
      "Count in list b: 1\n"
     ]
    }
   ],
   "source": [
    "def count_ch2(RDD_words, ch):\n",
    "    \n",
    "    \"\"\"Counts ch in RDD_words using aggregate\"\"\"\n",
    "    seqOp = (lambda x,y : (x[0]+y, x[1]+1))\n",
    "    combOp = (lambda x,y : (x[0]+y[0], x[1]+y[1]))\n",
    "\n",
    "    count = RDD_words.map(lambda x: list(x)) \\\n",
    "                .flatMap(lambda x: x) \\\n",
    "                .filter(lambda x: x==ch) \\\n",
    "                .aggregate((\"\",0), seqOp, combOp)\n",
    "                \n",
    "    return count\n",
    "\n",
    "#counting \"s\" in the list of words\n",
    "count1 = count_ch2(sc.parallelize(a), \"s\")\n",
    "count2 = count_ch2(sc.parallelize(b), \"s\")\n",
    "\n",
    "print(\"Count in list a:\", count1[1])\n",
    "print(\"Count in list b:\", count2[1])"
   ]
  },
  {
   "cell_type": "markdown",
   "metadata": {},
   "source": [
    "### Part b) Basic Operations on Resilient Distributed Dataset"
   ]
  },
  {
   "cell_type": "code",
   "execution_count": 2,
   "metadata": {
    "collapsed": true
   },
   "outputs": [],
   "source": [
    "#importing SQL context\n",
    "import pyspark as ps\n",
    "sqlContext = ps.SQLContext(sc)"
   ]
  },
  {
   "cell_type": "code",
   "execution_count": 58,
   "metadata": {},
   "outputs": [
    {
     "name": "stdout",
     "output_type": "stream",
     "text": [
      "root\n",
      " |-- course: string (nullable = true)\n",
      " |-- dob: string (nullable = true)\n",
      " |-- first_name: string (nullable = true)\n",
      " |-- last_name: string (nullable = true)\n",
      " |-- points: long (nullable = true)\n",
      " |-- s_id: long (nullable = true)\n",
      "\n"
     ]
    }
   ],
   "source": [
    "#reading the file and its schema\n",
    "df = sqlContext.read.json(\"students.json\")\n",
    "df.printSchema()"
   ]
  },
  {
   "cell_type": "code",
   "execution_count": 59,
   "metadata": {},
   "outputs": [
    {
     "name": "stdout",
     "output_type": "stream",
     "text": [
      "+-------+------------------+\n",
      "|summary|            points|\n",
      "+-------+------------------+\n",
      "|  count|                19|\n",
      "|   mean|11.736842105263158|\n",
      "| stddev|3.3307007147839007|\n",
      "|    min|                 6|\n",
      "|    max|                19|\n",
      "+-------+------------------+\n",
      "\n"
     ]
    }
   ],
   "source": [
    "#describing the file\n",
    "df.describe([\"points\"]).show()"
   ]
  },
  {
   "cell_type": "code",
   "execution_count": 60,
   "metadata": {},
   "outputs": [
    {
     "name": "stdout",
     "output_type": "stream",
     "text": [
      "+------------------+\n",
      "|       avg(points)|\n",
      "+------------------+\n",
      "|11.736842105263158|\n",
      "+------------------+\n",
      "\n"
     ]
    }
   ],
   "source": [
    "#finding the average\n",
    "import pyspark.sql.functions as f\n",
    "mean_points = df.agg(f.avg(\"points\"))\n",
    "mean_points.show()"
   ]
  },
  {
   "cell_type": "markdown",
   "metadata": {},
   "source": [
    "1."
   ]
  },
  {
   "cell_type": "code",
   "execution_count": 61,
   "metadata": {},
   "outputs": [
    {
     "name": "stdout",
     "output_type": "stream",
     "text": [
      "+-------+-----------------+\n",
      "|summary|           points|\n",
      "+-------+-----------------+\n",
      "|  count|               20|\n",
      "|   mean|             11.7|\n",
      "| stddev|3.246050231475656|\n",
      "|    min|                6|\n",
      "|    max|               19|\n",
      "+-------+-----------------+\n",
      "\n"
     ]
    }
   ],
   "source": [
    "#imputing the column \"points\"\n",
    "df = df.na.fill(mean_points.first()[0], [\"points\"])\n",
    "df.describe([\"points\"]).show()"
   ]
  },
  {
   "cell_type": "markdown",
   "metadata": {},
   "source": [
    "2."
   ]
  },
  {
   "cell_type": "code",
   "execution_count": 62,
   "metadata": {},
   "outputs": [
    {
     "name": "stdout",
     "output_type": "stream",
     "text": [
      "+------------------+------------------+----------+---------+------+----+\n",
      "|            course|               dob|first_name|last_name|points|s_id|\n",
      "+------------------+------------------+----------+---------+------+----+\n",
      "|Humanities and Art|  October 14, 1983|      Alan|      Joe|    10|   1|\n",
      "|  Computer Science|September 26, 1980|    Martin|  Genberg|    17|   2|\n",
      "|    Graphic Design|     June 12, 1982|     Athur|   Watson|    16|   3|\n",
      "|    Graphic Design|     April 5, 1987|  Anabelle|  Sanberg|    12|   4|\n",
      "|        Psychology|  November 1, 1978|      Kira| Schommer|    11|   5|\n",
      "|          Business|  17 February 1981| Christian|   Kiriam|    10|   6|\n",
      "|  Machine Learning|    1 January 1984|   Barbara|  Ballard|    14|   7|\n",
      "|     Deep Learning|  January 13, 1978|      John|       --|    10|   8|\n",
      "|  Machine Learning|  26 December 1989|    Marcus|   Carson|    15|   9|\n",
      "|           Physics|  30 December 1987|     Marta|   Brooks|    11|  10|\n",
      "|    Data Analytics|     June 12, 1975|     Holly| Schwartz|    12|  11|\n",
      "|  Computer Science|      July 2, 1985|     April|    Black|    11|  12|\n",
      "|  Computer Science|     July 22, 1980|     Irene|  Bradley|    13|  13|\n",
      "|        Psychology|   7 February 1986|      Mark|    Weber|    12|  14|\n",
      "|       Informatics|      May 18, 1987|     Rosie|   Norman|     9|  15|\n",
      "|          Business|   August 10, 1984|    Martin|   Steele|     7|  16|\n",
      "|  Machine Learning|  16 December 1990|     Colin| Martinez|     9|  17|\n",
      "|    Data Analytics|           unknown|   Bridget|    Twain|     6|  18|\n",
      "|          Business|      7 March 1980|   Darlene|    Mills|    19|  19|\n",
      "|    Data Analytics|      June 2, 1985|   Zachary|       --|    10|  20|\n",
      "+------------------+------------------+----------+---------+------+----+\n",
      "\n"
     ]
    }
   ],
   "source": [
    "#imputing the columns \"dob\" and \"last name\"\n",
    "df = df.na.fill(\"unknown\", [\"dob\"])\n",
    "df = df.na.fill(\"--\",[\"last_name\"])\n",
    "df.show()"
   ]
  },
  {
   "cell_type": "markdown",
   "metadata": {},
   "source": [
    "3."
   ]
  },
  {
   "cell_type": "code",
   "execution_count": 63,
   "metadata": {},
   "outputs": [],
   "source": [
    "import datetime \n",
    "\n",
    "def change_date(date):\n",
    "    \"\"\"This functions correct the format of the date and \n",
    "    outputs the format mm-dd-yyyy\"\"\"\n",
    "    \n",
    "    d = date[0].replace(\",\", \"\")\n",
    "    if d[0].isdigit():\n",
    "        \n",
    "        return datetime.datetime.strptime(d, \"%d %B %Y\").strftime(\"%m-%d-%Y\")\n",
    "    elif d ==\"unknown\":\n",
    "        return \"unknown\"\n",
    "    else:\n",
    "        return datetime.datetime.strptime(d, \"%B %d %Y\").strftime(\"%m-%d-%Y\")"
   ]
  },
  {
   "cell_type": "code",
   "execution_count": 65,
   "metadata": {},
   "outputs": [
    {
     "name": "stdout",
     "output_type": "stream",
     "text": [
      "+------------------+------------------+----------+---------+------+----+----------+\n",
      "|            course|               dob|first_name|last_name|points|s_id|     date2|\n",
      "+------------------+------------------+----------+---------+------+----+----------+\n",
      "|Humanities and Art|  October 14, 1983|      Alan|      Joe|    10|   1|10-14-1983|\n",
      "|  Computer Science|September 26, 1980|    Martin|  Genberg|    17|   2|09-26-1980|\n",
      "|    Graphic Design|     June 12, 1982|     Athur|   Watson|    16|   3|06-12-1982|\n",
      "|    Graphic Design|     April 5, 1987|  Anabelle|  Sanberg|    12|   4|04-05-1987|\n",
      "|        Psychology|  November 1, 1978|      Kira| Schommer|    11|   5|11-01-1978|\n",
      "|          Business|  17 February 1981| Christian|   Kiriam|    10|   6|02-17-1981|\n",
      "|  Machine Learning|    1 January 1984|   Barbara|  Ballard|    14|   7|01-01-1984|\n",
      "|     Deep Learning|  January 13, 1978|      John|       --|    10|   8|01-13-1978|\n",
      "|  Machine Learning|  26 December 1989|    Marcus|   Carson|    15|   9|12-26-1989|\n",
      "|           Physics|  30 December 1987|     Marta|   Brooks|    11|  10|12-30-1987|\n",
      "|    Data Analytics|     June 12, 1975|     Holly| Schwartz|    12|  11|06-12-1975|\n",
      "|  Computer Science|      July 2, 1985|     April|    Black|    11|  12|07-02-1985|\n",
      "|  Computer Science|     July 22, 1980|     Irene|  Bradley|    13|  13|07-22-1980|\n",
      "|        Psychology|   7 February 1986|      Mark|    Weber|    12|  14|02-07-1986|\n",
      "|       Informatics|      May 18, 1987|     Rosie|   Norman|     9|  15|05-18-1987|\n",
      "|          Business|   August 10, 1984|    Martin|   Steele|     7|  16|08-10-1984|\n",
      "|  Machine Learning|  16 December 1990|     Colin| Martinez|     9|  17|12-16-1990|\n",
      "|    Data Analytics|           unknown|   Bridget|    Twain|     6|  18|   unknown|\n",
      "|          Business|      7 March 1980|   Darlene|    Mills|    19|  19|03-07-1980|\n",
      "|    Data Analytics|      June 2, 1985|   Zachary|       --|    10|  20|06-02-1985|\n",
      "+------------------+------------------+----------+---------+------+----+----------+\n",
      "\n"
     ]
    }
   ],
   "source": [
    "#changing the date\n",
    "date2 = df.select(\"dob\").rdd.map(lambda x: (change_date(x),) ).toDF([\"date2\"])\n",
    "date2 = date2.withColumn(\"id\", f.monotonically_increasing_id())\n",
    "df = df.withColumn(\"id\", f.monotonically_increasing_id())\n",
    "\n",
    "#appending the new changed date\n",
    "df2 = df.join(date2, \"id\", \"inner\").drop(\"id\")\n",
    "df2.show()"
   ]
  },
  {
   "cell_type": "markdown",
   "metadata": {},
   "source": [
    "4."
   ]
  },
  {
   "cell_type": "code",
   "execution_count": 63,
   "metadata": {},
   "outputs": [
    {
     "name": "stdout",
     "output_type": "stream",
     "text": [
      "+------------------+------------------+----------+---------+------+----+----------+----+\n",
      "|            course|               dob|first_name|last_name|points|s_id|     date2| age|\n",
      "+------------------+------------------+----------+---------+------+----+----------+----+\n",
      "|Humanities and Art|  October 14, 1983|      Alan|      Joe|    10|   1|10-14-1983|  35|\n",
      "|  Computer Science|September 26, 1980|    Martin|  Genberg|    17|   2|09-26-1980|  38|\n",
      "|    Graphic Design|     June 12, 1982|     Athur|   Watson|    16|   3|06-12-1982|  37|\n",
      "|    Graphic Design|     April 5, 1987|  Anabelle|  Sanberg|    12|   4|04-05-1987|  32|\n",
      "|        Psychology|  November 1, 1978|      Kira| Schommer|    11|   5|11-01-1978|  40|\n",
      "|          Business|  17 February 1981| Christian|   Kiriam|    10|   6|02-17-1981|  38|\n",
      "|  Machine Learning|    1 January 1984|   Barbara|  Ballard|    14|   7|01-01-1984|  35|\n",
      "|     Deep Learning|  January 13, 1978|      John|       --|    10|   8|01-13-1978|  41|\n",
      "|  Machine Learning|  26 December 1989|    Marcus|   Carson|    15|   9|12-26-1989|  29|\n",
      "|           Physics|  30 December 1987|     Marta|   Brooks|    11|  10|12-30-1987|  31|\n",
      "|    Data Analytics|     June 12, 1975|     Holly| Schwartz|    12|  11|06-12-1975|  44|\n",
      "|  Computer Science|      July 2, 1985|     April|    Black|    11|  12|07-02-1985|  34|\n",
      "|  Computer Science|     July 22, 1980|     Irene|  Bradley|    13|  13|07-22-1980|  38|\n",
      "|        Psychology|   7 February 1986|      Mark|    Weber|    12|  14|02-07-1986|  33|\n",
      "|       Informatics|      May 18, 1987|     Rosie|   Norman|     9|  15|05-18-1987|  32|\n",
      "|          Business|   August 10, 1984|    Martin|   Steele|     7|  16|08-10-1984|  34|\n",
      "|  Machine Learning|  16 December 1990|     Colin| Martinez|     9|  17|12-16-1990|  28|\n",
      "|    Data Analytics|           unknown|   Bridget|    Twain|     6|  18|   unknown|null|\n",
      "|          Business|      7 March 1980|   Darlene|    Mills|    19|  19|03-07-1980|  39|\n",
      "|    Data Analytics|      June 2, 1985|   Zachary|       --|    10|  20|06-02-1985|  34|\n",
      "+------------------+------------------+----------+---------+------+----+----------+----+\n",
      "\n"
     ]
    }
   ],
   "source": [
    "#number of seconds in a year = 31536000\n",
    "#creating the age column by substracting current date with the Date of Birth coumn\n",
    "df2 = df2.withColumn(\"age\", ((f.unix_timestamp(f.current_date())-f.unix_timestamp(f.col(\"date2\"), format=\"MM-dd-yyyy\"))/31536000).cast(\"int\"))\n",
    "df2.show()"
   ]
  },
  {
   "cell_type": "markdown",
   "metadata": {},
   "source": [
    "5."
   ]
  },
  {
   "cell_type": "code",
   "execution_count": 66,
   "metadata": {},
   "outputs": [
    {
     "name": "stdout",
     "output_type": "stream",
     "text": [
      "+-------------------+\n",
      "|stddev_samp(points)|\n",
      "+-------------------+\n",
      "|  3.246050231475656|\n",
      "+-------------------+\n",
      "\n"
     ]
    }
   ],
   "source": [
    "#getting the standard deviation and mean of points\n",
    "std_points = df.agg(f.stddev(\"points\"))\n",
    "std_points.show()\n",
    "std_pd = float(std_points.toPandas().iloc[0])\n",
    "mean_pd = float(mean_points.toPandas().iloc[0])"
   ]
  },
  {
   "cell_type": "code",
   "execution_count": 69,
   "metadata": {},
   "outputs": [
    {
     "name": "stdout",
     "output_type": "stream",
     "text": [
      "+------------------+------------------+----------+---------+------+----+----------+----------+\n",
      "|            course|               dob|first_name|last_name|points|s_id|     date2|new_points|\n",
      "+------------------+------------------+----------+---------+------+----+----------+----------+\n",
      "|Humanities and Art|  October 14, 1983|      Alan|      Joe|    10|   1|10-14-1983|        10|\n",
      "|  Computer Science|September 26, 1980|    Martin|  Genberg|    17|   2|09-26-1980|        20|\n",
      "|    Graphic Design|     June 12, 1982|     Athur|   Watson|    16|   3|06-12-1982|        20|\n",
      "|    Graphic Design|     April 5, 1987|  Anabelle|  Sanberg|    12|   4|04-05-1987|        12|\n",
      "|        Psychology|  November 1, 1978|      Kira| Schommer|    11|   5|11-01-1978|        11|\n",
      "|          Business|  17 February 1981| Christian|   Kiriam|    10|   6|02-17-1981|        10|\n",
      "|  Machine Learning|    1 January 1984|   Barbara|  Ballard|    14|   7|01-01-1984|        14|\n",
      "|     Deep Learning|  January 13, 1978|      John|       --|    10|   8|01-13-1978|        10|\n",
      "|  Machine Learning|  26 December 1989|    Marcus|   Carson|    15|   9|12-26-1989|        20|\n",
      "|           Physics|  30 December 1987|     Marta|   Brooks|    11|  10|12-30-1987|        11|\n",
      "|    Data Analytics|     June 12, 1975|     Holly| Schwartz|    12|  11|06-12-1975|        12|\n",
      "|  Computer Science|      July 2, 1985|     April|    Black|    11|  12|07-02-1985|        11|\n",
      "|  Computer Science|     July 22, 1980|     Irene|  Bradley|    13|  13|07-22-1980|        13|\n",
      "|        Psychology|   7 February 1986|      Mark|    Weber|    12|  14|02-07-1986|        12|\n",
      "|       Informatics|      May 18, 1987|     Rosie|   Norman|     9|  15|05-18-1987|         9|\n",
      "|          Business|   August 10, 1984|    Martin|   Steele|     7|  16|08-10-1984|         7|\n",
      "|  Machine Learning|  16 December 1990|     Colin| Martinez|     9|  17|12-16-1990|         9|\n",
      "|    Data Analytics|           unknown|   Bridget|    Twain|     6|  18|   unknown|         6|\n",
      "|          Business|      7 March 1980|   Darlene|    Mills|    19|  19|03-07-1980|        20|\n",
      "|    Data Analytics|      June 2, 1985|   Zachary|       --|    10|  20|06-02-1985|        10|\n",
      "+------------------+------------------+----------+---------+------+----+----------+----------+\n",
      "\n"
     ]
    }
   ],
   "source": [
    "#setting the points which are greater then tandard deviation to 20\n",
    "df2 = df2.withColumn(\"new_points\",f.when( f.col(\"points\")-mean_pd> std_pd,20) \\\n",
    "                             .otherwise(f.col(\"points\")))\n",
    "df2.show()"
   ]
  },
  {
   "cell_type": "markdown",
   "metadata": {},
   "source": [
    "6."
   ]
  },
  {
   "cell_type": "code",
   "execution_count": 68,
   "metadata": {},
   "outputs": [
    {
     "data": {
      "text/plain": [
       "Text(0,0.5,'Frequency')"
      ]
     },
     "execution_count": 68,
     "metadata": {},
     "output_type": "execute_result"
    },
    {
     "data": {
      "image/png": "[encoded data removed]",
      "text/plain": [
       "<matplotlib.figure.Figure at 0x297f9cbcef0>"
      ]
     },
     "metadata": {},
     "output_type": "display_data"
    }
   ],
   "source": [
    "#ploting histograms of the points\n",
    "import matplotlib.pyplot as plt\n",
    "%matplotlib inline\n",
    "\n",
    "hists= df2.select(\"points\").rdd.flatMap(lambda x: x).histogram(20)\n",
    "plt.bar(hists[0][:-1], hists[1])\n",
    "plt.grid()\n",
    "plt.xlabel(\"Points before change\")\n",
    "plt.ylabel(\"Frequency\")\n"
   ]
  },
  {
   "cell_type": "code",
   "execution_count": 75,
   "metadata": {},
   "outputs": [
    {
     "data": {
      "text/plain": [
       "Text(0,0.5,'Frequency')"
      ]
     },
     "execution_count": 75,
     "metadata": {},
     "output_type": "execute_result"
    },
    {
     "data": {
      "image/png": "[encoded data removed]",
      "text/plain": [
       "<matplotlib.figure.Figure at 0x1724b33c0f0>"
      ]
     },
     "metadata": {},
     "output_type": "display_data"
    }
   ],
   "source": [
    "hists= df2.select(\"new_points\").rdd.flatMap(lambda x: x).histogram(20)\n",
    "plt.bar(hists[0][:-1], hists[1])\n",
    "plt.grid()\n",
    "plt.xlabel(\"Points after change\")\n",
    "plt.ylabel(\"Frequency\")"
   ]
  },
  {
   "cell_type": "markdown",
   "metadata": {},
   "source": [
    "## Exercise 2: Apache Spark Basics"
   ]
  },
  {
   "cell_type": "code",
   "execution_count": 93,
   "metadata": {},
   "outputs": [
    {
     "data": {
      "text/plain": [
       "'15::4973::excellent!::1215184630'"
      ]
     },
     "execution_count": 93,
     "metadata": {},
     "output_type": "execute_result"
    }
   ],
   "source": [
    "#reading tags and printing first row\n",
    "data = sc.textFile(\"tags.dat\")\n",
    "data.first()"
   ]
  },
  {
   "cell_type": "code",
   "execution_count": 94,
   "metadata": {},
   "outputs": [
    {
     "data": {
      "text/plain": [
       "(15, 4973, 'excellent!', 1215184630)"
      ]
     },
     "execution_count": 94,
     "metadata": {},
     "output_type": "execute_result"
    }
   ],
   "source": [
    "#processing the rows with mappers\n",
    "df = data.map(lambda x: x.split(\"::\")) \\\n",
    "         .map(lambda x: (int(x[0]), int(x[1]), x[2], int(x[3])))\n",
    "df.first()"
   ]
  },
  {
   "cell_type": "code",
   "execution_count": 95,
   "metadata": {},
   "outputs": [
    {
     "name": "stdout",
     "output_type": "stream",
     "text": [
      "+------+-------+---------------+----------+\n",
      "|UserID|MovieID|            Tag| Timestamp|\n",
      "+------+-------+---------------+----------+\n",
      "|    15|   4973|     excellent!|1215184630|\n",
      "|    20|   1747|       politics|1188263867|\n",
      "|    20|   1747|         satire|1188263867|\n",
      "|    20|   2424|chick flick 212|1188263835|\n",
      "|    20|   2424|          hanks|1188263835|\n",
      "|    20|   2424|           ryan|1188263835|\n",
      "|    20|   2947|         action|1188263755|\n",
      "|    20|   2947|           bond|1188263756|\n",
      "|    20|   3033|          spoof|1188263880|\n",
      "|    20|   3033|      star wars|1188263880|\n",
      "+------+-------+---------------+----------+\n",
      "only showing top 10 rows\n",
      "\n"
     ]
    }
   ],
   "source": [
    "#transforming to DataFrame\n",
    "df = df.toDF([\"UserID\", \"MovieID\", \"Tag\", \"Timestamp\"])\n",
    "df.show(10)"
   ]
  },
  {
   "cell_type": "markdown",
   "metadata": {},
   "source": [
    "1."
   ]
  },
  {
   "cell_type": "markdown",
   "metadata": {},
   "source": [
    "To separate the tags session, we create two flags: 1) change user (it means, the previous and current user are different) and 2) change session (It means, the difference between the last and current timestamp is greater than 30 mins. Base on those two flags, we create a SessionID that allows to identify different sessions in further processing."
   ]
  },
  {
   "cell_type": "code",
   "execution_count": 102,
   "metadata": {},
   "outputs": [
    {
     "name": "stdout",
     "output_type": "stream",
     "text": [
      "+------+-------+--------------------+----------+------------+----------+-------------+---------+------------+-------+\n",
      "|UserID|MovieID|                 Tag| Timestamp|TimestampLag|ChangeUser|ChangeSession|SessionID|TimestampDif|UserLag|\n",
      "+------+-------+--------------------+----------+------------+----------+-------------+---------+------------+-------+\n",
      "|    15|   4973|          excellent!|1215184630|        null|         0|            1|        1|           0|   null|\n",
      "|    20|   2947|              action|1188263755|  1215184630|         1|            1|        2|           0|     15|\n",
      "|    20|   2947|                bond|1188263756|  1188263755|         0|            0|        2|           1|     20|\n",
      "|    20|   7438|              bloody|1188263801|  1188263756|         0|            0|        2|          45|     20|\n",
      "|    20|   7438|             kung fu|1188263801|  1188263801|         0|            0|        2|           0|     20|\n",
      "|    20|   7438|           Tarantino|1188263801|  1188263801|         0|            0|        2|           0|     20|\n",
      "|    20|   2424|     chick flick 212|1188263835|  1188263801|         0|            0|        2|          34|     20|\n",
      "|    20|   2424|               hanks|1188263835|  1188263835|         0|            0|        2|           0|     20|\n",
      "|    20|   2424|                ryan|1188263835|  1188263835|         0|            0|        2|           0|     20|\n",
      "|    20|   1747|            politics|1188263867|  1188263835|         0|            0|        2|          32|     20|\n",
      "|    20|   1747|              satire|1188263867|  1188263867|         0|            0|        2|           0|     20|\n",
      "|    20|   3033|               spoof|1188263880|  1188263867|         0|            0|        2|          13|     20|\n",
      "|    20|   3033|           star wars|1188263880|  1188263880|         0|            0|        2|           0|     20|\n",
      "|    21|  55253|               NC-17|1205081488|  1188263880|         1|            1|        3|           0|     20|\n",
      "|    21|  55247|                   R|1205081506|  1205081488|         0|            0|        3|          18|     21|\n",
      "|    25|   6709|         Johnny Depp|1162147221|  1205081506|         1|            1|        4|           0|     21|\n",
      "|    25|     50|        Kevin Spacey|1166101426|  1162147221|         0|            1|        5|           0|     25|\n",
      "|    31|   6373|   comedy of manners|1188263644|  1166101426|         1|            1|        6|           0|     25|\n",
      "|    31|    546|strangely compelling|1188263674|  1188263644|         0|            0|        6|          30|     31|\n",
      "|    31|   2116|                Epic|1188263707|  1188263674|         0|            0|        6|          33|     31|\n",
      "+------+-------+--------------------+----------+------------+----------+-------------+---------+------------+-------+\n",
      "only showing top 20 rows\n",
      "\n"
     ]
    }
   ],
   "source": [
    "from pyspark.sql import Window\n",
    "\n",
    "w = Window.orderBy( f.asc('UserID'), f.asc('Timestamp'))\n",
    "\n",
    "df = df.withColumn(\"TimestampLag\",  f.lag(\"Timestamp\").over(w)) \\\n",
    "        .withColumn(\"UserLag\", f.lag(\"UserID\").over(w)) \\\n",
    "        .withColumn(\"ChangeUser\", f.when((f.col(\"UserID\")!=f.col(\"UserLag\")), 1) \\\n",
    "                                  .otherwise(0))\n",
    "        \n",
    "df = df.withColumn(\"ChangeSession\", f.when((f.col(\"Timestamp\")-f.col(\"TimestampLag\"))< 1800, f.col(\"ChangeUser\")) \\\n",
    "                                  .otherwise(1)) \\\n",
    "        .withColumn(\"SessionID\", f.sum(\"ChangeSession\").over(w)) \n",
    "df.show(20)"
   ]
  },
  {
   "cell_type": "markdown",
   "metadata": {},
   "source": [
    "2."
   ]
  },
  {
   "cell_type": "markdown",
   "metadata": {},
   "source": [
    "Now find the tags per session for every user (tag frequency). This is used to calculate the man and standard deviation of start frequency."
   ]
  },
  {
   "cell_type": "code",
   "execution_count": 101,
   "metadata": {},
   "outputs": [
    {
     "name": "stdout",
     "output_type": "stream",
     "text": [
      "+---------+------+--------------+\n",
      "|SessionID|UserID|TagsPerSession|\n",
      "+---------+------+--------------+\n",
      "|        1|    15|             1|\n",
      "|        2|    20|            12|\n",
      "|        3|    21|             2|\n",
      "|        4|    25|             1|\n",
      "|        5|    25|             1|\n",
      "|        6|    31|             5|\n",
      "|        7|    32|             1|\n",
      "|        8|    39|             5|\n",
      "|        9|    48|             2|\n",
      "|       10|    49|            15|\n",
      "+---------+------+--------------+\n",
      "only showing top 10 rows\n",
      "\n"
     ]
    }
   ],
   "source": [
    "TagsPerSession = df.groupBy(\"SessionID\", \"UserID\").count().withColumnRenamed(\"count\", \"TagsPerSession\")\n",
    "TagsPerSession.show(10)"
   ]
  },
  {
   "cell_type": "markdown",
   "metadata": {},
   "source": [
    "3."
   ]
  },
  {
   "cell_type": "markdown",
   "metadata": {},
   "source": [
    "Now we find the mean and the standard deviation of tags per user."
   ]
  },
  {
   "cell_type": "code",
   "execution_count": 103,
   "metadata": {},
   "outputs": [
    {
     "name": "stdout",
     "output_type": "stream",
     "text": [
      "+------+---------------+\n",
      "|UserID|MeanTagsPerUser|\n",
      "+------+---------------+\n",
      "|    15|            1.0|\n",
      "|    20|           12.0|\n",
      "|    21|            2.0|\n",
      "|    25|            1.0|\n",
      "|    31|            5.0|\n",
      "|    32|            1.0|\n",
      "|    39|            5.0|\n",
      "|    48|            2.0|\n",
      "|    49|           15.0|\n",
      "|    75|            1.0|\n",
      "|    78|            1.0|\n",
      "|   109|         2.7778|\n",
      "|   127|           26.0|\n",
      "|   133|            5.0|\n",
      "|   146|         4.9489|\n",
      "|   147|            2.0|\n",
      "|   170|            1.0|\n",
      "|   175|            1.0|\n",
      "|   181|            4.0|\n",
      "|   190|            6.5|\n",
      "+------+---------------+\n",
      "only showing top 20 rows\n",
      "\n"
     ]
    }
   ],
   "source": [
    "#mean tags per user\n",
    "MeanTagsPerUser =  TagsPerSession.groupBy(\"UserID\").mean(\"TagsPerSession\") \\\n",
    "                               .withColumnRenamed(\"avg(TagsPerSession)\", \"MeanTagsPerUser\") \\\n",
    "                               .withColumn(\"MeanTagsPerUser\", f.round(\"MeanTagsPerUser\", 4 ))\n",
    "MeanTagsPerUser.show()"
   ]
  },
  {
   "cell_type": "code",
   "execution_count": 104,
   "metadata": {},
   "outputs": [
    {
     "name": "stdout",
     "output_type": "stream",
     "text": [
      "+------+--------------+\n",
      "|UserID|StdTagsPerUser|\n",
      "+------+--------------+\n",
      "|    15|           0.0|\n",
      "|    20|           0.0|\n",
      "|    21|           0.0|\n",
      "|    25|           0.0|\n",
      "|    31|           0.0|\n",
      "|    32|           0.0|\n",
      "|    39|           0.0|\n",
      "|    48|           0.0|\n",
      "|    49|           0.0|\n",
      "|    75|           0.0|\n",
      "|    78|           0.0|\n",
      "|   109|        3.0832|\n",
      "|   127|           0.0|\n",
      "|   133|           0.0|\n",
      "|   146|        8.9965|\n",
      "|   147|           0.0|\n",
      "|   170|           0.0|\n",
      "|   175|           0.0|\n",
      "|   181|           0.0|\n",
      "|   190|        6.0622|\n",
      "+------+--------------+\n",
      "only showing top 20 rows\n",
      "\n"
     ]
    }
   ],
   "source": [
    "#standard deviation\n",
    "StdTagsPerUser =  TagsPerSession.groupBy(\"UserID\").agg(f.stddev_pop(\"TagsPerSession\")) \\\n",
    "                               .withColumnRenamed(\"stddev_pop(TagsPerSession)\", \"StdTagsPerUser\") \\\n",
    "                               .withColumn(\"StdTagsPerUser\", f.round(\"StdTagsPerUser\", 4))\n",
    "StdTagsPerUser.show()"
   ]
  },
  {
   "cell_type": "markdown",
   "metadata": {},
   "source": [
    "4."
   ]
  },
  {
   "cell_type": "markdown",
   "metadata": {},
   "source": [
    "Computing the mean and standard deviation across all users."
   ]
  },
  {
   "cell_type": "code",
   "execution_count": 107,
   "metadata": {},
   "outputs": [
    {
     "name": "stdout",
     "output_type": "stream",
     "text": [
      "+--------+-------+\n",
      "|MeanTags|StdTags|\n",
      "+--------+-------+\n",
      "|  7.3001|22.2643|\n",
      "+--------+-------+\n",
      "\n"
     ]
    }
   ],
   "source": [
    "statistics = TagsPerSession.agg(f.avg(\"TagsPerSession\"), f.stddev(\"TagsPerSession\")) \\\n",
    "                               .withColumnRenamed(\"avg(TagsPerSession)\", \"MeanTags\") \\\n",
    "                               .withColumn(\"MeanTags\", f.round(\"MeanTags\", 4)) \\\n",
    "                               .withColumnRenamed(\"stddev_samp(TagsPerSession)\", \"StdTags\") \\\n",
    "                               .withColumn(\"StdTags\", f.round(\"StdTags\", 4)) \n",
    "                                \n",
    "statistics.show()"
   ]
  },
  {
   "cell_type": "code",
   "execution_count": 108,
   "metadata": {
    "collapsed": true
   },
   "outputs": [],
   "source": [
    "mean, std = statistics.toPandas().iloc[0,]"
   ]
  },
  {
   "cell_type": "markdown",
   "metadata": {},
   "source": [
    "5."
   ]
  },
  {
   "cell_type": "markdown",
   "metadata": {},
   "source": [
    "List of users with a mean tagging frequency within two standar deviation from the mean frequency of all users."
   ]
  },
  {
   "cell_type": "code",
   "execution_count": 109,
   "metadata": {},
   "outputs": [
    {
     "name": "stdout",
     "output_type": "stream",
     "text": [
      "+------+\n",
      "|UserID|\n",
      "+------+\n",
      "|    15|\n",
      "|    20|\n",
      "|    21|\n",
      "|    25|\n",
      "|    31|\n",
      "|    32|\n",
      "|    39|\n",
      "|    48|\n",
      "|    49|\n",
      "|    75|\n",
      "+------+\n",
      "only showing top 10 rows\n",
      "\n"
     ]
    }
   ],
   "source": [
    "df2 = MeanTagsPerUser.filter( f.abs(f.col(\"MeanTagsPerUser\") -mean) < 2*std).select(\"UserID\")\n",
    "df2.show(10)"
   ]
  },
  {
   "cell_type": "markdown",
   "metadata": {},
   "source": [
    "## Bonus: Analysis of Movie Dataset Using Apache Spark Mapreduce"
   ]
  },
  {
   "cell_type": "code",
   "execution_count": 112,
   "metadata": {
    "scrolled": true
   },
   "outputs": [
    {
     "name": "stdout",
     "output_type": "stream",
     "text": [
      "+------+-------+------+------------+\n",
      "|userId|movieId|rating|   timestamp|\n",
      "+------+-------+------+------------+\n",
      "|     1|      1|   4.0|9.64982703E8|\n",
      "|     1|      3|   4.0|9.64981247E8|\n",
      "|     1|      6|   4.0|9.64982224E8|\n",
      "+------+-------+------+------------+\n",
      "only showing top 3 rows\n",
      "\n"
     ]
    }
   ],
   "source": [
    "import os\n",
    "import pyspark.sql.types as types\n",
    "\n",
    "data_schema = [types.StructField('userId', types.IntegerType(), True),\n",
    "               types.StructField('movieId', types.IntegerType(), True),\n",
    "               types.StructField('rating', types.DoubleType(), True),\n",
    "               types.StructField('timestamp', types.DoubleType(), True)]\n",
    "\n",
    "data = sqlContext.read.csv(os.path.join(\"ml-latest-small\",\"ratings.csv\"), header=True, schema = types.StructType(data_schema))\n",
    "data.show(3)"
   ]
  },
  {
   "cell_type": "markdown",
   "metadata": {},
   "source": [
    "1."
   ]
  },
  {
   "cell_type": "markdown",
   "metadata": {},
   "source": [
    "Finding the movie titles with the maximum average ratings (there are several of them : 256)."
   ]
  },
  {
   "cell_type": "code",
   "execution_count": 116,
   "metadata": {},
   "outputs": [
    {
     "name": "stdout",
     "output_type": "stream",
     "text": [
      "+-------+-----------+\n",
      "|movieId|avg(rating)|\n",
      "+-------+-----------+\n",
      "|   8911|        5.0|\n",
      "| 150554|        5.0|\n",
      "|  67618|        5.0|\n",
      "|    496|        5.0|\n",
      "|    148|        5.0|\n",
      "+-------+-----------+\n",
      "only showing top 5 rows\n",
      "\n"
     ]
    }
   ],
   "source": [
    "MeanRatingPerMovie = data.groupBy(\"movieId\").mean(\"rating\").orderBy(f.desc(\"avg(rating)\")).show(5)"
   ]
  },
  {
   "cell_type": "code",
   "execution_count": 117,
   "metadata": {},
   "outputs": [
    {
     "name": "stdout",
     "output_type": "stream",
     "text": [
      "+-------+-----------+\n",
      "|movieId|avg(rating)|\n",
      "+-------+-----------+\n",
      "|    148|        5.0|\n",
      "|    496|        5.0|\n",
      "|  67618|        5.0|\n",
      "| 150554|        5.0|\n",
      "| 142444|        5.0|\n",
      "+-------+-----------+\n",
      "only showing top 5 rows\n",
      "\n",
      "Movies with maximal avg rating: 296\n"
     ]
    }
   ],
   "source": [
    "MaxRatings = data.groupBy(\"movieId\").mean(\"rating\").filter(f.col(\"avg(rating)\")==5.0)\n",
    "MaxRatings.show(5)\n",
    "print(\"Movies with maximal avg rating:\", MaxRatings.count())"
   ]
  },
  {
   "cell_type": "markdown",
   "metadata": {},
   "source": [
    "2."
   ]
  },
  {
   "cell_type": "markdown",
   "metadata": {},
   "source": [
    "We see that the User with ID: 139 assigns the lowest average ratings among all the users that have more than 40 ratings."
   ]
  },
  {
   "cell_type": "code",
   "execution_count": 118,
   "metadata": {},
   "outputs": [
    {
     "name": "stdout",
     "output_type": "stream",
     "text": [
      "+------+-------------+------------------+\n",
      "|UserId|count(rating)|       avg(rating)|\n",
      "+------+-------------+------------------+\n",
      "|   139|          194|2.1443298969072164|\n",
      "|   153|          179| 2.217877094972067|\n",
      "|   567|          385|2.2454545454545456|\n",
      "+------+-------------+------------------+\n",
      "only showing top 3 rows\n",
      "\n"
     ]
    }
   ],
   "source": [
    "data.groupBy(\"UserId\").agg( f.count(\"rating\") ,f.mean(\"rating\")) \\\n",
    "                        .filter(f.col(\"count(rating)\")>40) \\\n",
    "                        .orderBy(f.asc(\"avg(rating)\")).show(3)"
   ]
  },
  {
   "cell_type": "markdown",
   "metadata": {},
   "source": [
    "3."
   ]
  },
  {
   "cell_type": "markdown",
   "metadata": {},
   "source": [
    "We see that the western movies have the hgihest average ratings."
   ]
  },
  {
   "cell_type": "code",
   "execution_count": 119,
   "metadata": {},
   "outputs": [],
   "source": [
    "movies = sqlContext.read.csv(os.path.join(\"ml-latest-small\",\"movies.csv\"), header=True)\n",
    "movies = movies.withColumn(\"id\", f.monotonically_increasing_id())\n",
    "data = data.withColumn(\"id\", f.monotonically_increasing_id())\n",
    "movies = movies.join(data, \"id\", \"inner\")\n",
    "movies = movies.select(\"genres\", \"rating\").rdd.flatMap(lambda x: [(i, (1, x[1])) for i in x[0].split(\"|\")]) \\\n",
    "                                                .reduceByKey(lambda x,y: (x[0]+y[0], x[1]+y[1])) \\\n",
    "                                                .mapValues(lambda x: x[0]/x[1]  )"
   ]
  },
  {
   "cell_type": "code",
   "execution_count": 120,
   "metadata": {},
   "outputs": [
    {
     "data": {
      "text/plain": [
       "('Western', 0.2950530035335689)"
      ]
     },
     "execution_count": 120,
     "metadata": {},
     "output_type": "execute_result"
    }
   ],
   "source": [
    "movies.reduce(lambda x,y: max(x, y))"
   ]
  },
  {
   "cell_type": "code",
   "execution_count": 121,
   "metadata": {},
   "outputs": [
    {
     "data": {
      "text/plain": [
       "[('Adventure', 0.27985818745845337),\n",
       " ('Animation', 0.27356167450190283),\n",
       " ('Children', 0.2797556351379819),\n",
       " ('Comedy', 0.28370722864264675),\n",
       " ('Fantasy', 0.2761432116270826)]"
      ]
     },
     "execution_count": 121,
     "metadata": {},
     "output_type": "execute_result"
    }
   ],
   "source": [
    "movies.take(5)"
   ]
  },
  {
   "cell_type": "markdown",
   "metadata": {},
   "source": [
    "## References\n",
    "\n",
    "* https://www.coursera.org/lecture/big-data-machine-learning/handling-missing-values-in-spark-Goh1z\n",
    "* \"Learning PySpark\" by Tomasz Drabas and Denny Lee\n",
    "* https://spark.apache.org/docs/2.1.0/api/python/pyspark.sql.html\n",
    "* https://www.analyticsvidhya.com/blog/2016/10/spark-dataframe-and-operations/"
   ]
  }
 ],
 "metadata": {
  "kernelspec": {
   "display_name": "Python 3",
   "language": "python",
   "name": "python3"
  },
  "language_info": {
   "codemirror_mode": {
    "name": "ipython",
    "version": 3
   },
   "file_extension": ".py",
   "mimetype": "text/x-python",
   "name": "python",
   "nbconvert_exporter": "python",
   "pygments_lexer": "ipython3",
   "version": "3.6.3"
  }
 },
 "nbformat": 4,
 "nbformat_minor": 2
}
