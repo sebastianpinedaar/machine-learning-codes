{
 "cells": [
  {
   "cell_type": "markdown",
   "metadata": {},
   "source": [
    "# Distributed Data Analytics\n",
    "# Exercise Sheet 6\n",
    "## Sebastian Pineda Arango Mtr. Nr. 246098\n",
    "\n",
    "In this notebooks we are going to implement two Convolutional Neural Networks, a complex and simple one. Moreover, we are going to apply data transformations to increase the size of the training data. The models will be trained on CIFAR10 dataset [3].\n"
   ]
  },
  {
   "cell_type": "markdown",
   "metadata": {},
   "source": [
    "### Data Augmentation\n",
    "\n",
    "For the data augmentation process, we are going to implement the following transformations using Tensorflow:\n",
    "\n",
    "- Scaling\n",
    "- Translation\n",
    "- Rotation\n",
    "\n",
    "To code the transformations, we have partially taken references from [4] and [5].\n"
   ]
  },
  {
   "cell_type": "code",
   "execution_count": 1,
   "metadata": {},
   "outputs": [
    {
     "name": "stderr",
     "output_type": "stream",
     "text": [
      "C:\\Users\\User\\Anaconda3\\lib\\site-packages\\h5py\\__init__.py:34: FutureWarning: Conversion of the second argument of issubdtype from `float` to `np.floating` is deprecated. In future, it will be treated as `np.float64 == np.dtype(float).type`.\n",
      "  from ._conv import register_converters as _register_converters\n",
      "Using TensorFlow backend.\n"
     ]
    }
   ],
   "source": [
    "import numpy as np\n",
    "import tensorflow as tf\n",
    "import keras\n",
    "import math\n",
    "from keras.datasets import cifar10\n",
    "import matplotlib.pyplot as plt\n",
    "import os\n",
    "\n",
    "%matplotlib inline"
   ]
  },
  {
   "cell_type": "code",
   "execution_count": 2,
   "metadata": {},
   "outputs": [
    {
     "data": {
      "image/png": "[encoded data removed]",
      "text/plain": [
       "<matplotlib.figure.Figure at 0x2360a894dd8>"
      ]
     },
     "metadata": {},
     "output_type": "display_data"
    },
    {
     "name": "stdout",
     "output_type": "stream",
     "text": [
      "(50000, 32, 32, 3)\n"
     ]
    }
   ],
   "source": [
    "(x_train, y_train), (x_test, y_test) = cifar10.load_data()\n",
    "\n",
    "num_images = x_train.shape[0]\n",
    "image_size = x_train.shape[1]\n",
    "num_classes = np.max(y_train)+1\n",
    "\n",
    "#loading image sample\n",
    "plt.figure()\n",
    "plt.imshow(x_train[1,:,:,:])\n",
    "plt.show()\n",
    "print(x_train.shape)"
   ]
  },
  {
   "cell_type": "code",
   "execution_count": 3,
   "metadata": {},
   "outputs": [
    {
     "name": "stdout",
     "output_type": "stream",
     "text": [
      "Creating Data Agumentation Class\n",
      "\n",
      "WARNING: The TensorFlow contrib module will not be included in TensorFlow 2.0.\n",
      "For more information, please see:\n",
      "  * https://github.com/tensorflow/community/blob/master/rfcs/20180907-contrib-sunset.md\n",
      "  * https://github.com/tensorflow/addons\n",
      "If you depend on functionality not listed there, please file an issue.\n",
      "\n"
     ]
    }
   ],
   "source": [
    "X = tf.placeholder(tf.uint8, shape = (None, image_size, image_size, 3))\n",
    "y =  tf.placeholder(tf.uint8, shape=(None, 1), name='output_y')\n",
    "\n",
    "class DataAugmentation():\n",
    "    \n",
    "    def __init__(self, image_size, num_images):\n",
    "        \n",
    "        \"\"\"Contructur for the data augmentation class\"\"\"\n",
    "        \n",
    "        self.image_size = image_size\n",
    "        self.num_images = num_images\n",
    "        \n",
    "        print(\"Creating Data Agumentation Class\")\n",
    "        \n",
    "    def rotate(self, angle=30):\n",
    "        \n",
    "        \"\"\"Rotation of the image\"\"\"\n",
    "        \n",
    "        rotate_tf =  tf.dtypes.cast(tf.contrib.image.rotate(self.X, angle), tf.uint8)\n",
    "        self.rotate_tf = rotate_tf\n",
    "        \n",
    "\n",
    "    def scale(self, scale=0.8):\n",
    "        \n",
    "        \"\"\"Scaling of the image\"\"\"\n",
    "\n",
    "        n_imgs = self.num_images\n",
    "        boxes = np.zeros((n_imgs, 4), dtype = np.float32)\n",
    "\n",
    "        for index in range(n_imgs):\n",
    "            x1 = y1 = 0.5 - 0.5 * scale # To scale centrally\n",
    "            x2 = y2 = 0.5 + 0.5 * scale\n",
    "            boxes[index] = np.array([y1, x1, y2, x2], dtype = np.float32)\n",
    "        box_ind = np.arange(n_imgs)\n",
    "        crop_size = np.array([image_size, image_size], dtype = np.int32)\n",
    "        scale_tf = tf.dtypes.cast(tf.image.crop_and_resize(self.X, boxes, box_ind, crop_size), tf.uint8)\n",
    "        self.scale_tf = scale_tf\n",
    "        \n",
    "        \n",
    "    def translate(self, pix_trans=10):\n",
    "                \n",
    "        \"\"\"Translation of the image\"\"\"\n",
    "        \n",
    "        translate_tf = tf.dtypes.cast(tf.contrib.image.translate(self.X, translations=[5,5]),  tf.uint8)\n",
    "        self.translate_tf = translate_tf\n",
    "\n",
    "    def get_rotate(self):\n",
    "        \n",
    "        return self.rotate_tf\n",
    "    \n",
    "    def get_scale(self):\n",
    "        \n",
    "        return self.scale_tf\n",
    "    \n",
    "    def get_translate(self):\n",
    "        \n",
    "        return self.translate_tf\n",
    "    \n",
    "    def augment_data(self, X, y,  angle, scale, pix_trans):\n",
    "        \n",
    "        \"\"\"Main function to augment the data\"\"\"\n",
    "        \n",
    "        angle_radians = np.pi*(angle/180) #transforming to radians\n",
    "        self.X = X\n",
    "        self.rotate(angle_radians)\n",
    "        self.scale(scale)\n",
    "        self.translate(pix_trans)\n",
    "        \n",
    "        return tf.concat([self.X, self.rotate_tf, self.scale_tf, self.translate_tf], axis=0), tf.concat([y, y, y, y], axis=0)\n",
    "    \n",
    "scale=0.9\n",
    "pix_trans = 10\n",
    "angle = 20\n",
    "data_augmenter = DataAugmentation(image_size=image_size, num_images=num_images)\n",
    "da_tensor, da_labels = data_augmenter.augment_data(X, y, angle, scale, pix_trans)\n",
    "\n",
    "sess = tf.Session()\n",
    "\n",
    "X_train_a, y_train_a, ex_rotate, ex_scale, ex_translate = sess.run([da_tensor, da_labels, data_augmenter.get_rotate()[0], \n",
    "                                           data_augmenter.get_scale()[0], data_augmenter.get_translate()[0]], \n",
    "                                            feed_dict= {X:x_train,\n",
    "                                                        y: y_train})\n",
    "sess.close()"
   ]
  },
  {
   "cell_type": "code",
   "execution_count": 4,
   "metadata": {},
   "outputs": [
    {
     "name": "stdout",
     "output_type": "stream",
     "text": [
      "(200000, 32, 32, 3)\n",
      "(200000, 1)\n"
     ]
    }
   ],
   "source": [
    "#checking the size after data augmentation\n",
    "print(X_train_a.shape)\n",
    "print(y_train_a.shape)"
   ]
  },
  {
   "cell_type": "code",
   "execution_count": 5,
   "metadata": {},
   "outputs": [
    {
     "name": "stdout",
     "output_type": "stream",
     "text": [
      "Original\n"
     ]
    },
    {
     "data": {
      "image/png": "[encoded data removed]",
      "text/plain": [
       "<matplotlib.figure.Figure at 0x23613b81898>"
      ]
     },
     "metadata": {},
     "output_type": "display_data"
    },
    {
     "name": "stdout",
     "output_type": "stream",
     "text": [
      "Example from rotation\n"
     ]
    },
    {
     "data": {
      "image/png": "[encoded data removed]",
      "text/plain": [
       "<matplotlib.figure.Figure at 0x2361a17df28>"
      ]
     },
     "metadata": {},
     "output_type": "display_data"
    },
    {
     "name": "stdout",
     "output_type": "stream",
     "text": [
      "Example from scaling\n"
     ]
    },
    {
     "data": {
      "image/png": "[encoded data removed]",
      "text/plain": [
       "<matplotlib.figure.Figure at 0x2361a224cc0>"
      ]
     },
     "metadata": {},
     "output_type": "display_data"
    },
    {
     "name": "stdout",
     "output_type": "stream",
     "text": [
      "Example from translation\n"
     ]
    },
    {
     "data": {
      "image/png": "[encoded data removed]",
      "text/plain": [
       "<matplotlib.figure.Figure at 0x2361a24e470>"
      ]
     },
     "metadata": {},
     "output_type": "display_data"
    }
   ],
   "source": [
    "#checking data augmentation\n",
    "plt.imshow(x_train[0,:,:,:])\n",
    "print(\"Original\")\n",
    "plt.show()\n",
    "\n",
    "plt.imshow(ex_rotate)\n",
    "print(\"Example from rotation\")\n",
    "plt.show()\n",
    "\n",
    "plt.imshow(ex_scale)\n",
    "print(\"Example from scaling\")\n",
    "plt.show()\n",
    "\n",
    "plt.imshow(ex_translate)\n",
    "print(\"Example from translation\")\n",
    "plt.show()"
   ]
  },
  {
   "cell_type": "markdown",
   "metadata": {
    "collapsed": true
   },
   "source": [
    "### Simple convolutional network\n",
    "\n",
    "We implement a simple neural network with only a convolutional layer, a max-pooling layer and a fully connected layer. For *regularizing* the neural network, there are several techniques:\n",
    "\n",
    "- Data augmentation: it is, generating new images by transforming the original training images (as we have done before)\n",
    "- Drop-out: by eliminating, randomly, some activations.\n",
    "- Batch-normalization: which has been reported to have a normalizing effect [6].\n",
    "- L2 (or L1) normalization: by penalizing the weights magnitude in the loss function.\n",
    "\n",
    "In the following examples we are goning to apply L2 (in the simple model) and Batch Normalization (in the complex model)."
   ]
  },
  {
   "cell_type": "code",
   "execution_count": 8,
   "metadata": {
    "collapsed": true
   },
   "outputs": [],
   "source": [
    "def random_mini_batches(X, Y, mini_batch_size = 64, seed = 0):\n",
    "    \"\"\" \n",
    "    Creates a list of random minibatches from (X, Y)\n",
    "    \n",
    "    Arguments:\n",
    "    X -- input data, of shape (input size, number of examples)\n",
    "    Y -- true \"label\" vector (containing 0 if cat, 1 if non-cat), of shape (1, number of examples)\n",
    "    mini_batch_size - size of the mini-batches, integer\n",
    "    seed -- this is only for the purpose of grading, so that you're \"random minibatches are the same as ours.\n",
    "    \n",
    "    Returns:\n",
    "    mini_batches -- list of synchronous (mini_batch_X, mini_batch_Y)\n",
    "    \"\"\"\n",
    "    \n",
    "    m = X.shape[0]                  # number of training examples\n",
    "    mini_batches = []\n",
    "    np.random.seed(seed)\n",
    "    \n",
    "    # Step 1: Shuffle (X, Y)\n",
    "    permutation = list(np.random.permutation(m))\n",
    "    shuffled_X = X[permutation,:]\n",
    "    shuffled_Y = Y[ permutation,:]\n",
    "\n",
    "    # Step 2: Partition (shuffled_X, shuffled_Y). Minus the end case.\n",
    "    num_complete_minibatches = math.floor(m/mini_batch_size) \n",
    "    # number of mini batches of size mini_batch_size in your partitionning\n",
    "    for k in range(0, num_complete_minibatches):\n",
    "        mini_batch_X = shuffled_X[k * mini_batch_size : k * mini_batch_size + mini_batch_size,:]\n",
    "        mini_batch_Y = shuffled_Y[ k * mini_batch_size : k * mini_batch_size + mini_batch_size,:]\n",
    "        mini_batch = (mini_batch_X, mini_batch_Y)\n",
    "        mini_batches.append(mini_batch)\n",
    "    \n",
    "    # Handling the end case (last mini-batch < mini_batch_size)\n",
    "    if m % mini_batch_size != 0:\n",
    "        mini_batch_X = shuffled_X[num_complete_minibatches * mini_batch_size : m,:]\n",
    "        mini_batch_Y = shuffled_Y[num_complete_minibatches * mini_batch_size : m, :]\n",
    "        mini_batch = (mini_batch_X, mini_batch_Y)\n",
    "        mini_batches.append(mini_batch)\n",
    "    \n",
    "    return mini_batches\n",
    "\n",
    "def variable_summaries(var):\n",
    "    \"\"\"Attach a lot of summaries to a Tensor (for TensorBoard visualization).\"\"\"\n",
    "    with tf.name_scope('summaries'):\n",
    "        mean = tf.reduce_mean(var)\n",
    "        tf.summary.scalar('mean', mean)\n",
    "        with tf.name_scope('stddev'):\n",
    "            stddev = tf.sqrt(tf.reduce_mean(tf.square(var - mean)))\n",
    "        tf.summary.scalar('stddev', stddev)\n",
    "        tf.summary.scalar('max', tf.reduce_max(var))\n",
    "        tf.summary.scalar('min', tf.reduce_min(var))\n",
    "        tf.summary.histogram('histogram', var)"
   ]
  },
  {
   "cell_type": "code",
   "execution_count": 9,
   "metadata": {
    "collapsed": true
   },
   "outputs": [],
   "source": [
    "#simple scaling of inputs: limiting the data due to RAM usage issues\n",
    "X_train = X_train_a[:20000]/255\n",
    "X_test = x_test/255\n",
    "y_train = y_train_a[:20000]\n",
    "y_test = y_test"
   ]
  },
  {
   "cell_type": "code",
   "execution_count": 10,
   "metadata": {
    "collapsed": true
   },
   "outputs": [],
   "source": [
    "#transforming labels\n",
    "y_train = keras.utils.to_categorical(y_train, num_classes)\n",
    "y_test = keras.utils.to_categorical(y_test, num_classes)"
   ]
  },
  {
   "cell_type": "code",
   "execution_count": 11,
   "metadata": {},
   "outputs": [
    {
     "name": "stdout",
     "output_type": "stream",
     "text": [
      "WARNING:tensorflow:From C:\\Users\\User\\Anaconda3\\lib\\site-packages\\tensorflow\\python\\framework\\op_def_library.py:263: colocate_with (from tensorflow.python.framework.ops) is deprecated and will be removed in a future version.\n",
      "Instructions for updating:\n",
      "Colocations handled automatically by placer.\n"
     ]
    }
   ],
   "source": [
    "#initializing the graph\n",
    "tf.reset_default_graph()\n",
    "\n",
    "x = tf.placeholder(tf.float32, shape=(None, 32, 32, 3), name='input_x')\n",
    "y =  tf.placeholder(tf.float32, shape=(None, 10), name='output_y')\n",
    "\n",
    "conv_filter = tf.Variable(tf.truncated_normal(shape=[3, 3, 3, 1], mean=0, stddev=0.1))\n",
    "W = tf.Variable(tf.truncated_normal(shape=[64, num_classes], mean=0, stddev=0.1))\n",
    "bias = tf.Variable(tf.truncated_normal(shape=[num_classes], mean=0, stddev=0.1))"
   ]
  },
  {
   "cell_type": "code",
   "execution_count": 13,
   "metadata": {},
   "outputs": [
    {
     "name": "stdout",
     "output_type": "stream",
     "text": [
      "Accuracy train: 0.0974\n",
      "Accuracy test: 0.1\n",
      "Accuracy train: 0.1006\n",
      "Accuracy test: 0.1018\n",
      "Accuracy train: 0.1626\n",
      "Accuracy test: 0.1632\n",
      "Accuracy train: 0.1909\n",
      "Accuracy test: 0.1818\n",
      "Accuracy train: 0.1981\n",
      "Accuracy test: 0.1947\n",
      "Accuracy train: 0.201\n",
      "Accuracy test: 0.199\n",
      "Accuracy train: 0.2069\n",
      "Accuracy test: 0.2012\n",
      "Accuracy train: 0.2115\n",
      "Accuracy test: 0.2046\n",
      "Accuracy train: 0.2152\n",
      "Accuracy test: 0.2064\n",
      "Accuracy train: 0.2111\n",
      "Accuracy test: 0.2014\n",
      "Accuracy train: 0.2178\n",
      "Accuracy test: 0.2097\n",
      "Accuracy train: 0.2198\n",
      "Accuracy test: 0.2117\n",
      "Accuracy train: 0.2206\n",
      "Accuracy test: 0.2143\n",
      "Accuracy train: 0.2218\n",
      "Accuracy test: 0.2151\n",
      "Accuracy train: 0.2207\n",
      "Accuracy test: 0.2111\n",
      "Accuracy train: 0.2226\n",
      "Accuracy test: 0.2146\n",
      "Accuracy train: 0.225\n",
      "Accuracy test: 0.217\n",
      "Accuracy train: 0.223\n",
      "Accuracy test: 0.2136\n",
      "Accuracy train: 0.222\n",
      "Accuracy test: 0.2112\n",
      "Accuracy train: 0.2231\n",
      "Accuracy test: 0.2135\n",
      "Accuracy train: 0.2204\n",
      "Accuracy test: 0.2115\n",
      "Accuracy train: 0.2219\n",
      "Accuracy test: 0.2126\n",
      "Accuracy train: 0.2235\n",
      "Accuracy test: 0.2134\n",
      "Accuracy train: 0.2224\n",
      "Accuracy test: 0.2131\n",
      "Accuracy train: 0.2223\n",
      "Accuracy test: 0.2134\n",
      "Accuracy train: 0.221\n",
      "Accuracy test: 0.2135\n",
      "Accuracy train: 0.2221\n",
      "Accuracy test: 0.214\n",
      "Accuracy train: 0.2202\n",
      "Accuracy test: 0.2141\n",
      "Accuracy train: 0.2239\n",
      "Accuracy test: 0.2155\n",
      "Accuracy train: 0.2215\n",
      "Accuracy test: 0.2141\n"
     ]
    }
   ],
   "source": [
    "#hyperpameters\n",
    "learning_rate = 1e-3\n",
    "num_epochs = 30\n",
    "batch_size = 128\n",
    "reg_weight =  0.001\n",
    "\n",
    "#defining the graph\n",
    "conv1 = tf.nn.conv2d(x, conv_filter, strides=[1,2,2,1], padding='SAME', name=\"conv1\")\n",
    "activ1 = tf.nn.relu(conv1)\n",
    "pool = tf.nn.max_pool(activ1, ksize=[1,2,2,1], strides=[1,2,2,1], padding='VALID')\n",
    "flat = tf.contrib.layers.flatten(pool)\n",
    "output = tf.nn.relu(tf.matmul(flat, W) +bias)\n",
    "\n",
    "regularizer = tf.nn.l2_loss(W) + tf.nn.l2_loss(conv1) \n",
    "\n",
    "#defintion of loss function and optimizer\n",
    "cost = tf.reduce_mean(tf.nn.softmax_cross_entropy_with_logits(labels=y, logits=output)) + reg_weight*regularizer\n",
    "optimizer = tf.train.RMSPropOptimizer(learning_rate=learning_rate).minimize(cost)\n",
    "\n",
    "# Accuracy\n",
    "correct_pred = tf.equal(tf.argmax(output, 1), tf.argmax(y, 1))\n",
    "accuracy = tf.reduce_mean(tf.cast(correct_pred, tf.float32), name='accuracy')\n",
    "\n",
    "acc_test_list = []\n",
    "acc_train_list = []\n",
    "acc_train_list_ = []\n",
    "\n",
    "#suscribing tensor to tensorboard\n",
    "with tf.name_scope('conv1'):\n",
    "    variable_summaries(conv1)\n",
    "\n",
    "with tf.name_scope('W'):\n",
    "    variable_summaries(W)\n",
    "\n",
    "with tf.name_scope('performance'):\n",
    "    tf.summary.scalar('accuracy', accuracy)\n",
    "    tf.summary.scalar('cost', cost)\n",
    "\n",
    "#running the graph\n",
    "with tf.Session() as sess:\n",
    "    \n",
    "    sess.run(tf.global_variables_initializer())\n",
    "    \n",
    "    summ_writer_train = tf.summary.FileWriter(os.path.join('summaries_simple','train'), sess.graph)\n",
    "    summ_writer_test = tf.summary.FileWriter(os.path.join('summaries_simple','test'), sess.graph)\n",
    "    \n",
    "    merged = tf.summary.merge_all()\n",
    "    \n",
    "    for epoch in range(num_epochs):\n",
    "        minibatches = random_mini_batches(X_train, y_train, batch_size, 1)\n",
    "        list_acc_ = []\n",
    "        \n",
    "        for i, minibatch in enumerate(minibatches):\n",
    "            batch_X, batch_y = minibatch\n",
    "            \n",
    "            _, cost_, acc_ = sess.run([optimizer, cost, accuracy],\n",
    "                                     feed_dict = {x: batch_X,\n",
    "                                                  y: batch_y})\n",
    "            list_acc_.append(acc_)\n",
    "\n",
    "        \n",
    "        summ_test, acc_test = sess.run([merged, accuracy], feed_dict = {x: X_test,\n",
    "                                                  y: y_test})\n",
    "        summ_train, acc_train = sess.run([merged, accuracy], feed_dict = {x: X_train[:10000,:],\n",
    "                                                  y: y_train[:10000,:]})\n",
    "        acc_train_list.append(acc_train)\n",
    "        acc_test_list.append(acc_test)\n",
    "        acc_train_list_.append(np.mean(list_acc_))\n",
    "        \n",
    "        print(\"Accuracy train:\", acc_train)\n",
    "        print(\"Accuracy test:\", acc_test)\n",
    "        \n",
    "        summ_writer_train.add_summary(summ_train, epoch)\n",
    "        summ_writer_test.add_summary(summ_test, epoch)\n",
    "        summ_writer_train.flush()\n",
    "        summ_writer_test.flush()"
   ]
  },
  {
   "cell_type": "code",
   "execution_count": 15,
   "metadata": {},
   "outputs": [
    {
     "data": {
      "text/plain": [
       "<matplotlib.legend.Legend at 0x2361a8a5240>"
      ]
     },
     "execution_count": 15,
     "metadata": {},
     "output_type": "execute_result"
    },
    {
     "data": {
      "image/png": "[encoded data removed]",
      "text/plain": [
       "<matplotlib.figure.Figure at 0x2361a862358>"
      ]
     },
     "metadata": {},
     "output_type": "display_data"
    }
   ],
   "source": [
    "plt.plot(acc_train_list)\n",
    "plt.plot(acc_test_list)\n",
    "plt.grid()\n",
    "plt.legend((\"Train\", \"Test\"))"
   ]
  },
  {
   "cell_type": "markdown",
   "metadata": {},
   "source": [
    "### More complex network\n",
    "\n",
    "Now we run a more complex network (with two convolutional layers nad two fully connected layers). We also change the activation function: instead of using ReLU, we use SeLU. We see that we achieved better results, however, the network can be further trained (with the full training set). We limit the training set due to RAM memory usage issues in the personal computer and in colaboratory."
   ]
  },
  {
   "cell_type": "code",
   "execution_count": 21,
   "metadata": {},
   "outputs": [],
   "source": [
    "#defining the graph\n",
    "tf.reset_default_graph()\n",
    "\n",
    "#placeholders\n",
    "x = tf.placeholder(tf.float32, shape=(None, 32, 32, 3), name='input_x')\n",
    "y =  tf.placeholder(tf.float32, shape=(None, 10), name='output_y')\n",
    "\n",
    "#variables\n",
    "conv1_filter = tf.Variable(tf.truncated_normal(shape=[3, 3, 3, 5], mean=0, stddev=0.1))\n",
    "conv2_filter = tf.Variable(tf.truncated_normal(shape=[3, 3, 5, 10], mean=0, stddev=0.1))\n",
    "\n",
    "W1 = tf.Variable(tf.truncated_normal(shape=[640, 100], mean=0, stddev=0.1))\n",
    "bias1 = tf.Variable(tf.truncated_normal(shape=[1, 100], mean=0, stddev=0.1))\n",
    "\n",
    "W2 = tf.Variable(tf.truncated_normal(shape=[100, num_classes], mean=0, stddev=0.1))\n",
    "bias2 = tf.Variable(tf.truncated_normal(shape=[num_classes], mean=0, stddev=0.1))\n",
    "\n",
    "#first convolutional layer\n",
    "conv1 = tf.nn.conv2d(x, conv1_filter, strides=[1,1,1,1], padding='SAME', name=\"conv1\")\n",
    "conv1_bn = tf.layers.batch_normalization(conv1)\n",
    "conv1_a = tf.nn.selu(conv1_bn)\n",
    "conv1_pool = tf.nn.max_pool(conv1_a, ksize=[1,2,2,1], strides=[1,2,2,1], padding='VALID')\n",
    "\n",
    "#second convolutional layer\n",
    "conv2 = tf.nn.conv2d(conv1_pool, conv2_filter, strides=[1,1,1,1], padding='SAME', name=\"conv12\")\n",
    "conv2_bn = tf.layers.batch_normalization(conv2)\n",
    "conv2_a = tf.nn.selu(conv2_bn)\n",
    "conv2_pool = tf.nn.max_pool(conv2_a, ksize=[1,2,2,1], strides=[1,2,2,1], padding='VALID')\n",
    "\n",
    "#fully connected layers\n",
    "flat = tf.contrib.layers.flatten(conv2_pool)  \n",
    "fc1 = tf.matmul(flat, W1) +  bias1\n",
    "fc1_bn = tf.layers.batch_normalization(fc1)\n",
    "fc1_a = tf.nn.selu(fc1_bn)\n",
    "\n",
    "\n",
    "output = tf.matmul(fc1_a, W2) + bias2\n"
   ]
  },
  {
   "cell_type": "code",
   "execution_count": 22,
   "metadata": {},
   "outputs": [
    {
     "name": "stdout",
     "output_type": "stream",
     "text": [
      "Epoch  0\n",
      "Accuracy train: 0.3135\n",
      "Accuracy test: 0.3164\n",
      "Epoch  1\n",
      "Accuracy train: 0.4092\n",
      "Accuracy test: 0.4006\n",
      "Epoch  2\n",
      "Accuracy train: 0.4446\n",
      "Accuracy test: 0.4329\n",
      "Epoch  3\n",
      "Accuracy train: 0.4476\n",
      "Accuracy test: 0.4365\n",
      "Epoch  4\n",
      "Accuracy train: 0.4687\n",
      "Accuracy test: 0.4506\n",
      "Epoch  5\n",
      "Accuracy train: 0.4756\n",
      "Accuracy test: 0.4559\n",
      "Epoch  6\n",
      "Accuracy train: 0.488\n",
      "Accuracy test: 0.4595\n",
      "Epoch  7\n",
      "Accuracy train: 0.5159\n",
      "Accuracy test: 0.4803\n",
      "Epoch  8\n",
      "Accuracy train: 0.5319\n",
      "Accuracy test: 0.4882\n",
      "Epoch  9\n",
      "Accuracy train: 0.5488\n",
      "Accuracy test: 0.4988\n",
      "Epoch  10\n",
      "Accuracy train: 0.5622\n",
      "Accuracy test: 0.509\n",
      "Epoch  11\n",
      "Accuracy train: 0.565\n",
      "Accuracy test: 0.5103\n",
      "Epoch  12\n",
      "Accuracy train: 0.5845\n",
      "Accuracy test: 0.5188\n",
      "Epoch  13\n",
      "Accuracy train: 0.574\n",
      "Accuracy test: 0.5109\n",
      "Epoch  14\n",
      "Accuracy train: 0.5884\n",
      "Accuracy test: 0.5186\n",
      "Epoch  15\n",
      "Accuracy train: 0.5844\n",
      "Accuracy test: 0.5135\n",
      "Epoch  16\n",
      "Accuracy train: 0.5918\n",
      "Accuracy test: 0.5184\n",
      "Epoch  17\n",
      "Accuracy train: 0.6023\n",
      "Accuracy test: 0.5252\n",
      "Epoch  18\n",
      "Accuracy train: 0.6079\n",
      "Accuracy test: 0.5338\n",
      "Epoch  19\n",
      "Accuracy train: 0.6136\n",
      "Accuracy test: 0.536\n",
      "Epoch  20\n",
      "Accuracy train: 0.6144\n",
      "Accuracy test: 0.5368\n",
      "Epoch  21\n",
      "Accuracy train: 0.6181\n",
      "Accuracy test: 0.5376\n",
      "Epoch  22\n",
      "Accuracy train: 0.6017\n",
      "Accuracy test: 0.5233\n",
      "Epoch  23\n",
      "Accuracy train: 0.6246\n",
      "Accuracy test: 0.5349\n",
      "Epoch  24\n",
      "Accuracy train: 0.606\n",
      "Accuracy test: 0.5188\n",
      "Epoch  25\n",
      "Accuracy train: 0.6235\n",
      "Accuracy test: 0.5341\n",
      "Epoch  26\n",
      "Accuracy train: 0.6153\n",
      "Accuracy test: 0.5282\n",
      "Epoch  27\n",
      "Accuracy train: 0.6112\n",
      "Accuracy test: 0.5254\n",
      "Epoch  28\n",
      "Accuracy train: 0.634\n",
      "Accuracy test: 0.5368\n",
      "Epoch  29\n",
      "Accuracy train: 0.6401\n",
      "Accuracy test: 0.5399\n",
      "Epoch  30\n",
      "Accuracy train: 0.6234\n",
      "Accuracy test: 0.5247\n",
      "Epoch  31\n",
      "Accuracy train: 0.6423\n",
      "Accuracy test: 0.5417\n",
      "Epoch  32\n",
      "Accuracy train: 0.6062\n",
      "Accuracy test: 0.5218\n",
      "Epoch  33\n",
      "Accuracy train: 0.6495\n",
      "Accuracy test: 0.5436\n",
      "Epoch  34\n",
      "Accuracy train: 0.6373\n",
      "Accuracy test: 0.5338\n",
      "Epoch  35\n",
      "Accuracy train: 0.6542\n",
      "Accuracy test: 0.5453\n",
      "Epoch  36\n",
      "Accuracy train: 0.6595\n",
      "Accuracy test: 0.5491\n",
      "Epoch  37\n",
      "Accuracy train: 0.6537\n",
      "Accuracy test: 0.5441\n",
      "Epoch  38\n",
      "Accuracy train: 0.6355\n",
      "Accuracy test: 0.5353\n",
      "Epoch  39\n",
      "Accuracy train: 0.6741\n",
      "Accuracy test: 0.55\n"
     ]
    }
   ],
   "source": [
    "learning_rate = 1e-3\n",
    "num_epochs = 40\n",
    "batch_size = 128\n",
    "reg_weight =  0.0001\n",
    "\n",
    "#defining cost function and optimizer\n",
    "regularizer = tf.nn.l2_loss(W1) + tf.nn.l2_loss(W2) + tf.nn.l2_loss(conv1) \n",
    "                                                    + tf.nn.l2_loss(conv2) \n",
    "cost = tf.reduce_mean(tf.nn.softmax_cross_entropy_with_logits(labels= y, \n",
    "                                                              logits=output)) \n",
    "                                                        + reg_weight*regularizer\n",
    "optimizer = tf.train.RMSPropOptimizer(learning_rate=learning_rate).minimize(cost)\n",
    "\n",
    "# Accuracy\n",
    "correct_pred = tf.equal(tf.argmax(output, 1), tf.argmax(y, 1))\n",
    "accuracy = tf.reduce_mean(tf.cast(correct_pred, tf.float32), name='accuracy')\n",
    "\n",
    "#susbcribing tensors to tensorboard\n",
    "with tf.name_scope('conv1'):\n",
    "    variable_summaries(conv1)\n",
    "    \n",
    "with tf.name_scope('conv2'):\n",
    "    variable_summaries(conv2)\n",
    "    \n",
    "with tf.name_scope('W1'):\n",
    "    variable_summaries(W1)\n",
    "\n",
    "with tf.name_scope('W2'):\n",
    "    variable_summaries(W2)\n",
    "\n",
    "with tf.name_scope('performance'):\n",
    "    tf.summary.scalar('accuracy', accuracy)\n",
    "    tf.summary.scalar('cost', cost)\n",
    "\n",
    "acc_test_list = []\n",
    "acc_train_list = []\n",
    "acc_train_list_ = []\n",
    "\n",
    "#running the graph\n",
    "with tf.Session() as sess:\n",
    "    \n",
    "    #initialinzg graph\n",
    "    sess.run(tf.global_variables_initializer())\n",
    "    \n",
    "    summ_writer_train = tf.summary.FileWriter(os.path.join('summaries_complex','train'), sess.graph)\n",
    "    summ_writer_test = tf.summary.FileWriter(os.path.join('summaries_complex','test'), sess.graph)\n",
    "\n",
    "    merged = tf.summary.merge_all()\n",
    "    \n",
    "    #iterations over epochs\n",
    "    for epoch in range(num_epochs):\n",
    "        \n",
    "        minibatches = random_mini_batches(X_train, y_train, batch_size, 1)\n",
    "        list_acc_ = []\n",
    "        for i, minibatch in enumerate(minibatches):\n",
    "            batch_X, batch_y = minibatch\n",
    "            \n",
    "            _, cost_, acc_ = sess.run([optimizer, cost, accuracy],\n",
    "                                     feed_dict = {x: batch_X,\n",
    "                                                  y: batch_y})\n",
    "            \n",
    "            list_acc_.append(acc_)\n",
    "\n",
    "        #computing the accuracy\n",
    "        summ_test, acc_test = sess.run([merged, accuracy], feed_dict = {x: X_test,\n",
    "                                                  y: y_test})\n",
    "        summ_train, acc_train = sess.run([merged, accuracy], feed_dict = {x: X_train[:10000,:],\n",
    "                                                  y: y_train[:10000,:]})\n",
    "        acc_train_list.append(acc_train)\n",
    "        acc_test_list.append(acc_test)\n",
    "        acc_train_list_.append(np.mean(list_acc_))\n",
    "        \n",
    "        #printing the accuracy\n",
    "        print(\"Epoch \", epoch)\n",
    "        print(\"Accuracy train:\", acc_train)\n",
    "        print(\"Accuracy test:\", acc_test)\n",
    "        \n",
    "        summ_writer_train.add_summary(summ_train, epoch)\n",
    "        summ_writer_test.add_summary(summ_test, epoch)\n",
    "        summ_writer_train.flush()\n",
    "        summ_writer_test.flush()"
   ]
  },
  {
   "cell_type": "code",
   "execution_count": 23,
   "metadata": {},
   "outputs": [
    {
     "data": {
      "text/plain": [
       "<matplotlib.legend.Legend at 0x2361d05d4a8>"
      ]
     },
     "execution_count": 23,
     "metadata": {},
     "output_type": "execute_result"
    },
    {
     "data": {
      "image/png": "[encoded data removed]",
      "text/plain": [
       "<matplotlib.figure.Figure at 0x2361b7752e8>"
      ]
     },
     "metadata": {},
     "output_type": "display_data"
    }
   ],
   "source": [
    "plt.plot(acc_train_list)\n",
    "plt.plot(acc_test_list)\n",
    "plt.grid()\n",
    "plt.legend((\"Train\", \"Test\"))"
   ]
  },
  {
   "cell_type": "markdown",
   "metadata": {
    "collapsed": true
   },
   "source": [
    "### References\n",
    "\n",
    "[1] Code from Minibatches taken from: https://github.com/andersy005/deep-learning-specialization-coursera/blob/master/02-Improving-Deep-Neural-Networks/week3/Programming-Assignments/tf_utils.py\n",
    "\n",
    "[2] Tensorboard: https://www.tensorflow.org/guide/summaries_and_tensorboard\n",
    "\n",
    "[3] CIFAR 10: https://www.cs.utoronto.ca/~kriz/cifar.html\n",
    "\n",
    "[4] Data augmentation in Tensorflow (Source 1): http://androidkt.com/tensorflow-image-augmentation-using-tf-image/\n",
    "\n",
    "[5] Data augmentation in Tensorflow (Source 2): https://medium.com/ymedialabs-innovation/data-augmentation-techniques-in-cnn-using-tensorflow-371ae43d5be9\n",
    "\n",
    "[6] Sergey Ioffe and Christin Szegedy: \"Batch Normalization: Accelerating Deep Netowrk Training by Reducing Internal Covariance Shift\" (Available in: https://arxiv.org/pdf/1502.03167v3.pdf)."
   ]
  }
 ],
 "metadata": {
  "kernelspec": {
   "display_name": "Python 3",
   "language": "python",
   "name": "python3"
  },
  "language_info": {
   "codemirror_mode": {
    "name": "ipython",
    "version": 3
   },
   "file_extension": ".py",
   "mimetype": "text/x-python",
   "name": "python",
   "nbconvert_exporter": "python",
   "pygments_lexer": "ipython3",
   "version": "3.6.3"
  }
 },
 "nbformat": 4,
 "nbformat_minor": 2
}
